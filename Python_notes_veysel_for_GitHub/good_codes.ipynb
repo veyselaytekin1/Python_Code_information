{
 "cells": [
  {
   "cell_type": "code",
   "execution_count": 2,
   "metadata": {},
   "outputs": [
    {
     "name": "stdout",
     "output_type": "stream",
     "text": [
      "Beşyüz Seksen Yedi\n"
     ]
    }
   ],
   "source": [
    "birler = {\"0\":\"\", \"1\":\"Bir\", \"2\":\"İki\", \"3\":\"Üç\", \"4\":\"Dört\", \"5\":\"Beş\", \"6\":\"Altı\", \"7\":\"Yedi\", \"8\":\"Sekiz\", \"9\":\"Dokuz\"}\n",
    "onlar = {\"0\":\"\", \"1\":\"On\", \"2\":\"Yirmi\", \"3\":\"Otuz\", \"4\":\"Kırk\", \"5\":\"Elli\", \"6\":\"Altmış\", \"7\":\"Yetmiş\", \"8\":\"Seksen\", \"9\":\"Doksan\"}\n",
    "yuzler = {\"0\":\"\", \"1\":\"Yüz\", \"2\":\"İkiyüz\", \"3\":\"Üçyüz\", \"4\":\"Dörtyüz\", \"5\":\"Beşyüz\", \"6\":\"Altıyüz\", \"7\":\"Yediyüz\", \"8\":\"Sekizyüz\", \"9\":\"Dokuzyüz\"}\n",
    "\n",
    "def okunus(sayi):\n",
    "    sayi = str(sayi)\n",
    "    if len(sayi) == 1: return f\"{birler[sayi]}\"\n",
    "    elif len(sayi) == 2: return f\"{onlar[sayi[0]]} {birler[sayi[1]]}\"\n",
    "    elif len(sayi) == 3: return f\"{yuzler[sayi[0]]} {onlar[sayi[1]]} {birler[sayi[2]]}\"\n",
    "\n",
    "sayi = int(input(\"Sayı: \"))\n",
    "print(okunus(sayi))"
   ]
  },
  {
   "cell_type": "code",
   "execution_count": null,
   "metadata": {},
   "outputs": [],
   "source": []
  }
 ],
 "metadata": {
  "kernelspec": {
   "display_name": "Python 3.11.0 64-bit",
   "language": "python",
   "name": "python3"
  },
  "language_info": {
   "codemirror_mode": {
    "name": "ipython",
    "version": 3
   },
   "file_extension": ".py",
   "mimetype": "text/x-python",
   "name": "python",
   "nbconvert_exporter": "python",
   "pygments_lexer": "ipython3",
   "version": "3.11.0"
  },
  "orig_nbformat": 4,
  "vscode": {
   "interpreter": {
    "hash": "aee8b7b246df8f9039afb4144a1f6fd8d2ca17a180786b69acc140d282b71a49"
   }
  }
 },
 "nbformat": 4,
 "nbformat_minor": 2
}
