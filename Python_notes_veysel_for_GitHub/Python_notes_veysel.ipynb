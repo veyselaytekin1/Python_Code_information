{
 "cells": [
  {
   "cell_type": "code",
   "execution_count": 43,
   "id": "a7e44265",
   "metadata": {},
   "outputs": [],
   "source": [
    "#manchmal können wir unsere Notebook restart machen,unter der Kernel,es erfrischt unsere Program"
   ]
  },
  {
   "cell_type": "code",
   "execution_count": 44,
   "id": "e39e7a2b",
   "metadata": {},
   "outputs": [],
   "source": [
    "#max 94 karakter tavsiyesi var,alt alta hizlica okunmasi icin   PEP8 "
   ]
  },
  {
   "cell_type": "code",
   "execution_count": 45,
   "id": "71fa0463",
   "metadata": {},
   "outputs": [],
   "source": [
    "#baslik icin basligi normal yaz,MArkdown yapip Run yap"
   ]
  },
  {
   "cell_type": "code",
   "execution_count": 46,
   "id": "56fcca5c",
   "metadata": {},
   "outputs": [],
   "source": [
    "#ondalikli sayi yazarken nokta ile yaz"
   ]
  },
  {
   "cell_type": "code",
   "execution_count": 47,
   "id": "04fa53eb",
   "metadata": {},
   "outputs": [
    {
     "name": "stdout",
     "output_type": "stream",
     "text": [
      "11.0\n"
     ]
    }
   ],
   "source": [
    "veysel=11\n",
    "\n",
    "mina=float(veysel)\n",
    "\n",
    "print(mina)        #bu sekilde float veya int sekline cevirebilirim"
   ]
  },
  {
   "cell_type": "code",
   "execution_count": 48,
   "id": "b18a3b12",
   "metadata": {},
   "outputs": [],
   "source": [
    "#True veya False   kelimeleri büyük harfle yazilir"
   ]
  },
  {
   "cell_type": "code",
   "execution_count": 49,
   "id": "4f0decd8",
   "metadata": {},
   "outputs": [],
   "source": [
    "#bos set tanimlamak.    my_set=set()     my={}  bu dict olur\n",
    "\n",
    "#setler elemanlar bir defa yazilir"
   ]
  },
  {
   "cell_type": "code",
   "execution_count": 50,
   "id": "cada151a",
   "metadata": {},
   "outputs": [
    {
     "name": "stdout",
     "output_type": "stream",
     "text": [
      "el\n",
      "Hel\n",
      "lo\n",
      "ell\n"
     ]
    }
   ],
   "source": [
    "name='Hello'\n",
    "print(name[1:3])     # 3 dahil degil\n",
    "\n",
    "print(name[:3])   #0 an baslar\n",
    "\n",
    "print(name[3:])   #sonu yoksa,sona kadar git demek\n",
    "\n",
    "print(name[-4:-1])   # en sonda olan -1 den basliyor\n",
    "\n",
    "                     #ama -1 dahil olmadigi icin o harfi gözükmedi"
   ]
  },
  {
   "cell_type": "code",
   "execution_count": 51,
   "id": "550d5223",
   "metadata": {},
   "outputs": [],
   "source": [
    "#ich habe von Herr klaus gelernt,\n",
    "#für unsere verschlüsseln funtion ,wenn wir möchten,\n",
    "#können wir von einen Texteditör datei text rufen,oder importieren\n",
    "\n",
    "\n",
    "#mit funktion open()    open() texti ceker, close() texi birakir"
   ]
  },
  {
   "cell_type": "markdown",
   "id": "7d5a6016-1574-44e9-8f79-c5af6392d2d5",
   "metadata": {},
   "source": [
    "erleichterung"
   ]
  },
  {
   "cell_type": "code",
   "execution_count": 52,
   "id": "ddb1c364",
   "metadata": {},
   "outputs": [],
   "source": [
    "#wenn wir import myBib machen,und wenn wir uns Vorschlagen sehen möchten,\n",
    "#myBib.   und dan  sollen wir auf TAB taste klicken."
   ]
  },
  {
   "cell_type": "code",
   "execution_count": 53,
   "id": "13ce69b3",
   "metadata": {},
   "outputs": [],
   "source": [
    "#leerdict={} \n",
    "# hier habe ich eine leere dictinory erstellt"
   ]
  },
  {
   "cell_type": "code",
   "execution_count": 54,
   "id": "3eb2740c",
   "metadata": {},
   "outputs": [],
   "source": [
    "#bosset=()   eine leere set"
   ]
  },
  {
   "cell_type": "code",
   "execution_count": 55,
   "id": "01d246cc-eb4f-4d91-9b3b-09883c9bf23a",
   "metadata": {},
   "outputs": [],
   "source": [
    "#wenn wir von eine liste viele Daten nehmen möchte,aber wir möchten die doppelte oder mehrere DAten nicht,\n",
    "#in diesem Fall können wir die Liste als set umwandeln,\n",
    "#in set jeder element soll nur einmal geschrieben werden."
   ]
  },
  {
   "cell_type": "code",
   "execution_count": 56,
   "id": "7baa38d4-632a-4a00-8d34-d43ea4371f5a",
   "metadata": {},
   "outputs": [],
   "source": [
    "#zumbeispiel wir haben so viele email adresse,und wenn wir nur eine bestimmte teil,\n",
    "#nehmen möchten,können wir sclincing (dilimleme) Methote verwenden"
   ]
  },
  {
   "cell_type": "markdown",
   "id": "7d35c38a-8a55-40ba-89a7-7711935c7fbb",
   "metadata": {},
   "source": [
    "len"
   ]
  },
  {
   "cell_type": "code",
   "execution_count": 57,
   "id": "03e292b9-c20f-4ba5-b457-b14b24979e21",
   "metadata": {},
   "outputs": [],
   "source": [
    "#len('kemal')  wenn ich zwischen klamer und Befelh klicke und gleichzeitih auf\n",
    "#schift+tab drücke ,python zeigt uns,worüber ist dieses Befehl"
   ]
  },
  {
   "cell_type": "markdown",
   "id": "ce30a6c5-7125-4315-a18c-bae5e6a0cb5b",
   "metadata": {},
   "source": [
    "Dilimleme Acces "
   ]
  },
  {
   "cell_type": "code",
   "execution_count": 58,
   "id": "8b0ecb61-d633-4b22-ab9f-cd8e51060233",
   "metadata": {},
   "outputs": [
    {
     "data": {
      "text/plain": [
       "'Karpu'"
      ]
     },
     "execution_count": 58,
     "metadata": {},
     "output_type": "execute_result"
    }
   ],
   "source": [
    "myStr='Armut ELma Karpuz'\n",
    "\n",
    "myStr[-6:]   #bu karpuz yazdiriyor\n",
    "\n",
    "myStr[-6:-1]  # myStr[3:6]. almak istedigin yerden bir faylasini yaz,-1 dahil edilmedigi son harf cikmadi"
   ]
  },
  {
   "cell_type": "code",
   "execution_count": 59,
   "id": "e4f94aa4-6c22-4f7e-a2dc-a9cb6577ddf4",
   "metadata": {},
   "outputs": [
    {
     "data": {
      "text/plain": [
       "'Armut ELma Karpuz'"
      ]
     },
     "execution_count": 59,
     "metadata": {},
     "output_type": "execute_result"
    }
   ],
   "source": [
    "myStr='Armut ELma Karpuz'\n",
    "myStr[:]  #wenn wir keine ZAhl verfassen,bringt ganz String"
   ]
  },
  {
   "cell_type": "code",
   "execution_count": null,
   "id": "13012b9c-021c-4b1a-bfed-13770a32c9f8",
   "metadata": {},
   "outputs": [],
   "source": []
  },
  {
   "cell_type": "code",
   "execution_count": 60,
   "id": "ff0037b2-503f-4fbd-a8fb-2ff615112bc8",
   "metadata": {},
   "outputs": [
    {
     "data": {
      "text/plain": [
       "'AmtEm apz'"
      ]
     },
     "execution_count": 60,
     "metadata": {},
     "output_type": "execute_result"
    }
   ],
   "source": [
    "myStr[0::2]    #es schreibt von Anfang bis zu Ende,"
   ]
  },
  {
   "cell_type": "code",
   "execution_count": 61,
   "id": "46c533d6-b086-44d9-9775-a8d930b005f8",
   "metadata": {},
   "outputs": [
    {
     "data": {
      "text/plain": [
       "'l'"
      ]
     },
     "execution_count": 61,
     "metadata": {},
     "output_type": "execute_result"
    }
   ],
   "source": [
    "'Hello'[2]    #Stringin yaninada yazilir"
   ]
  },
  {
   "cell_type": "markdown",
   "id": "95cfd675-da2d-473b-aacc-14a3962a363e",
   "metadata": {},
   "source": [
    "Slice"
   ]
  },
  {
   "cell_type": "code",
   "execution_count": 62,
   "id": "4c725bef-47f5-4a46-bb3f-85cad2898c98",
   "metadata": {},
   "outputs": [
    {
     "data": {
      "text/plain": [
       "'pu'"
      ]
     },
     "execution_count": 62,
     "metadata": {},
     "output_type": "execute_result"
    }
   ],
   "source": [
    "myStr='Armut ELma Karpuz'\n",
    "\n",
    "mydilim=slice(-3,-1)\n",
    "\n",
    "\n",
    "myStr[mydilim]  #hier habe ich etwas neues gelernt,\n",
    "\n",
    "#ich habe dir Slice definiert und kann ich es nacher aufrufen"
   ]
  },
  {
   "cell_type": "code",
   "execution_count": 63,
   "id": "0ea410c1-bace-44ad-a45f-9ad01dab8875",
   "metadata": {},
   "outputs": [
    {
     "data": {
      "text/plain": [
       "'aussen'"
      ]
     },
     "execution_count": 63,
     "metadata": {},
     "output_type": "execute_result"
    }
   ],
   "source": [
    "mystr='außen'\n",
    "\n",
    "mystr.casefold()   #wenn mit lower machen,lower kann ß nicht verändern"
   ]
  },
  {
   "cell_type": "code",
   "execution_count": 64,
   "id": "53bcf27a-2d32-45f8-93f0-1209681f8d1c",
   "metadata": {},
   "outputs": [
    {
     "name": "stdout",
     "output_type": "stream",
     "text": [
      "veysel\n"
     ]
    }
   ],
   "source": [
    "mystr='   veysel  '\n",
    "\n",
    "print(mystr.strip())    #es lässt die leerzechen von unsere text,von recht und links"
   ]
  },
  {
   "cell_type": "code",
   "execution_count": 65,
   "id": "76293a64-e455-451b-9d7e-b3d793ff3bfa",
   "metadata": {},
   "outputs": [
    {
     "ename": "SyntaxError",
     "evalue": "invalid syntax (3600370859.py, line 2)",
     "output_type": "error",
     "traceback": [
      "\u001b[0;36m  Input \u001b[0;32mIn [65]\u001b[0;36m\u001b[0m\n\u001b[0;31m    linke und\u001b[0m\n\u001b[0m          ^\u001b[0m\n\u001b[0;31mSyntaxError\u001b[0m\u001b[0;31m:\u001b[0m invalid syntax\n"
     ]
    }
   ],
   "source": [
    "mystr='mmmmveymselmmm'\n",
    "linke und \n",
    "print(mystr.strip('m'))  #was wir entfernen möchten können wir mit strip machen,\n",
    "                       #aber nur die auf den Linken Seite  und Rechten Seite steht"
   ]
  },
  {
   "cell_type": "code",
   "execution_count": null,
   "id": "2dd70a2f-bf13-4010-966b-da81d934b052",
   "metadata": {},
   "outputs": [
    {
     "ename": "SyntaxError",
     "evalue": "EOL while scanning string literal (1486727620.py, line 6)",
     "output_type": "error",
     "traceback": [
      "\u001b[0;36m  File \u001b[0;32m\"/var/folders/9_/vpq34lwj3bv0yhs22t_s7s7w0000gn/T/ipykernel_906/1486727620.py\"\u001b[0;36m, line \u001b[0;32m6\u001b[0m\n\u001b[0;31m    print('\\\"','veysel)\u001b[0m\n\u001b[0m                       ^\u001b[0m\n\u001b[0;31mSyntaxError\u001b[0m\u001b[0;31m:\u001b[0m EOL while scanning string literal\n"
     ]
    }
   ],
   "source": [
    "#'\\n'   es macht neue Zeile\n",
    "\n",
    "#'\\\"'  es fügt in unsere Ergebnis eine Aufführungzeichen\n",
    "\n",
    "\n",
    "print('\\\"','veysel)"
   ]
  },
  {
   "cell_type": "code",
   "execution_count": null,
   "id": "9d0701a6-24ef-43f9-8453-670bb06c8535",
   "metadata": {},
   "outputs": [],
   "source": []
  },
  {
   "cell_type": "code",
   "execution_count": null,
   "id": "c731e61e-45ed-4cfd-8405-32ba12d9cd24",
   "metadata": {},
   "outputs": [
    {
     "name": "stdout",
     "output_type": "stream",
     "text": [
      "veysel \n",
      " aytekin\n"
     ]
    }
   ],
   "source": [
    "name=\"veysel \\n aytekin\"    # es stellt eine neue Zeile\n",
    "\n",
    "print(name)"
   ]
  },
  {
   "cell_type": "code",
   "execution_count": null,
   "id": "82efab0d-2122-4bec-95a6-d05f058c38b1",
   "metadata": {},
   "outputs": [],
   "source": []
  },
  {
   "cell_type": "code",
   "execution_count": null,
   "id": "db28c04a-7685-4b97-afb3-d1fb6b7757fe",
   "metadata": {},
   "outputs": [],
   "source": [
    "#pip install pandas     #mit diesem Methote können wir eine Library installieren"
   ]
  },
  {
   "cell_type": "code",
   "execution_count": null,
   "id": "17e82792-fbe0-4e35-872a-d01787f652dc",
   "metadata": {},
   "outputs": [],
   "source": []
  },
  {
   "cell_type": "code",
   "execution_count": null,
   "id": "d8a9e48e-86dd-4fa1-82b1-dac3684dce9a",
   "metadata": {},
   "outputs": [],
   "source": []
  },
  {
   "cell_type": "code",
   "execution_count": null,
   "id": "eb5db06c-6eb6-46d0-bc6d-5f50cb9bc067",
   "metadata": {},
   "outputs": [],
   "source": []
  },
  {
   "cell_type": "code",
   "execution_count": null,
   "id": "7b1fce86-546c-493d-b6fe-d9989567112f",
   "metadata": {},
   "outputs": [],
   "source": []
  },
  {
   "cell_type": "markdown",
   "id": "aee28328-86d2-49c7-b851-7b387eed7baa",
   "metadata": {},
   "source": [
    "dilimlemeyi,bir degiskene atayabiliriz"
   ]
  },
  {
   "cell_type": "code",
   "execution_count": null,
   "id": "07013d72-61f3-4bf9-803f-a952ea644119",
   "metadata": {},
   "outputs": [],
   "source": [
    "dilim=slice(2,7,2)   #von 2 bis 7 nimmt und überspring zu zweit"
   ]
  },
  {
   "cell_type": "code",
   "execution_count": null,
   "id": "5e972488-c6be-4408-8bd2-6c3135d0e751",
   "metadata": {},
   "outputs": [],
   "source": [
    "mystr='Armut ELma Karpuz'"
   ]
  },
  {
   "cell_type": "code",
   "execution_count": null,
   "id": "a7aee3cc-47f6-4de6-a441-07a4e05e0250",
   "metadata": {},
   "outputs": [
    {
     "data": {
      "text/plain": [
       "'mtE'"
      ]
     },
     "execution_count": 9,
     "metadata": {},
     "output_type": "execute_result"
    }
   ],
   "source": [
    "mystr[dilim]"
   ]
  },
  {
   "cell_type": "code",
   "execution_count": null,
   "id": "617af2cf-1a1e-4b57-9edc-47df615099dc",
   "metadata": {},
   "outputs": [],
   "source": []
  },
  {
   "cell_type": "code",
   "execution_count": null,
   "id": "7a2a60a8-d02a-4d1f-ae35-000d85c629c2",
   "metadata": {},
   "outputs": [],
   "source": []
  },
  {
   "cell_type": "code",
   "execution_count": null,
   "id": "54e38a54-ad90-498f-a23d-8af8cdaa5d97",
   "metadata": {},
   "outputs": [],
   "source": []
  },
  {
   "cell_type": "code",
   "execution_count": null,
   "id": "64f36bbc-500e-41e1-9ce9-9ca840c5070f",
   "metadata": {},
   "outputs": [],
   "source": [
    "myStr='Armut ELma Karpuz'"
   ]
  },
  {
   "cell_type": "code",
   "execution_count": null,
   "id": "321c135a-2785-4307-8b66-09db90f674b5",
   "metadata": {},
   "outputs": [
    {
     "data": {
      "text/plain": [
       "'ARMUT ELMA KARPUZ'"
      ]
     },
     "execution_count": 13,
     "metadata": {},
     "output_type": "execute_result"
    }
   ],
   "source": [
    "myStr.upper()    #es ist nur ,wo wir es umgesetzt haben,aktiv ist.\n"
   ]
  },
  {
   "cell_type": "code",
   "execution_count": null,
   "id": "c31d8576-1ecf-416e-b560-edecf44f9984",
   "metadata": {},
   "outputs": [
    {
     "data": {
      "text/plain": [
       "'Armut ELma Karpuz'"
      ]
     },
     "execution_count": 12,
     "metadata": {},
     "output_type": "execute_result"
    }
   ],
   "source": [
    "myStr"
   ]
  },
  {
   "cell_type": "code",
   "execution_count": null,
   "id": "940ac91b-bedd-4389-abbc-23cb19159b63",
   "metadata": {},
   "outputs": [],
   "source": []
  },
  {
   "cell_type": "code",
   "execution_count": null,
   "id": "3c126ab2-6db3-4ca5-bbb5-5ea7d57deb51",
   "metadata": {},
   "outputs": [],
   "source": []
  },
  {
   "cell_type": "code",
   "execution_count": null,
   "id": "addeec50-4fdd-479d-af63-fd59ff2099b0",
   "metadata": {},
   "outputs": [
    {
     "data": {
      "text/plain": [
       "'veysel'"
      ]
     },
     "execution_count": 14,
     "metadata": {},
     "output_type": "execute_result"
    }
   ],
   "source": [
    "mystr2='wwwveyselwww'\n",
    "\n",
    "mystr2.replace('w','')     #eger oraya tire koysaydim,w yerine hep tire koyardi"
   ]
  },
  {
   "cell_type": "code",
   "execution_count": null,
   "id": "c17619f2-b25d-49af-9534-f6b23d9363a3",
   "metadata": {},
   "outputs": [],
   "source": []
  },
  {
   "cell_type": "code",
   "execution_count": null,
   "id": "65d883fb-b943-482a-a6fb-f321b266449f",
   "metadata": {},
   "outputs": [],
   "source": []
  },
  {
   "cell_type": "code",
   "execution_count": null,
   "id": "18ab239e-7bf7-4c90-8ba5-381468180920",
   "metadata": {},
   "outputs": [
    {
     "name": "stdout",
     "output_type": "stream",
     "text": [
      "veysel'aytekin'\n"
     ]
    }
   ],
   "source": [
    "myStr='veysel\\'aytekin\\''    #backslash soll ich verwenden,wenn wir 2 mal string lasse\n",
    "                             #oder tekli sonrada ciftli kesme isareti kullaniriz\n",
    "\n",
    "print(myStr)"
   ]
  },
  {
   "cell_type": "code",
   "execution_count": null,
   "id": "0505d9be-3640-43bb-82b5-ca1332292a12",
   "metadata": {},
   "outputs": [],
   "source": []
  },
  {
   "cell_type": "code",
   "execution_count": null,
   "id": "8679ef77-44b3-44ca-9d46-945615cb1fda",
   "metadata": {},
   "outputs": [],
   "source": []
  },
  {
   "cell_type": "code",
   "execution_count": null,
   "id": "d8e7d872-417b-4187-b18e-ede530efc8fe",
   "metadata": {},
   "outputs": [
    {
     "name": "stdout",
     "output_type": "stream",
     "text": [
      "hello\t veysel\n"
     ]
    }
   ],
   "source": [
    "print('hello\\t veysel')     #wenn wir zwischen beide eine TAB lassen möcten,mit backslash"
   ]
  },
  {
   "cell_type": "code",
   "execution_count": null,
   "id": "e7185828-1817-42ed-a7dd-a8e489c9bda0",
   "metadata": {},
   "outputs": [],
   "source": []
  },
  {
   "cell_type": "code",
   "execution_count": null,
   "id": "08a8b6d2-e0f7-4b93-8388-30733fced480",
   "metadata": {},
   "outputs": [],
   "source": []
  },
  {
   "cell_type": "code",
   "execution_count": null,
   "id": "b11d25d2-e1c6-45ee-b55c-44fe02a21623",
   "metadata": {},
   "outputs": [],
   "source": []
  },
  {
   "cell_type": "code",
   "execution_count": null,
   "id": "f4a00750-29da-4e6b-a463-a8cce9146de1",
   "metadata": {},
   "outputs": [],
   "source": [
    "import string  as x"
   ]
  },
  {
   "cell_type": "code",
   "execution_count": null,
   "id": "c9729fea-deaa-4c9c-83ec-ca34b7d8ccfc",
   "metadata": {},
   "outputs": [
    {
     "data": {
      "text/plain": [
       "'!\"#$%&\\'()*+,-./:;<=>?@[\\\\]^_`{|}~'"
      ]
     },
     "execution_count": 22,
     "metadata": {},
     "output_type": "execute_result"
    }
   ],
   "source": [
    "x.punctuation      #es gibt uns die Zeichnen aus"
   ]
  },
  {
   "cell_type": "code",
   "execution_count": null,
   "id": "d0b00dc1-0621-4900-ac99-a9f52a138199",
   "metadata": {},
   "outputs": [],
   "source": []
  },
  {
   "cell_type": "markdown",
   "id": "dec68d7e-e752-483a-a635-30e6a7d20353",
   "metadata": {},
   "source": [
    "format yazim sekli"
   ]
  },
  {
   "cell_type": "code",
   "execution_count": null,
   "id": "76f5d11e-37d1-48a8-9aeb-8f7346e7e9e4",
   "metadata": {},
   "outputs": [
    {
     "data": {
      "text/plain": [
       "'benim adim murat'"
      ]
     },
     "execution_count": 30,
     "metadata": {},
     "output_type": "execute_result"
    }
   ],
   "source": [
    "myName='murat'\n",
    "mySurname='aytekin'\n",
    "\n",
    "'benim adim {}'.format(myName)    #iki degiskende verilebiliyor"
   ]
  },
  {
   "cell_type": "code",
   "execution_count": null,
   "id": "be53932b-bbcc-4151-ba13-178408049b3e",
   "metadata": {},
   "outputs": [],
   "source": []
  },
  {
   "cell_type": "code",
   "execution_count": null,
   "id": "8c4b083a-af91-45da-8184-c93c5828242e",
   "metadata": {},
   "outputs": [
    {
     "data": {
      "text/plain": [
       "'2 4 6 '"
      ]
     },
     "execution_count": 32,
     "metadata": {},
     "output_type": "execute_result"
    }
   ],
   "source": [
    "'{} {} {} '.format('2',4,6)      ' sirayla koyar format"
   ]
  },
  {
   "cell_type": "code",
   "execution_count": null,
   "id": "59ef220b-b3fc-448b-983b-b7469aff5221",
   "metadata": {},
   "outputs": [
    {
     "data": {
      "text/plain": [
       "'abra kadabra abra '"
      ]
     },
     "execution_count": 33,
     "metadata": {},
     "output_type": "execute_result"
    }
   ],
   "source": [
    "'{0} {1} {0} '.format('abra','kadabra')"
   ]
  },
  {
   "cell_type": "code",
   "execution_count": null,
   "id": "482ff0a9-62e1-4737-9a36-8d6ff0186515",
   "metadata": {},
   "outputs": [],
   "source": []
  },
  {
   "cell_type": "code",
   "execution_count": null,
   "id": "9790269b-3173-4113-a339-c14b58d283b7",
   "metadata": {},
   "outputs": [
    {
     "data": {
      "text/plain": [
       "'X:3,Y:5'"
      ]
     },
     "execution_count": 34,
     "metadata": {},
     "output_type": "execute_result"
    }
   ],
   "source": [
    "coor=(3,5)\n",
    "\n",
    "'X:{0[0]},Y:{0[1]}'.format(coor)  #hierbei nimmt paython die coor als variable\n",
    "\n",
    "                                  #0[0]  bastaki sifir coor demek[0] buda  formatin  sifirinci elemani demek"
   ]
  },
  {
   "cell_type": "code",
   "execution_count": null,
   "id": "43322d28-d04d-4755-9cb9-ce82459cd100",
   "metadata": {},
   "outputs": [
    {
     "data": {
      "text/plain": [
       "'X:3,Y:e'"
      ]
     },
     "execution_count": 35,
     "metadata": {},
     "output_type": "execute_result"
    }
   ],
   "source": [
    "coor=(3,5)\n",
    "\n",
    "'X:{0[0]},Y:{1[1]}'.format(coor,'hello')    #{1[1]} bastaki bir hello demek,yanindaki 1 onun 1 ci indexi"
   ]
  },
  {
   "cell_type": "code",
   "execution_count": null,
   "id": "5abc98b9-9211-42f7-a8c1-7d0c2a61ae0d",
   "metadata": {},
   "outputs": [],
   "source": []
  },
  {
   "cell_type": "code",
   "execution_count": null,
   "id": "35e9d8e4-ba9e-4f7a-8cc1-955106bafac4",
   "metadata": {},
   "outputs": [
    {
     "data": {
      "text/plain": [
       "'name is 60 years old'"
      ]
     },
     "execution_count": 39,
     "metadata": {},
     "output_type": "execute_result"
    }
   ],
   "source": [
    "name='name'\n",
    "age=60\n",
    "\n",
    "'%s is %d years old'%(name,age)   #  %name demek bir nevi {} bunun gibi#\n",
    "                                  #degiskeni oraya oturtmak icin yapiyoruz"
   ]
  },
  {
   "cell_type": "code",
   "execution_count": null,
   "id": "7f16b14b-9965-458d-97c6-a8d23237a422",
   "metadata": {},
   "outputs": [],
   "source": []
  },
  {
   "cell_type": "code",
   "execution_count": null,
   "id": "b1346bfc-5cbc-4dac-8688-928cbbac8869",
   "metadata": {},
   "outputs": [],
   "source": []
  },
  {
   "cell_type": "code",
   "execution_count": null,
   "id": "c41ddfed-cd85-49c5-aaf9-a2ba5a746b98",
   "metadata": {},
   "outputs": [
    {
     "data": {
      "text/plain": [
       "False"
      ]
     },
     "execution_count": 40,
     "metadata": {},
     "output_type": "execute_result"
    }
   ],
   "source": [
    "#endswith()       #ifadenin sonu a ile bitiyormu diyw sorguluyor 'a' yazdigim icin\n",
    "\n",
    "myStr='veysel'\n",
    "\n",
    "myStr.endswith('a')"
   ]
  },
  {
   "cell_type": "code",
   "execution_count": null,
   "id": "d0862e2d-9a8c-4065-bf40-fc2f8ab2ba24",
   "metadata": {},
   "outputs": [
    {
     "data": {
      "text/plain": [
       "True"
      ]
     },
     "execution_count": 41,
     "metadata": {},
     "output_type": "execute_result"
    }
   ],
   "source": [
    "myStr='veysel'\n",
    "\n",
    "myStr.endswith('l')  "
   ]
  },
  {
   "cell_type": "code",
   "execution_count": null,
   "id": "da5b344e-9eaf-44d2-a687-f056646fed49",
   "metadata": {},
   "outputs": [],
   "source": []
  },
  {
   "cell_type": "markdown",
   "id": "28d0c9ba-a9e7-46cc-a059-6741a5770096",
   "metadata": {},
   "source": [
    "center toplam 5 karakterlik yere,ortaya # leri yaziyor"
   ]
  },
  {
   "cell_type": "code",
   "execution_count": null,
   "id": "85d6d215-6f36-43ac-b9e7-ba8565f3f383",
   "metadata": {},
   "outputs": [
    {
     "name": "stdout",
     "output_type": "stream",
     "text": [
      "--#--\n",
      "-###-\n",
      "#####\n",
      "-###-\n",
      "--#--\n"
     ]
    }
   ],
   "source": [
    "mystr='#'\n",
    "mystr2='###'\n",
    "mystr3='#####'   #'#'*5 olursa 5 defa yanyana yazar\n",
    "\n",
    "\n",
    "print(mystr.center(5,'-'))\n",
    "print(mystr2.center(5,'-'))\n",
    "print(mystr3.center(5,'-'))\n",
    "print(mystr2.center(5,'-'))\n",
    "print(mystr.center(5,'-'))"
   ]
  },
  {
   "cell_type": "code",
   "execution_count": null,
   "id": "d87847b8-7b52-45a2-8eb2-5bc8b4418752",
   "metadata": {},
   "outputs": [
    {
     "data": {
      "text/plain": [
       "4"
      ]
     },
     "execution_count": 51,
     "metadata": {},
     "output_type": "execute_result"
    }
   ],
   "source": [
    "myStr='merhaba dünya'\n",
    "\n",
    "myStr.find('a')    #myStr.index te olur ama aradigin sey yoksa hata raporu verir\n",
    "\n",
    "                    #Kacinci sirada oldugunu gösteriyor,es zeigt index,die welche sie erste gestoßen ist"
   ]
  },
  {
   "cell_type": "code",
   "execution_count": null,
   "id": "9a65647a-bc1b-4d61-82c3-1f68f7e4b606",
   "metadata": {},
   "outputs": [],
   "source": []
  },
  {
   "cell_type": "code",
   "execution_count": null,
   "id": "6e904651-5fef-43dc-b85f-733d30c8085f",
   "metadata": {},
   "outputs": [],
   "source": []
  },
  {
   "cell_type": "code",
   "execution_count": null,
   "id": "a1fa2683-fb08-407d-b9db-98fe8c66dd9b",
   "metadata": {},
   "outputs": [],
   "source": []
  },
  {
   "cell_type": "code",
   "execution_count": null,
   "id": "dcf30378-49e3-4aae-aa5b-08d34f57dca5",
   "metadata": {},
   "outputs": [],
   "source": [
    "data=\"From murat.akca@techproed.com Sat Jan 4 19:10:16 2011\""
   ]
  },
  {
   "cell_type": "code",
   "execution_count": null,
   "id": "396e9dd7-4de4-410e-a6d1-c4a5272a703c",
   "metadata": {},
   "outputs": [],
   "source": [
    "data2=\"From murat.akca@techproed.com Sat Jan 4 99d19:10:16 2011\""
   ]
  },
  {
   "cell_type": "code",
   "execution_count": null,
   "id": "b9327716-854b-4ded-8fdc-269136d2d9b4",
   "metadata": {},
   "outputs": [],
   "source": [
    "data3=\"From murat.akca@techproed.com Sat Jan 4 19:10:16 2011\""
   ]
  },
  {
   "cell_type": "code",
   "execution_count": null,
   "id": "d2269a5a-37a0-4cf7-93d8-3ae60aa5aa25",
   "metadata": {},
   "outputs": [],
   "source": []
  },
  {
   "cell_type": "code",
   "execution_count": null,
   "id": "72a24546-e6a5-467d-ac85-6ef8e2234315",
   "metadata": {},
   "outputs": [],
   "source": []
  },
  {
   "cell_type": "code",
   "execution_count": null,
   "id": "61005dfe-08dc-411d-ba1b-d6f6e3e91a3c",
   "metadata": {},
   "outputs": [],
   "source": []
  },
  {
   "cell_type": "code",
   "execution_count": null,
   "id": "063ef29f-8658-4c0d-b40d-60adbe06dae9",
   "metadata": {},
   "outputs": [],
   "source": []
  },
  {
   "cell_type": "code",
   "execution_count": null,
   "id": "c96dd6b1-3bc6-46e3-a85d-640f654d2b95",
   "metadata": {},
   "outputs": [],
   "source": []
  },
  {
   "cell_type": "code",
   "execution_count": null,
   "id": "6998e4df-669c-49d3-b7ad-2dccf713e06c",
   "metadata": {},
   "outputs": [],
   "source": []
  },
  {
   "cell_type": "code",
   "execution_count": null,
   "id": "22fef665-5d90-4ef7-a4ec-e9091f21095e",
   "metadata": {},
   "outputs": [
    {
     "data": {
      "text/plain": [
       "True"
      ]
     },
     "execution_count": 55,
     "metadata": {},
     "output_type": "execute_result"
    }
   ],
   "source": [
    "'hello world'.islower()    #hepsinin kücuk harf ise True verir yoksa False verir"
   ]
  },
  {
   "cell_type": "code",
   "execution_count": null,
   "id": "e8ba1fee-8191-4523-99c2-2e8f03ee18f2",
   "metadata": {},
   "outputs": [],
   "source": []
  },
  {
   "cell_type": "code",
   "execution_count": null,
   "id": "403e31e7-7f42-4356-a38e-55b1d113d182",
   "metadata": {},
   "outputs": [],
   "source": []
  },
  {
   "cell_type": "code",
   "execution_count": null,
   "id": "9e6e7a07-47f1-49dc-ad0f-9f8821604fbb",
   "metadata": {},
   "outputs": [
    {
     "data": {
      "text/plain": [
       "['__add__',\n",
       " '__class__',\n",
       " '__class_getitem__',\n",
       " '__contains__',\n",
       " '__delattr__',\n",
       " '__delitem__',\n",
       " '__dir__',\n",
       " '__doc__',\n",
       " '__eq__',\n",
       " '__format__',\n",
       " '__ge__',\n",
       " '__getattribute__',\n",
       " '__getitem__',\n",
       " '__gt__',\n",
       " '__hash__',\n",
       " '__iadd__',\n",
       " '__imul__',\n",
       " '__init__',\n",
       " '__init_subclass__',\n",
       " '__iter__',\n",
       " '__le__',\n",
       " '__len__',\n",
       " '__lt__',\n",
       " '__mul__',\n",
       " '__ne__',\n",
       " '__new__',\n",
       " '__reduce__',\n",
       " '__reduce_ex__',\n",
       " '__repr__',\n",
       " '__reversed__',\n",
       " '__rmul__',\n",
       " '__setattr__',\n",
       " '__setitem__',\n",
       " '__sizeof__',\n",
       " '__str__',\n",
       " '__subclasshook__',\n",
       " 'append',\n",
       " 'clear',\n",
       " 'copy',\n",
       " 'count',\n",
       " 'extend',\n",
       " 'index',\n",
       " 'insert',\n",
       " 'pop',\n",
       " 'remove',\n",
       " 'reverse',\n",
       " 'sort']"
      ]
     },
     "execution_count": 56,
     "metadata": {},
     "output_type": "execute_result"
    }
   ],
   "source": [
    "dir([])"
   ]
  },
  {
   "cell_type": "code",
   "execution_count": null,
   "id": "a1476bbd-1ef4-4fd7-a72c-1b6e3cbf948c",
   "metadata": {},
   "outputs": [],
   "source": []
  },
  {
   "cell_type": "code",
   "execution_count": null,
   "id": "ed8df388-fe12-4e7a-862b-750219553dc6",
   "metadata": {},
   "outputs": [],
   "source": []
  },
  {
   "cell_type": "code",
   "execution_count": null,
   "id": "bd37fe64-5fbb-4f4b-887d-0a0fddf00ae4",
   "metadata": {},
   "outputs": [],
   "source": []
  },
  {
   "cell_type": "code",
   "execution_count": null,
   "id": "2f6d6958-9ffe-4537-a37d-e3e727517200",
   "metadata": {},
   "outputs": [],
   "source": [
    "#herzaman False olan degerler var,lazim olunca internetten bakariz"
   ]
  },
  {
   "cell_type": "code",
   "execution_count": null,
   "id": "a8115b98-8bd0-4075-978b-30f78e8a286c",
   "metadata": {},
   "outputs": [],
   "source": []
  },
  {
   "cell_type": "code",
   "execution_count": null,
   "id": "16f54735-d453-4e91-99fd-44563fb6445d",
   "metadata": {},
   "outputs": [],
   "source": []
  },
  {
   "cell_type": "code",
   "execution_count": null,
   "id": "e9c9d25d-af84-43dc-966f-2b073f1a04ed",
   "metadata": {},
   "outputs": [
    {
     "name": "stdout",
     "output_type": "stream",
     "text": [
      "False\n",
      "False\n"
     ]
    }
   ],
   "source": [
    "print(bool(0))      #bool zeigt uns,ob die element True ist oder False\n",
    "\n",
    "\n",
    "print(bool(''))    #string ici bos olsa True veriyor"
   ]
  },
  {
   "cell_type": "code",
   "execution_count": null,
   "id": "0df47e19-14d4-414c-93a0-bb0d1ea5f064",
   "metadata": {},
   "outputs": [],
   "source": []
  },
  {
   "cell_type": "code",
   "execution_count": null,
   "id": "de4a2e0a-5651-4e2f-a086-1c784d34fbca",
   "metadata": {},
   "outputs": [],
   "source": []
  },
  {
   "cell_type": "code",
   "execution_count": null,
   "id": "4d9cbe1f-bfa4-41a3-b4d0-33f4911a4020",
   "metadata": {},
   "outputs": [
    {
     "data": {
      "text/plain": [
       "False"
      ]
     },
     "execution_count": 66,
     "metadata": {},
     "output_type": "execute_result"
    }
   ],
   "source": [
    "False and True     #MAntiktaki ve veya gibi"
   ]
  },
  {
   "cell_type": "code",
   "execution_count": null,
   "id": "d9362930-39a2-41d5-871f-c3bed57fb3db",
   "metadata": {},
   "outputs": [
    {
     "data": {
      "text/plain": [
       "True"
      ]
     },
     "execution_count": 67,
     "metadata": {},
     "output_type": "execute_result"
    }
   ],
   "source": [
    "False or True"
   ]
  },
  {
   "cell_type": "code",
   "execution_count": null,
   "id": "4845463d-be5a-4082-8826-d657f68439f2",
   "metadata": {},
   "outputs": [],
   "source": []
  },
  {
   "cell_type": "code",
   "execution_count": null,
   "id": "7d0523a8-dfc0-4311-8d77-439d30dfa95b",
   "metadata": {},
   "outputs": [
    {
     "data": {
      "text/plain": [
       "False"
      ]
     },
     "execution_count": 69,
     "metadata": {},
     "output_type": "execute_result"
    }
   ],
   "source": [
    "not(5>2)          #not cevabi tersine ceviriyor"
   ]
  },
  {
   "cell_type": "code",
   "execution_count": null,
   "id": "7c8ae60a-297d-490e-9dff-7d41900961ad",
   "metadata": {},
   "outputs": [],
   "source": []
  },
  {
   "cell_type": "code",
   "execution_count": null,
   "id": "4c03fb1a-d1e3-48c7-95a4-ff6dc3cf9e61",
   "metadata": {},
   "outputs": [
    {
     "data": {
      "text/plain": [
       "False"
      ]
     },
     "execution_count": 64,
     "metadata": {},
     "output_type": "execute_result"
    }
   ],
   "source": [
    "bool('') and True"
   ]
  },
  {
   "cell_type": "code",
   "execution_count": null,
   "id": "a510f73b-6605-446c-b205-a9a722e4acb8",
   "metadata": {},
   "outputs": [],
   "source": []
  },
  {
   "cell_type": "code",
   "execution_count": null,
   "id": "0d7d4a16-f1b5-4b4f-b7e1-6b27a18eeb26",
   "metadata": {},
   "outputs": [],
   "source": []
  },
  {
   "cell_type": "code",
   "execution_count": null,
   "id": "fe1f7df0-e1f3-4a0b-b5f5-3079db81a71e",
   "metadata": {},
   "outputs": [
    {
     "data": {
      "text/plain": [
       "True"
      ]
     },
     "execution_count": 70,
     "metadata": {},
     "output_type": "execute_result"
    }
   ],
   "source": [
    "'a' in 'Merhaba'"
   ]
  },
  {
   "cell_type": "code",
   "execution_count": null,
   "id": "6060c921-4905-4c19-90cd-10c6fa028a27",
   "metadata": {},
   "outputs": [
    {
     "data": {
      "text/plain": [
       "False"
      ]
     },
     "execution_count": 71,
     "metadata": {},
     "output_type": "execute_result"
    }
   ],
   "source": [
    "'a' not in 'Merhaba'"
   ]
  },
  {
   "cell_type": "code",
   "execution_count": null,
   "id": "8bedf6ec-852c-4aca-ad48-dedcf0b98183",
   "metadata": {},
   "outputs": [],
   "source": []
  },
  {
   "cell_type": "code",
   "execution_count": null,
   "id": "7cb6f259-ae41-4e05-b254-ef9aa0259430",
   "metadata": {},
   "outputs": [],
   "source": []
  },
  {
   "cell_type": "code",
   "execution_count": null,
   "id": "c47e454c-8ae4-4129-8de1-1baa568b326f",
   "metadata": {},
   "outputs": [],
   "source": []
  },
  {
   "cell_type": "code",
   "execution_count": null,
   "id": "f7c75e50-e18b-4a57-8271-e25dd8955469",
   "metadata": {},
   "outputs": [
    {
     "name": "stdout",
     "output_type": "stream",
     "text": [
      "['h', 'e', 'l', 'l', 'o']\n",
      "['h', 'e', 'l', 'l', 'o', 'h', 'e', 'l', 'l', 'o']\n"
     ]
    }
   ],
   "source": [
    "myStr='hello'\n",
    "\n",
    "newmylist=list(myStr)\n",
    "\n",
    "print(newmylist)\n",
    "\n",
    "\n",
    "\n",
    "print(newmylist+newmylist)    #iki listeyi toplayabiliriz"
   ]
  },
  {
   "cell_type": "code",
   "execution_count": null,
   "id": "921d6ea7-3212-4ef1-a421-d552d009b6c9",
   "metadata": {},
   "outputs": [],
   "source": []
  },
  {
   "cell_type": "code",
   "execution_count": null,
   "id": "bd399441-a268-4025-8904-2b847eef86d1",
   "metadata": {},
   "outputs": [],
   "source": []
  },
  {
   "cell_type": "code",
   "execution_count": null,
   "id": "9d05cc0f-0550-4ed8-bbfa-f00cb208abc1",
   "metadata": {},
   "outputs": [],
   "source": []
  },
  {
   "cell_type": "code",
   "execution_count": null,
   "id": "826e8659-02b0-4019-a5ce-de67a988dbc1",
   "metadata": {},
   "outputs": [
    {
     "name": "stdout",
     "output_type": "stream",
     "text": [
      "[5, 6]\n"
     ]
    }
   ],
   "source": [
    "myList=['hello',True,1,[1,5,6]]\n",
    "print(myList[-1][1:]) #-1 ci elemanin icinden eleman cektik"
   ]
  },
  {
   "cell_type": "code",
   "execution_count": null,
   "id": "c90face5-c3b8-4e4e-8822-1b6ed2cd2780",
   "metadata": {},
   "outputs": [],
   "source": []
  },
  {
   "cell_type": "code",
   "execution_count": null,
   "id": "ba00aec5-927a-41ee-b63b-b817e08fc635",
   "metadata": {},
   "outputs": [],
   "source": []
  },
  {
   "cell_type": "code",
   "execution_count": null,
   "id": "06783953-336c-49dc-b2f5-9abdaface88d",
   "metadata": {},
   "outputs": [],
   "source": []
  },
  {
   "cell_type": "code",
   "execution_count": null,
   "id": "e5492cc6-834d-4ea5-a5ef-6a3ddf757fb7",
   "metadata": {},
   "outputs": [
    {
     "name": "stdout",
     "output_type": "stream",
     "text": [
      "True\n"
     ]
    }
   ],
   "source": [
    "myList=['hello',True,1,[1,5,6]]\n",
    "\n",
    "\n",
    "print( 1 in myList)"
   ]
  },
  {
   "cell_type": "code",
   "execution_count": null,
   "id": "629f8b17-39df-4b4d-90fb-afbfd928497c",
   "metadata": {},
   "outputs": [],
   "source": []
  },
  {
   "cell_type": "code",
   "execution_count": null,
   "id": "d0609610-ffc2-4df6-8958-b9d390379ed9",
   "metadata": {},
   "outputs": [],
   "source": []
  },
  {
   "cell_type": "code",
   "execution_count": null,
   "id": "2fbe76da-d9d9-45d0-9cf3-51be7485240c",
   "metadata": {},
   "outputs": [
    {
     "name": "stdout",
     "output_type": "stream",
     "text": [
      "[1, 4, 6]\n"
     ]
    }
   ],
   "source": [
    "tupel=(1,4,6)\n",
    "\n",
    "print(list(tupel))     #tupeli listeye cevir"
   ]
  },
  {
   "cell_type": "code",
   "execution_count": null,
   "id": "097857ef-1c23-4240-a4e0-a9acb1fe8e42",
   "metadata": {},
   "outputs": [],
   "source": []
  },
  {
   "cell_type": "code",
   "execution_count": null,
   "id": "38f8c4f3-c1f7-4562-9935-1a4694da0002",
   "metadata": {},
   "outputs": [],
   "source": []
  },
  {
   "cell_type": "code",
   "execution_count": null,
   "id": "69de505d-a2f1-47b4-b5d2-f4624a418c5b",
   "metadata": {},
   "outputs": [
    {
     "name": "stdout",
     "output_type": "stream",
     "text": [
      "9\n"
     ]
    }
   ],
   "source": [
    "myLongList=[[[[1,2],[1,8,9],5],15]]\n",
    "\n",
    "\n",
    "print(myLongList[0][0][1][-1])"
   ]
  },
  {
   "cell_type": "code",
   "execution_count": null,
   "id": "4a03d62b-1312-45c7-85ee-a845ca519642",
   "metadata": {},
   "outputs": [],
   "source": []
  },
  {
   "cell_type": "code",
   "execution_count": null,
   "id": "7c7fb442-875d-403d-8dd4-3911489cf095",
   "metadata": {},
   "outputs": [],
   "source": []
  },
  {
   "cell_type": "code",
   "execution_count": null,
   "id": "18ca6153-8310-4a1c-9b0b-3fae9fbd565b",
   "metadata": {},
   "outputs": [
    {
     "name": "stdout",
     "output_type": "stream",
     "text": [
      "['kola', 'mandalina', 'kivi', 'karpuz']\n"
     ]
    }
   ],
   "source": [
    "myFruits=['elma','kiraz','kavun','karpuz']     #liste icindeki elamanlari degistiriyoruz\n",
    "\n",
    "myFruits[1:3]=['mandalina','kivi']\n",
    "\n",
    "\n",
    "myFruits[0]='kola'\n",
    "\n",
    "print(myFruits)"
   ]
  },
  {
   "cell_type": "code",
   "execution_count": null,
   "id": "770f337e-fa1d-43fb-b4b3-acd4275fa89a",
   "metadata": {},
   "outputs": [],
   "source": []
  },
  {
   "cell_type": "code",
   "execution_count": null,
   "id": "a146044b-263e-4dff-bce4-48940e60bb3e",
   "metadata": {},
   "outputs": [],
   "source": []
  },
  {
   "cell_type": "code",
   "execution_count": null,
   "id": "9bd3eb3b-a221-4db2-a690-3befa8622ae5",
   "metadata": {},
   "outputs": [],
   "source": []
  },
  {
   "cell_type": "code",
   "execution_count": null,
   "id": "d8348992-5cd1-4c04-827b-b5ff04e08496",
   "metadata": {},
   "outputs": [
    {
     "data": {
      "text/plain": [
       "[10, 12, 14, 16, 18, 20, 22, 24, 26, 28, 30, 32, 34, 36, 38]"
      ]
     },
     "execution_count": 28,
     "metadata": {},
     "output_type": "execute_result"
    }
   ],
   "source": [
    "list(range(10,40,2))        #liste icinde ikiserli giden sayilar yazdirmak"
   ]
  },
  {
   "cell_type": "code",
   "execution_count": null,
   "id": "f5776446-dd15-49de-8463-2cb3e85493b3",
   "metadata": {},
   "outputs": [],
   "source": []
  },
  {
   "cell_type": "code",
   "execution_count": null,
   "id": "58a58ef6-cec3-4c63-bfb1-8dcdb193dff4",
   "metadata": {},
   "outputs": [],
   "source": []
  },
  {
   "cell_type": "markdown",
   "id": "1511057a-55db-49e9-a695-adc82f676b49",
   "metadata": {},
   "source": [
    "range---     any ---- all"
   ]
  },
  {
   "cell_type": "code",
   "execution_count": null,
   "id": "89d04cd0-c24b-4f05-b464-c43a4912b473",
   "metadata": {},
   "outputs": [],
   "source": [
    "numbers=[1,0,1,1,0]"
   ]
  },
  {
   "cell_type": "code",
   "execution_count": null,
   "id": "b948b4eb-a015-4e6a-b8d7-259cf087e4e4",
   "metadata": {},
   "outputs": [
    {
     "data": {
      "text/plain": [
       "True"
      ]
     },
     "execution_count": 31,
     "metadata": {},
     "output_type": "execute_result"
    }
   ],
   "source": [
    "any(numbers)    #liste icinde bir tane bile True görse,True verir"
   ]
  },
  {
   "cell_type": "code",
   "execution_count": null,
   "id": "62679811-15a5-4ddf-8b6c-ba3169d06cf3",
   "metadata": {},
   "outputs": [
    {
     "data": {
      "text/plain": [
       "False"
      ]
     },
     "execution_count": 33,
     "metadata": {},
     "output_type": "execute_result"
    }
   ],
   "source": [
    "all(numbers)      #icinde bir tane bile False varsa False verir"
   ]
  },
  {
   "cell_type": "code",
   "execution_count": null,
   "id": "ea4950ba-8e18-4611-8ac6-dfc6c9c89bb2",
   "metadata": {},
   "outputs": [],
   "source": []
  },
  {
   "cell_type": "code",
   "execution_count": null,
   "id": "edcd33db-0cd0-48a9-9d16-b5fc6bc636ea",
   "metadata": {},
   "outputs": [],
   "source": []
  },
  {
   "cell_type": "code",
   "execution_count": null,
   "id": "34d7c127-4e04-49d2-8f42-b1829cdf8fb9",
   "metadata": {},
   "outputs": [],
   "source": []
  },
  {
   "cell_type": "code",
   "execution_count": null,
   "id": "d79dca19-668b-447f-938a-465687e58189",
   "metadata": {},
   "outputs": [
    {
     "name": "stdout",
     "output_type": "stream",
     "text": [
      "['elma', 'kiraz', 'kavun', 'karpuz', 'visne']\n"
     ]
    }
   ],
   "source": [
    "myFruits=['elma','kiraz','kavun','karpuz']\n",
    "\n",
    "myFruits.append('visne')\n",
    "\n",
    "print(myFruits)"
   ]
  },
  {
   "cell_type": "code",
   "execution_count": null,
   "id": "3d786ca3-8fb7-4241-867b-f4039b0f522c",
   "metadata": {},
   "outputs": [],
   "source": []
  },
  {
   "cell_type": "code",
   "execution_count": null,
   "id": "026aff2a-b463-4391-a01e-2bd2f1af1518",
   "metadata": {},
   "outputs": [],
   "source": []
  },
  {
   "cell_type": "code",
   "execution_count": null,
   "id": "ac3724d2-fc60-4b7a-bd0d-5564b4a54d71",
   "metadata": {},
   "outputs": [],
   "source": [
    "myFruits=['elma','kiraz','kavun','karpuz']    #iki listeyi toplama\n",
    "\n",
    "myList=[4,5]\n",
    "\n",
    "#print(myFruits.append(myList))"
   ]
  },
  {
   "cell_type": "code",
   "execution_count": null,
   "id": "0fb916ee-d9b0-44ea-a162-f922d3613cff",
   "metadata": {},
   "outputs": [],
   "source": []
  },
  {
   "cell_type": "code",
   "execution_count": null,
   "id": "1def8b6f-3553-44bc-b30e-c7652503c7be",
   "metadata": {},
   "outputs": [],
   "source": []
  },
  {
   "cell_type": "code",
   "execution_count": null,
   "id": "85fdcfad-4769-4dfe-850e-7b0aa1ec055f",
   "metadata": {},
   "outputs": [
    {
     "name": "stdout",
     "output_type": "stream",
     "text": [
      "karpuz\n",
      "['elma', 'kiraz', 'kavun']\n"
     ]
    }
   ],
   "source": [
    "myFruits=['elma','kiraz','kavun','karpuz']    #pop siler\n",
    "\n",
    "silinen=myFruits.pop(-1)\n",
    "\n",
    "print(silinen)\n",
    "\n",
    "print(myFruits)"
   ]
  },
  {
   "cell_type": "code",
   "execution_count": null,
   "id": "114d7995-2ca6-460a-aa54-0662224e8c80",
   "metadata": {},
   "outputs": [],
   "source": []
  },
  {
   "cell_type": "code",
   "execution_count": null,
   "id": "47e04e53-afa1-4893-8c0b-4e45c837dad7",
   "metadata": {},
   "outputs": [],
   "source": []
  },
  {
   "cell_type": "code",
   "execution_count": null,
   "id": "278ef098-7774-4952-b97f-5b37145dced6",
   "metadata": {},
   "outputs": [],
   "source": [
    "#listerleri sort etmek icin,kendi siralama ölcusunu belirleyebilirsin"
   ]
  },
  {
   "cell_type": "code",
   "execution_count": null,
   "id": "2bd14131-91a6-4572-9d26-eedb70fc3f62",
   "metadata": {},
   "outputs": [],
   "source": []
  },
  {
   "cell_type": "code",
   "execution_count": null,
   "id": "acaea928-49f9-4291-9f4e-5f42b075c8bc",
   "metadata": {},
   "outputs": [],
   "source": []
  },
  {
   "cell_type": "code",
   "execution_count": null,
   "id": "8683346d-5a0a-4e35-af99-d14ced04218c",
   "metadata": {},
   "outputs": [
    {
     "name": "stdout",
     "output_type": "stream",
     "text": [
      "vizeyi giriniz:  40\n",
      "final giriniz:  20\n"
     ]
    },
    {
     "name": "stdout",
     "output_type": "stream",
     "text": [
      "False\n"
     ]
    }
   ],
   "source": [
    "vize_notu=int(input('vizeyi giriniz: '))\n",
    "\n",
    "\n",
    "final_notu=int(input('final giriniz: '))\n",
    "\n",
    "\n",
    "sonuc=((vize_notu*60)/100)+((final_notu*40)/100)\n",
    "\n",
    "\n",
    "print(bool(sonuc>50))      #wenn drin von bool True ist,gibt es uns True aus."
   ]
  },
  {
   "cell_type": "code",
   "execution_count": null,
   "id": "8328792d-47df-482f-8a35-18aad91bf75c",
   "metadata": {},
   "outputs": [],
   "source": []
  },
  {
   "cell_type": "code",
   "execution_count": null,
   "id": "7b19a7ed-2914-418d-a9e1-2f4a47e5857d",
   "metadata": {},
   "outputs": [],
   "source": []
  },
  {
   "cell_type": "code",
   "execution_count": null,
   "id": "525aadde-4842-4230-bf20-85bb5102c575",
   "metadata": {},
   "outputs": [],
   "source": []
  },
  {
   "cell_type": "code",
   "execution_count": null,
   "id": "a98664b3-7e90-468c-b000-56b8e363e2f6",
   "metadata": {},
   "outputs": [],
   "source": []
  },
  {
   "cell_type": "code",
   "execution_count": null,
   "id": "9ae7d005-a8f6-4513-b275-eb519df7d0f2",
   "metadata": {},
   "outputs": [],
   "source": []
  },
  {
   "cell_type": "markdown",
   "id": "ba35d2b8-18d8-409a-987c-34d2f6d4d3fd",
   "metadata": {},
   "source": [
    "SET"
   ]
  },
  {
   "cell_type": "code",
   "execution_count": null,
   "id": "94aa445f-1fcb-433a-a0ff-df481dd824d1",
   "metadata": {},
   "outputs": [
    {
     "name": "stdout",
     "output_type": "stream",
     "text": [
      "{'bababa', 'apple'}\n"
     ]
    }
   ],
   "source": [
    "mySet={'apple','bababa','apple'}      #es enthält keine doppelte Elemente\n",
    "                                    #Element von Set kann nicht liste sein,aber Tuple kann eine Element davon sein\n",
    "                                    #weil die Tuple unveränderlich ist\n",
    "\n",
    "print(mySet)                        #dictinary de olamaz icinde"
   ]
  },
  {
   "cell_type": "code",
   "execution_count": null,
   "id": "e8dd80bc-62c4-46cb-861e-7df94c2cfe82",
   "metadata": {},
   "outputs": [],
   "source": []
  },
  {
   "cell_type": "code",
   "execution_count": null,
   "id": "60af83f0-49c0-407e-a98e-9b72de1d9018",
   "metadata": {},
   "outputs": [],
   "source": []
  },
  {
   "cell_type": "code",
   "execution_count": null,
   "id": "fdbd3029-b31a-4dc2-9344-beea32a11e89",
   "metadata": {},
   "outputs": [
    {
     "name": "stdout",
     "output_type": "stream",
     "text": [
      "<class 'set'>\n",
      "<class 'dict'>\n"
     ]
    }
   ],
   "source": [
    "mySet=set()\n",
    "\n",
    "benimSet={}       # bu sözluk olur,basina set yazmaliyiz\n",
    "\n",
    "print(type(mySet))\n",
    "print(type(benimSet))"
   ]
  },
  {
   "cell_type": "code",
   "execution_count": null,
   "id": "7000db4f-cac9-46e0-8442-411d87e095c1",
   "metadata": {},
   "outputs": [],
   "source": []
  },
  {
   "cell_type": "code",
   "execution_count": null,
   "id": "081fa8f9-016a-48de-accf-91ea5712e447",
   "metadata": {},
   "outputs": [],
   "source": []
  },
  {
   "cell_type": "code",
   "execution_count": null,
   "id": "3f96c609-24e3-4e7c-aff1-851466f91b0d",
   "metadata": {},
   "outputs": [],
   "source": []
  },
  {
   "cell_type": "code",
   "execution_count": null,
   "id": "6363c23b-c548-4248-8299-3a7afab06274",
   "metadata": {},
   "outputs": [
    {
     "name": "stdout",
     "output_type": "stream",
     "text": [
      "{1, 2, 3, 5, 7, 8}\n"
     ]
    }
   ],
   "source": [
    "num={1,2,3}              # wir können die zwei Set addieren, eine Set legen wir auf andere ein.\n",
    "num2={5,7,8}\n",
    "\n",
    "num.update(num2)\n",
    "print(num)"
   ]
  },
  {
   "cell_type": "code",
   "execution_count": null,
   "id": "b9fd4d43-233b-409c-8a96-6e998976a11f",
   "metadata": {},
   "outputs": [],
   "source": []
  },
  {
   "cell_type": "code",
   "execution_count": null,
   "id": "d4dedca4-9849-45b4-9355-8d6a147ff0f0",
   "metadata": {},
   "outputs": [],
   "source": []
  },
  {
   "cell_type": "code",
   "execution_count": null,
   "id": "13d8c9fd-7a31-4fa4-a81c-7fc3a43e3328",
   "metadata": {},
   "outputs": [],
   "source": []
  },
  {
   "cell_type": "code",
   "execution_count": null,
   "id": "7ee6634e-bb05-4124-94a4-0c556595f349",
   "metadata": {},
   "outputs": [
    {
     "name": "stdout",
     "output_type": "stream",
     "text": [
      "{1, 3, 67, 5, 6, 7, 9, 89}\n",
      "{1, 3, 67, 5, 6, 7, 9, 89}\n"
     ]
    }
   ],
   "source": [
    "num={1,5,9,6,7,3}                 #union kümelerin birlesimi denir\n",
    "num2={6,7,67,89}\n",
    "\n",
    "\n",
    "print(num.union(num2))\n",
    "\n",
    "print(num|num2)      # mit 2 Art können wir tun"
   ]
  },
  {
   "cell_type": "code",
   "execution_count": null,
   "id": "e21774d1-269c-4738-9c40-efc69e3d5472",
   "metadata": {},
   "outputs": [],
   "source": []
  },
  {
   "cell_type": "code",
   "execution_count": null,
   "id": "5b99862f-cc04-4ad7-8009-496776af9951",
   "metadata": {},
   "outputs": [],
   "source": []
  },
  {
   "cell_type": "code",
   "execution_count": null,
   "id": "ecd03ce5-6e52-4fa9-94d5-9dd460b74c8e",
   "metadata": {},
   "outputs": [
    {
     "name": "stdout",
     "output_type": "stream",
     "text": [
      "{6, 7}\n",
      "{6, 7}\n"
     ]
    }
   ],
   "source": [
    "num={1,5,9,6,7,3}\n",
    "num2={6,7,67,89}\n",
    "\n",
    "print(num.intersection(num2))        #kesisim islemi  iki yolla yapilir\n",
    "\n",
    "print(num&num2)"
   ]
  },
  {
   "cell_type": "code",
   "execution_count": null,
   "id": "a3874d2c-1069-4b8b-b5b6-6a44b03744dc",
   "metadata": {},
   "outputs": [],
   "source": []
  },
  {
   "cell_type": "code",
   "execution_count": null,
   "id": "88c49fd7-25e8-47fc-a129-69d2e293a633",
   "metadata": {},
   "outputs": [],
   "source": []
  },
  {
   "cell_type": "code",
   "execution_count": null,
   "id": "dbcfbbda-5c94-4698-a800-b36f5d19b432",
   "metadata": {},
   "outputs": [],
   "source": []
  },
  {
   "cell_type": "code",
   "execution_count": null,
   "id": "04991e9e-ea6f-484a-aae7-2f7a68c127e5",
   "metadata": {},
   "outputs": [
    {
     "name": "stdout",
     "output_type": "stream",
     "text": [
      "{1, 3, 5, 9}\n",
      "{1, 3, 5, 9}\n"
     ]
    }
   ],
   "source": [
    "num={1,5,9,6,7,3}    #fark islemi diffrence yöntemi      iki farkli yolla yapilabilir\n",
    "num2={6,7,67,89}\n",
    "\n",
    "\n",
    "print(num.difference(num2))\n",
    "\n",
    "\n",
    "print(num-num2)"
   ]
  },
  {
   "cell_type": "code",
   "execution_count": null,
   "id": "5d009316-0a5d-4bf1-9712-a6440510e9f8",
   "metadata": {},
   "outputs": [],
   "source": []
  },
  {
   "cell_type": "code",
   "execution_count": null,
   "id": "97c5cd9f-f117-4ad5-ac6b-a8bc3505a019",
   "metadata": {},
   "outputs": [
    {
     "data": {
      "text/plain": [
       "['__and__',\n",
       " '__class__',\n",
       " '__class_getitem__',\n",
       " '__contains__',\n",
       " '__delattr__',\n",
       " '__dir__',\n",
       " '__doc__',\n",
       " '__eq__',\n",
       " '__format__',\n",
       " '__ge__',\n",
       " '__getattribute__',\n",
       " '__gt__',\n",
       " '__hash__',\n",
       " '__iand__',\n",
       " '__init__',\n",
       " '__init_subclass__',\n",
       " '__ior__',\n",
       " '__isub__',\n",
       " '__iter__',\n",
       " '__ixor__',\n",
       " '__le__',\n",
       " '__len__',\n",
       " '__lt__',\n",
       " '__ne__',\n",
       " '__new__',\n",
       " '__or__',\n",
       " '__rand__',\n",
       " '__reduce__',\n",
       " '__reduce_ex__',\n",
       " '__repr__',\n",
       " '__ror__',\n",
       " '__rsub__',\n",
       " '__rxor__',\n",
       " '__setattr__',\n",
       " '__sizeof__',\n",
       " '__str__',\n",
       " '__sub__',\n",
       " '__subclasshook__',\n",
       " '__xor__',\n",
       " 'add',\n",
       " 'clear',\n",
       " 'copy',\n",
       " 'difference',\n",
       " 'difference_update',\n",
       " 'discard',\n",
       " 'intersection',\n",
       " 'intersection_update',\n",
       " 'isdisjoint',\n",
       " 'issubset',\n",
       " 'issuperset',\n",
       " 'pop',\n",
       " 'remove',\n",
       " 'symmetric_difference',\n",
       " 'symmetric_difference_update',\n",
       " 'union',\n",
       " 'update']"
      ]
     },
     "execution_count": 28,
     "metadata": {},
     "output_type": "execute_result"
    }
   ],
   "source": [
    "dir(set())"
   ]
  },
  {
   "cell_type": "code",
   "execution_count": null,
   "id": "b2a83fe2-b897-4928-b409-28ad8f3218a3",
   "metadata": {},
   "outputs": [],
   "source": []
  },
  {
   "cell_type": "code",
   "execution_count": null,
   "id": "20d7c87a-caa0-4c16-b642-8b1f8d9aa946",
   "metadata": {},
   "outputs": [],
   "source": []
  },
  {
   "cell_type": "code",
   "execution_count": null,
   "id": "3ed0c54f-33ef-4976-a92a-79e58f43dde1",
   "metadata": {},
   "outputs": [],
   "source": []
  },
  {
   "cell_type": "code",
   "execution_count": null,
   "id": "ae351d52-4034-431a-9c0a-a445eaa0d2b6",
   "metadata": {},
   "outputs": [],
   "source": []
  },
  {
   "cell_type": "markdown",
   "id": "3ebc90f3-1783-4904-a791-ed4333ef9f5d",
   "metadata": {},
   "source": [
    "Dictionary     key ,value  ,ikisi beraber items"
   ]
  },
  {
   "cell_type": "code",
   "execution_count": null,
   "id": "d0e5f96c-c18b-42c1-bc7c-53891fb187f6",
   "metadata": {},
   "outputs": [
    {
     "data": {
      "text/plain": [
       "['__class__',\n",
       " '__class_getitem__',\n",
       " '__contains__',\n",
       " '__delattr__',\n",
       " '__delitem__',\n",
       " '__dir__',\n",
       " '__doc__',\n",
       " '__eq__',\n",
       " '__format__',\n",
       " '__ge__',\n",
       " '__getattribute__',\n",
       " '__getitem__',\n",
       " '__gt__',\n",
       " '__hash__',\n",
       " '__init__',\n",
       " '__init_subclass__',\n",
       " '__ior__',\n",
       " '__iter__',\n",
       " '__le__',\n",
       " '__len__',\n",
       " '__lt__',\n",
       " '__ne__',\n",
       " '__new__',\n",
       " '__or__',\n",
       " '__reduce__',\n",
       " '__reduce_ex__',\n",
       " '__repr__',\n",
       " '__reversed__',\n",
       " '__ror__',\n",
       " '__setattr__',\n",
       " '__setitem__',\n",
       " '__sizeof__',\n",
       " '__str__',\n",
       " '__subclasshook__',\n",
       " 'clear',\n",
       " 'copy',\n",
       " 'fromkeys',\n",
       " 'get',\n",
       " 'items',\n",
       " 'keys',\n",
       " 'pop',\n",
       " 'popitem',\n",
       " 'setdefault',\n",
       " 'update',\n",
       " 'values']"
      ]
     },
     "execution_count": 29,
     "metadata": {},
     "output_type": "execute_result"
    }
   ],
   "source": [
    "myDict={}\n",
    "\n",
    "dir(myDict)"
   ]
  },
  {
   "cell_type": "code",
   "execution_count": null,
   "id": "634303e1-8866-4e49-b7ea-cebf00afff25",
   "metadata": {},
   "outputs": [],
   "source": []
  },
  {
   "cell_type": "code",
   "execution_count": null,
   "id": "58fa5c8b-e2d8-4946-808e-44f96a38d418",
   "metadata": {},
   "outputs": [
    {
     "name": "stdout",
     "output_type": "stream",
     "text": [
      "{1.5: 'merhaba', 2.0: 'hello'}\n"
     ]
    }
   ],
   "source": [
    "myDict={1:'one',2:'two'}\n",
    "\n",
    "myDict2={1.5:'merhaba',2.0:'hello'}    #als float kann ich key definieren\n",
    "\n",
    "print(myDict2)"
   ]
  },
  {
   "cell_type": "code",
   "execution_count": null,
   "id": "4b1988f2-6a3a-409b-bc84-74ac3c425743",
   "metadata": {},
   "outputs": [],
   "source": []
  },
  {
   "cell_type": "code",
   "execution_count": null,
   "id": "61a15c7b-b5d4-4550-8f52-3ff192753222",
   "metadata": {},
   "outputs": [
    {
     "name": "stdout",
     "output_type": "stream",
     "text": [
      "{(1, 3): 'merhaba', 2.0: 'hello'}\n"
     ]
    }
   ],
   "source": [
    "myDict2={(1,3):'merhaba',2.0:'hello'}    #tupel kann key sein\n",
    "print(myDict2)"
   ]
  },
  {
   "cell_type": "code",
   "execution_count": null,
   "id": "18f11344-2389-4361-a619-3233af36b913",
   "metadata": {},
   "outputs": [],
   "source": []
  },
  {
   "cell_type": "code",
   "execution_count": null,
   "id": "8fbe30bc-9a68-4f7a-baca-baa2bd709c23",
   "metadata": {},
   "outputs": [
    {
     "ename": "TypeError",
     "evalue": "unhashable type: 'list'",
     "output_type": "error",
     "traceback": [
      "\u001b[0;31m---------------------------------------------------------------------------\u001b[0m",
      "\u001b[0;31mTypeError\u001b[0m                                 Traceback (most recent call last)",
      "\u001b[0;32m/var/folders/9_/vpq34lwj3bv0yhs22t_s7s7w0000gn/T/ipykernel_906/2675997725.py\u001b[0m in \u001b[0;36m<module>\u001b[0;34m\u001b[0m\n\u001b[0;32m----> 1\u001b[0;31m \u001b[0mmyDict2\u001b[0m\u001b[0;34m=\u001b[0m\u001b[0;34m{\u001b[0m\u001b[0;34m[\u001b[0m\u001b[0;36m1\u001b[0m\u001b[0;34m,\u001b[0m\u001b[0;36m5\u001b[0m\u001b[0;34m]\u001b[0m\u001b[0;34m:\u001b[0m\u001b[0;34m'merhaba'\u001b[0m\u001b[0;34m,\u001b[0m\u001b[0;36m2.0\u001b[0m\u001b[0;34m:\u001b[0m\u001b[0;34m'hello'\u001b[0m\u001b[0;34m}\u001b[0m\u001b[0;34m\u001b[0m\u001b[0;34m\u001b[0m\u001b[0m\n\u001b[0m\u001b[1;32m      2\u001b[0m \u001b[0mprint\u001b[0m\u001b[0;34m(\u001b[0m\u001b[0mmyDict2\u001b[0m\u001b[0;34m)\u001b[0m\u001b[0;34m\u001b[0m\u001b[0;34m\u001b[0m\u001b[0m\n",
      "\u001b[0;31mTypeError\u001b[0m: unhashable type: 'list'"
     ]
    }
   ],
   "source": [
    "myDict2={[1,5]:'merhaba',2.0:'hello'}       #list kann nicht list und dict sein\n",
    "print(myDict2)"
   ]
  },
  {
   "cell_type": "code",
   "execution_count": null,
   "id": "b3d4eb7a-de69-40f2-845f-89184784ea2c",
   "metadata": {},
   "outputs": [],
   "source": []
  },
  {
   "cell_type": "code",
   "execution_count": null,
   "id": "11b5c84b-8191-41db-8d07-06b3a7dc165a",
   "metadata": {},
   "outputs": [],
   "source": []
  },
  {
   "cell_type": "code",
   "execution_count": null,
   "id": "e36777c7-0d2e-458e-b421-e26ab54e8992",
   "metadata": {},
   "outputs": [
    {
     "name": "stdout",
     "output_type": "stream",
     "text": [
      "{'merhaba': [1, 5], 2.0: 'hello'}\n"
     ]
    }
   ],
   "source": [
    "myDict2={'merhaba':[1,5],2.0:'hello'}      #list kann value sein\n",
    "print(myDict2)"
   ]
  },
  {
   "cell_type": "code",
   "execution_count": null,
   "id": "38e5e20f-7960-4f0a-983c-7871dc0f9340",
   "metadata": {},
   "outputs": [],
   "source": []
  },
  {
   "cell_type": "code",
   "execution_count": null,
   "id": "c78a1f32-d582-4fed-83a2-ca04b1a6abe3",
   "metadata": {},
   "outputs": [],
   "source": []
  },
  {
   "cell_type": "code",
   "execution_count": null,
   "id": "02fa7d36-2105-462e-808e-633fa1473800",
   "metadata": {},
   "outputs": [
    {
     "name": "stdout",
     "output_type": "stream",
     "text": [
      "{'babam': {'adi': 'murat', 'yas': 56, 'hobileri': {'futbol', 'kosu'}}}\n"
     ]
    }
   ],
   "source": [
    "ailem={'babam':{'adi':'murat','yas':56,'hobileri':{'futbol','kosu'}}}     #dict icinde dict olabilir\n",
    "                \n",
    "print(ailem)                "
   ]
  },
  {
   "cell_type": "code",
   "execution_count": null,
   "id": "941c1ef0-500a-4542-a3f1-9dbde8f55c8b",
   "metadata": {},
   "outputs": [],
   "source": []
  },
  {
   "cell_type": "code",
   "execution_count": null,
   "id": "ca8dad84-1c38-412e-aaa9-ac84751f1147",
   "metadata": {},
   "outputs": [],
   "source": []
  },
  {
   "cell_type": "code",
   "execution_count": null,
   "id": "a21384fc-d8d3-47b2-a1d6-d920d967b57e",
   "metadata": {},
   "outputs": [
    {
     "name": "stdout",
     "output_type": "stream",
     "text": [
      "{'babam': {'adi': 'murat', 'yas': 56, 'hobileri': {'futbol', 'kosu'}}, 'halil': 5}\n"
     ]
    }
   ],
   "source": [
    "ailem={'babam':{'adi':'murat','yas':56,'hobileri':{'futbol','kosu'}}} \n",
    "\n",
    "ailem['halil']=5                 #dict eleman eklemek\n",
    "\n",
    "print(ailem)"
   ]
  },
  {
   "cell_type": "code",
   "execution_count": null,
   "id": "0f8bdb32-9b71-422d-a2d6-fa1a08b25340",
   "metadata": {},
   "outputs": [],
   "source": []
  },
  {
   "cell_type": "code",
   "execution_count": null,
   "id": "f472150c-f634-4716-96db-82b3578eb038",
   "metadata": {},
   "outputs": [],
   "source": []
  },
  {
   "cell_type": "code",
   "execution_count": null,
   "id": "b325565c-93db-4353-9cd1-2eed4f38aff5",
   "metadata": {},
   "outputs": [],
   "source": []
  },
  {
   "cell_type": "code",
   "execution_count": null,
   "id": "d738aea1-4153-41db-8466-675d66577596",
   "metadata": {},
   "outputs": [
    {
     "name": "stdout",
     "output_type": "stream",
     "text": [
      "{'adi': 'murat', 'yas': 56, 'hobileri': {'futbol', 'kosu'}}\n"
     ]
    }
   ],
   "source": [
    "ailem={'babam':{'adi':'murat','yas':56,'hobileri':{'futbol','kosu'}}}    #dict ten eleman bilgileri almak\n",
    "\n",
    "\n",
    "\n",
    "print(ailem.get('babam'))"
   ]
  },
  {
   "cell_type": "code",
   "execution_count": null,
   "id": "2d7c6d48-927e-4c94-b523-03dcfa815b40",
   "metadata": {},
   "outputs": [],
   "source": []
  },
  {
   "cell_type": "code",
   "execution_count": null,
   "id": "33049cc4-9271-44ef-94de-c0147762b394",
   "metadata": {},
   "outputs": [],
   "source": []
  },
  {
   "cell_type": "code",
   "execution_count": null,
   "id": "563fa1ee-72a3-4552-b0f1-156638f56304",
   "metadata": {},
   "outputs": [
    {
     "data": {
      "text/plain": [
       "True"
      ]
     },
     "execution_count": 55,
     "metadata": {},
     "output_type": "execute_result"
    }
   ],
   "source": [
    "'babam' in ailem            #von drin suchen,ob es gibt oder nicht"
   ]
  },
  {
   "cell_type": "code",
   "execution_count": null,
   "id": "af290cc6-caa7-4419-93fa-1f5240ce8386",
   "metadata": {},
   "outputs": [],
   "source": []
  },
  {
   "cell_type": "code",
   "execution_count": null,
   "id": "95b13ef6-cc65-4cc3-a85a-208f1ff41a74",
   "metadata": {},
   "outputs": [],
   "source": []
  },
  {
   "cell_type": "code",
   "execution_count": null,
   "id": "6e5c20a2-d4ac-40f8-8557-2a9966d7624e",
   "metadata": {},
   "outputs": [
    {
     "name": "stdout",
     "output_type": "stream",
     "text": [
      "{'adı': 'ayşe', 'yaş': 35, 'hobileri': {1: 'kitap okumak', 2: 'yüzmek'}}\n"
     ]
    }
   ],
   "source": [
    "ailem={'babam': {'adı': 'murat',                      #dict ten eleman bilgileri almak\n",
    "  'yaş': 40,\n",
    "  'hobileri': {1: 'futbol oynamak', 2: 'yüzmek'}},\n",
    " 'anne': {'adı': 'ayşe',\n",
    "  'yaş': 35,\n",
    "  'hobileri': {1: 'kitap okumak', 2: 'yüzmek'}},\n",
    " 'cocuk': {'adı': 'ali', 'yaş': 5}}\n",
    "\n",
    "print(ailem.get('anne'))"
   ]
  },
  {
   "cell_type": "code",
   "execution_count": null,
   "id": "961ad6c3-6def-4107-9643-e7438193c424",
   "metadata": {},
   "outputs": [],
   "source": []
  },
  {
   "cell_type": "code",
   "execution_count": null,
   "id": "54bd48d4-8431-423f-a7b8-f04ff57824ea",
   "metadata": {
    "tags": []
   },
   "outputs": [],
   "source": []
  },
  {
   "cell_type": "code",
   "execution_count": null,
   "id": "73c0ed9c-ae50-4145-bd44-0564c0e07f84",
   "metadata": {},
   "outputs": [],
   "source": []
  },
  {
   "cell_type": "code",
   "execution_count": null,
   "id": "a59957c1-b5be-415c-b56d-4d498420b3fc",
   "metadata": {},
   "outputs": [],
   "source": [
    "isimler='ahmet','mehmet','ali'"
   ]
  },
  {
   "cell_type": "code",
   "execution_count": null,
   "id": "061909fb-30d5-4d44-b918-14dd339a2e96",
   "metadata": {},
   "outputs": [
    {
     "data": {
      "text/plain": [
       "tuple"
      ]
     },
     "execution_count": 15,
     "metadata": {},
     "output_type": "execute_result"
    }
   ],
   "source": [
    "type(isimler)"
   ]
  },
  {
   "cell_type": "code",
   "execution_count": null,
   "id": "4bad5305-9274-46d2-920f-0e8f22636443",
   "metadata": {},
   "outputs": [],
   "source": [
    "adresler=dict.fromkeys(isimler,'istanbul')"
   ]
  },
  {
   "cell_type": "code",
   "execution_count": null,
   "id": "ab6c65f2-1784-4edd-bf5f-80baa220de24",
   "metadata": {},
   "outputs": [
    {
     "data": {
      "text/plain": [
       "{'ahmet': 'istanbul', 'mehmet': 'istanbul', 'ali': 'istanbul'}"
      ]
     },
     "execution_count": 18,
     "metadata": {},
     "output_type": "execute_result"
    }
   ],
   "source": [
    "adresler"
   ]
  },
  {
   "cell_type": "code",
   "execution_count": null,
   "id": "ef0a8657-892d-4757-bd94-3e5182af683d",
   "metadata": {},
   "outputs": [],
   "source": []
  },
  {
   "cell_type": "code",
   "execution_count": null,
   "id": "e6799d4a-869d-45c3-8e09-dc8a4846c48e",
   "metadata": {},
   "outputs": [],
   "source": []
  },
  {
   "cell_type": "code",
   "execution_count": null,
   "id": "c596dbe3-ead3-4413-a332-828ee12dc21d",
   "metadata": {},
   "outputs": [
    {
     "name": "stdout",
     "output_type": "stream",
     "text": [
      "['m', 'e', 'r', 'h', 'a', 'b', 'a', ' ', 'd', 'ü', 'n', 'y', 'a']\n",
      "7\n"
     ]
    }
   ],
   "source": [
    "myList=list('merhaba dünya')    #stringi listeye cevirdim\n",
    "\n",
    "print(myList)\n",
    "\n",
    "print(myList.index(' '))      #es gibt uns das index von eine Element\n",
    "\n"
   ]
  },
  {
   "cell_type": "code",
   "execution_count": null,
   "id": "6a77e982-ea7c-407b-826e-d63cdf379452",
   "metadata": {},
   "outputs": [],
   "source": []
  },
  {
   "cell_type": "code",
   "execution_count": null,
   "id": "ef71166c-7059-40df-9220-af490fdbb40d",
   "metadata": {},
   "outputs": [],
   "source": []
  },
  {
   "cell_type": "code",
   "execution_count": null,
   "id": "ce4943fb-3666-41f4-b68a-32696d044a2d",
   "metadata": {},
   "outputs": [],
   "source": []
  },
  {
   "cell_type": "code",
   "execution_count": null,
   "id": "d75acdde-6abf-45cd-a2a8-2a703df76b6c",
   "metadata": {},
   "outputs": [
    {
     "name": "stdout",
     "output_type": "stream",
     "text": [
      "['adi']\n"
     ]
    }
   ],
   "source": [
    "a={'adi':'murat'}\n",
    "\n",
    "liste2=list(a)\n",
    "\n",
    "print(liste2)       # dict print yapinca sadece key kismini verir"
   ]
  },
  {
   "cell_type": "code",
   "execution_count": null,
   "id": "49a0ea6a-6b22-4b4f-be48-8519b747613f",
   "metadata": {},
   "outputs": [],
   "source": []
  },
  {
   "cell_type": "code",
   "execution_count": null,
   "id": "56de7cc7-af8f-4599-8203-f72fd9b5ec55",
   "metadata": {},
   "outputs": [],
   "source": []
  },
  {
   "cell_type": "code",
   "execution_count": null,
   "id": "973641ea-ad45-4e0b-9a16-ec0e16abfa0c",
   "metadata": {},
   "outputs": [],
   "source": []
  },
  {
   "cell_type": "code",
   "execution_count": null,
   "id": "e1a48002-ec3c-4a51-a261-65e3ef99b192",
   "metadata": {},
   "outputs": [
    {
     "name": "stdout",
     "output_type": "stream",
     "text": [
      "numaralarim 5 ve  998 \n",
      "yeni nummer 6 ve 55 \n"
     ]
    }
   ],
   "source": [
    "numberList=[1,5,6,[55,998]]     #liste icindeki baska bir listeden eleman alma\n",
    "print('numaralarim {} ve  {} '.format(numberList[1],numberList[-1][-1]))\n",
    "\n",
    "\n",
    "print('yeni nummer {} ve {} '.format(numberList[2],numberList[3][0]))"
   ]
  },
  {
   "cell_type": "code",
   "execution_count": null,
   "id": "a15fed3f-81b7-4848-a93e-e5b462f0ff1f",
   "metadata": {},
   "outputs": [],
   "source": []
  },
  {
   "cell_type": "code",
   "execution_count": null,
   "id": "f0d8b46c-a876-4017-9f34-e3423e2f736d",
   "metadata": {},
   "outputs": [],
   "source": []
  },
  {
   "cell_type": "code",
   "execution_count": null,
   "id": "2bf12ea7-d113-41d4-8f62-b68925048a24",
   "metadata": {},
   "outputs": [],
   "source": []
  },
  {
   "cell_type": "code",
   "execution_count": null,
   "id": "737e9f13-6c9e-47d9-9f85-82f187aea35e",
   "metadata": {},
   "outputs": [],
   "source": [
    "MyList2=['once','upon','a','time']    #liste icindeki elemanlari yanyana yazdim ve listeleride toplayabilirim"
   ]
  },
  {
   "cell_type": "code",
   "execution_count": null,
   "id": "16fe5172-1a50-44d8-9ab8-a1d5aa5d5d4c",
   "metadata": {},
   "outputs": [],
   "source": [
    "myString=' '.join(MyList2)"
   ]
  },
  {
   "cell_type": "code",
   "execution_count": null,
   "id": "c74f1ec8-d7af-4e30-876f-601afbf4336c",
   "metadata": {},
   "outputs": [
    {
     "data": {
      "text/plain": [
       "'once upon a time'"
      ]
     },
     "execution_count": 33,
     "metadata": {},
     "output_type": "execute_result"
    }
   ],
   "source": [
    "myString"
   ]
  },
  {
   "cell_type": "code",
   "execution_count": null,
   "id": "05c11a43-428a-439e-a647-482870ba6a66",
   "metadata": {},
   "outputs": [],
   "source": []
  },
  {
   "cell_type": "code",
   "execution_count": null,
   "id": "e8c0ef05-7c67-4484-9782-f8d9f6249984",
   "metadata": {},
   "outputs": [],
   "source": []
  },
  {
   "cell_type": "code",
   "execution_count": null,
   "id": "78ab3553-e8e9-47e0-b03d-876f5cf3ab64",
   "metadata": {},
   "outputs": [],
   "source": []
  },
  {
   "cell_type": "code",
   "execution_count": null,
   "id": "ade5a46b-01bf-4122-bafc-e916372282d7",
   "metadata": {},
   "outputs": [
    {
     "data": {
      "text/plain": [
       "True"
      ]
     },
     "execution_count": 34,
     "metadata": {},
     "output_type": "execute_result"
    }
   ],
   "source": [
    "[15,10,100]>[1,91,100]  # es kann die 2 Liste vergleihen,jede element wird vergliehen,die erste ist wichtig"
   ]
  },
  {
   "cell_type": "code",
   "execution_count": null,
   "id": "f86aca2a-f1da-4fa6-9d1c-11ff9457686e",
   "metadata": {},
   "outputs": [],
   "source": []
  },
  {
   "cell_type": "code",
   "execution_count": null,
   "id": "04021e0e-59aa-4d97-bd25-d7e3bd522a67",
   "metadata": {},
   "outputs": [],
   "source": []
  },
  {
   "cell_type": "code",
   "execution_count": null,
   "id": "340da174-955d-4928-90e7-1b7fa160e6f7",
   "metadata": {},
   "outputs": [],
   "source": []
  },
  {
   "cell_type": "code",
   "execution_count": null,
   "id": "3b84ba84-8de3-4d2e-ad7c-8a9959dd7ddf",
   "metadata": {},
   "outputs": [
    {
     "name": "stdout",
     "output_type": "stream",
     "text": [
      "['k', 'i', 'v', 'i', 'armut', 'kabak']\n"
     ]
    }
   ],
   "source": [
    "myFruit=['elma','armut','kabak']\n",
    "\n",
    "myFruit[:1]='kivi'         #es nimmt die bestimmte Berich,und versetzt die Element und macht es das voneinander getrent\n",
    "\n",
    "print(myFruit)"
   ]
  },
  {
   "cell_type": "code",
   "execution_count": null,
   "id": "2269f7c9-bde3-42bc-90a7-c862b8f0af8f",
   "metadata": {},
   "outputs": [],
   "source": []
  },
  {
   "cell_type": "code",
   "execution_count": null,
   "id": "d8c2a911-1e8e-4702-8017-e9ceeb8e1192",
   "metadata": {},
   "outputs": [],
   "source": []
  },
  {
   "cell_type": "code",
   "execution_count": null,
   "id": "1522cefa-c914-4a80-9d50-20ce854b0f54",
   "metadata": {},
   "outputs": [],
   "source": [
    "#append listeye ekliyor,extend listeleri birlestiriyor"
   ]
  },
  {
   "cell_type": "code",
   "execution_count": null,
   "id": "538bdbcd-b661-4970-bd86-f61bcf37fe1c",
   "metadata": {},
   "outputs": [],
   "source": []
  },
  {
   "cell_type": "code",
   "execution_count": null,
   "id": "b2e2eabd-4ddf-404e-a400-4899e5846be6",
   "metadata": {},
   "outputs": [],
   "source": []
  },
  {
   "cell_type": "markdown",
   "id": "e94f8512-b2bc-432d-b8f0-8f43d5147d2d",
   "metadata": {},
   "source": [
    "Tuple"
   ]
  },
  {
   "cell_type": "code",
   "execution_count": null,
   "id": "1a1f1823-2b18-4f56-9116-fea15c826fb3",
   "metadata": {},
   "outputs": [],
   "source": [
    "#es hat eine index wert, unveränderlich ist,  drin kann doppelte Werte haben\n",
    "\n",
    "#es kann die unterschiedliche Datentype annehmen\n",
    "\n",
    "#tupleye eleman ekleyemem,eklemek istersem,önce listeye cevir ,sonra yaptigin listeyi birdaha tuple ye cevir\n",
    "\n",
    "#index nummer können wir wissen\n",
    "\n",
    "\n",
    "#2 Tuple werden miteinander addiert.\n",
    "\n",
    "#Tupleye eleman eklayemem ama ,icinde eleman olarak bir liste varsa,o listeye ulasip,\n",
    "# o liste icinde degisiklik yapabilirim"
   ]
  },
  {
   "cell_type": "code",
   "execution_count": null,
   "id": "4856be0a-87fe-4f46-a47a-a01fe1101146",
   "metadata": {},
   "outputs": [],
   "source": []
  },
  {
   "cell_type": "code",
   "execution_count": null,
   "id": "b841f78e-0695-47d7-bb79-6d50eb3fb253",
   "metadata": {},
   "outputs": [],
   "source": []
  },
  {
   "cell_type": "code",
   "execution_count": null,
   "id": "9cc22a1d-e68f-4d09-a1af-b81d58492989",
   "metadata": {},
   "outputs": [],
   "source": []
  },
  {
   "cell_type": "code",
   "execution_count": null,
   "id": "1013c05b-92e3-4f0a-83ce-56a5751cb6f5",
   "metadata": {},
   "outputs": [],
   "source": []
  },
  {
   "cell_type": "code",
   "execution_count": null,
   "id": "08f2487e-2c16-4fa9-abf2-324a86c847ae",
   "metadata": {},
   "outputs": [
    {
     "name": "stdout",
     "output_type": "stream",
     "text": [
      "<class 'str'>\n",
      "<class 'tuple'>\n"
     ]
    }
   ],
   "source": [
    "names=('jeff')\n",
    "name1=('jeff',)     # mit komma ist Tuple aber ohne komma ist es String\n",
    "       \n",
    "print(type(names))\n",
    "print(type(name1))"
   ]
  },
  {
   "cell_type": "code",
   "execution_count": null,
   "id": "5d4777ef-2a66-481a-981c-83bbec006c5c",
   "metadata": {},
   "outputs": [],
   "source": []
  },
  {
   "cell_type": "code",
   "execution_count": null,
   "id": "45ada65d-87f8-438c-9ccf-383cdb280fa3",
   "metadata": {},
   "outputs": [],
   "source": []
  },
  {
   "cell_type": "code",
   "execution_count": null,
   "id": "d3f18599-9357-43a8-8592-dd76ef7379f6",
   "metadata": {},
   "outputs": [],
   "source": []
  },
  {
   "cell_type": "code",
   "execution_count": null,
   "id": "e8fa3e20-0fcd-4717-89d2-309374eef3d3",
   "metadata": {},
   "outputs": [
    {
     "name": "stdout",
     "output_type": "stream",
     "text": [
      "('ali', 1, ['g', 'ö'], True, False)\n"
     ]
    }
   ],
   "source": [
    "myTuple=('ali',1,['g','ö'],True,False)     # ohne klamer geht es auchnund es wird Tupel gewesen.\n",
    "\n",
    "print(myTuple)"
   ]
  },
  {
   "cell_type": "code",
   "execution_count": null,
   "id": "230c4cad-bf98-4eff-8a09-ccba9228e0ce",
   "metadata": {},
   "outputs": [],
   "source": []
  },
  {
   "cell_type": "code",
   "execution_count": null,
   "id": "8938c8e4-569e-460a-9abb-0d88a195f8bf",
   "metadata": {},
   "outputs": [],
   "source": []
  },
  {
   "cell_type": "code",
   "execution_count": null,
   "id": "ec429782-1d5e-4f44-be8c-2fccb92f1830",
   "metadata": {},
   "outputs": [],
   "source": []
  },
  {
   "cell_type": "code",
   "execution_count": null,
   "id": "9576f97d-83bc-4842-9f6a-3e2fc22f6ab3",
   "metadata": {},
   "outputs": [],
   "source": [
    "myTuple='ali',1,['g','ö'],True,False    \n",
    "print(myTuple)"
   ]
  },
  {
   "cell_type": "code",
   "execution_count": null,
   "id": "780655d4-5780-4d06-ab2a-265512a1ff4a",
   "metadata": {},
   "outputs": [],
   "source": []
  },
  {
   "cell_type": "code",
   "execution_count": null,
   "id": "6ef1f9aa-5adb-4e5a-a0dd-046b1caab0ff",
   "metadata": {},
   "outputs": [],
   "source": []
  },
  {
   "cell_type": "code",
   "execution_count": null,
   "id": "99be9186-e2c6-43d6-af93-9b388bdc47ba",
   "metadata": {},
   "outputs": [],
   "source": []
  },
  {
   "cell_type": "code",
   "execution_count": null,
   "id": "ceef2086-e162-4dd0-8eaf-40a4dff976e6",
   "metadata": {},
   "outputs": [
    {
     "name": "stdout",
     "output_type": "stream",
     "text": [
      "ahmet\n"
     ]
    }
   ],
   "source": [
    "names=('ali','ahmet','mehmet','hasan')\n",
    "\n",
    "isim1,isim2,isim3,isim4=names\n",
    "\n",
    "print(isim2)          #wir können jede Element zu einen Wert zuweisen,\n",
    "#                     diese  Methote kann auch beim liste fonktionieren"
   ]
  },
  {
   "cell_type": "code",
   "execution_count": null,
   "id": "8c2c5871-1d21-415f-b6f8-9ae68c50a28e",
   "metadata": {},
   "outputs": [],
   "source": []
  },
  {
   "cell_type": "code",
   "execution_count": null,
   "id": "190266f9-066f-4d9d-a52d-8a66baccd147",
   "metadata": {},
   "outputs": [],
   "source": []
  },
  {
   "cell_type": "code",
   "execution_count": null,
   "id": "bd6b1893-a0e5-48bb-80a0-a490e64763d4",
   "metadata": {},
   "outputs": [],
   "source": []
  },
  {
   "cell_type": "code",
   "execution_count": null,
   "id": "d828036f-b213-437d-bad1-d8fd3be9125c",
   "metadata": {},
   "outputs": [
    {
     "name": "stdout",
     "output_type": "stream",
     "text": [
      "kemal\n"
     ]
    }
   ],
   "source": [
    "mytuple=('ali','hakan','kemal')\n",
    "\n",
    "print(mytuple[2])     #wir können ein Elemen von Tuple erreichen"
   ]
  },
  {
   "cell_type": "code",
   "execution_count": null,
   "id": "0ac0cba5-8b41-473c-a323-165478e3c8d9",
   "metadata": {},
   "outputs": [],
   "source": []
  },
  {
   "cell_type": "code",
   "execution_count": null,
   "id": "2f2a7e80-56ae-4fae-a2b6-78d6ebf9613a",
   "metadata": {},
   "outputs": [],
   "source": []
  },
  {
   "cell_type": "code",
   "execution_count": null,
   "id": "c9c882fd-15d4-41c5-87b4-62d26f057fbb",
   "metadata": {},
   "outputs": [],
   "source": []
  },
  {
   "cell_type": "code",
   "execution_count": null,
   "id": "0c1d46ec-31e4-4967-a678-c07afc0e2fc1",
   "metadata": {},
   "outputs": [
    {
     "data": {
      "text/plain": [
       "('m', 'e', 'r', 'h', 'a', 'b', 'a')"
      ]
     },
     "execution_count": 43,
     "metadata": {},
     "output_type": "execute_result"
    }
   ],
   "source": [
    "tuple('merhaba')            #her harfi bir elemena dönusturur,"
   ]
  },
  {
   "cell_type": "code",
   "execution_count": null,
   "id": "f01781c8-99b7-49f7-aac7-6572b4c0742b",
   "metadata": {},
   "outputs": [],
   "source": []
  },
  {
   "cell_type": "code",
   "execution_count": null,
   "id": "821c9260-2e98-4d20-848b-7abc43555f7c",
   "metadata": {},
   "outputs": [],
   "source": []
  },
  {
   "cell_type": "code",
   "execution_count": null,
   "id": "a6fc9abb-8f2c-4363-ae1d-815431bdff37",
   "metadata": {},
   "outputs": [],
   "source": []
  },
  {
   "cell_type": "code",
   "execution_count": null,
   "id": "0b80a7bf-728a-4681-aeb7-5eba0a69a8fd",
   "metadata": {},
   "outputs": [
    {
     "data": {
      "text/plain": [
       "(1, 3, 5, 6)"
      ]
     },
     "execution_count": 44,
     "metadata": {},
     "output_type": "execute_result"
    }
   ],
   "source": [
    "tuple([1,3,5,6])     #wir haben dir liste zu Tupel umgewandert."
   ]
  },
  {
   "cell_type": "code",
   "execution_count": null,
   "id": "7719cf3d-064e-4a6b-82d2-e27ef5f9bdcf",
   "metadata": {},
   "outputs": [],
   "source": []
  },
  {
   "cell_type": "code",
   "execution_count": null,
   "id": "10d0ecce-8816-4cd1-b850-c08a18174f44",
   "metadata": {},
   "outputs": [],
   "source": []
  },
  {
   "cell_type": "code",
   "execution_count": null,
   "id": "70797df1-9bb8-4fe9-85a3-c2cda9e0cc5f",
   "metadata": {},
   "outputs": [],
   "source": []
  },
  {
   "cell_type": "code",
   "execution_count": null,
   "id": "a4b629b7-2608-4ba1-8176-04219ad96116",
   "metadata": {},
   "outputs": [
    {
     "name": "stdout",
     "output_type": "stream",
     "text": [
      "('hello', 1, 5, 8.5, ['merhaba', '--'])\n"
     ]
    }
   ],
   "source": [
    "myTuple=('hello',1,5,8.5,['merhaba','l'])  \n",
    "\n",
    "myTuple[-1][1]='--'\n",
    "\n",
    "print(myTuple)"
   ]
  },
  {
   "cell_type": "code",
   "execution_count": null,
   "id": "8d4cff81-97ce-40be-8ef1-0bca1e4dcfc2",
   "metadata": {},
   "outputs": [],
   "source": []
  },
  {
   "cell_type": "code",
   "execution_count": null,
   "id": "46b906bc-571e-42b7-9a64-942c6896afa6",
   "metadata": {},
   "outputs": [],
   "source": []
  },
  {
   "cell_type": "code",
   "execution_count": null,
   "id": "02dc0772-af2c-42c4-a3c9-19135696a42d",
   "metadata": {},
   "outputs": [],
   "source": []
  },
  {
   "cell_type": "code",
   "execution_count": null,
   "id": "0ac67649-b496-4a27-9f60-fc0aa5823474",
   "metadata": {},
   "outputs": [],
   "source": []
  },
  {
   "cell_type": "code",
   "execution_count": null,
   "id": "139d1543-3d6a-4ee5-9008-402d996aff40",
   "metadata": {},
   "outputs": [],
   "source": [
    "#wir können die zwei Tuple miteinander addieren."
   ]
  },
  {
   "cell_type": "code",
   "execution_count": null,
   "id": "8b4130f7-58fb-4399-a161-c9010ff24279",
   "metadata": {},
   "outputs": [],
   "source": []
  },
  {
   "cell_type": "code",
   "execution_count": null,
   "id": "c0effbd1-9be4-46bb-bbda-cd4f7ecc2159",
   "metadata": {},
   "outputs": [],
   "source": []
  },
  {
   "cell_type": "code",
   "execution_count": null,
   "id": "e4749108-0b55-490a-b518-fc0cb36506f0",
   "metadata": {},
   "outputs": [],
   "source": []
  },
  {
   "cell_type": "code",
   "execution_count": null,
   "id": "475777b3-ff94-4775-b66e-f48e9f57d1a2",
   "metadata": {},
   "outputs": [],
   "source": [
    "insan={'boy':180, 'kilo':59,'gözrengi':'kahve'}\n",
    "\n",
    "\n",
    "#hierbei können wir die Elemente nicht schreiben,die veränderlich isr,zum Beispiel liste set\n",
    "#aber wir können einen Tupel als key schreiben\n",
    "\n",
    "\n",
    "#aber Value kann elle sein"
   ]
  },
  {
   "cell_type": "code",
   "execution_count": null,
   "id": "b5742278-19bd-4253-a24a-6174e896808c",
   "metadata": {},
   "outputs": [],
   "source": []
  },
  {
   "cell_type": "code",
   "execution_count": null,
   "id": "4f5efddd-04ed-4dd6-b9d2-c1b7bbac6d95",
   "metadata": {},
   "outputs": [],
   "source": []
  },
  {
   "cell_type": "code",
   "execution_count": null,
   "id": "cc968109-6716-4f75-8aac-1ca6808b9473",
   "metadata": {},
   "outputs": [],
   "source": []
  },
  {
   "cell_type": "code",
   "execution_count": null,
   "id": "16ce5b17-dc95-4eeb-9870-90e0895188b0",
   "metadata": {},
   "outputs": [],
   "source": []
  },
  {
   "cell_type": "code",
   "execution_count": null,
   "id": "209cccd2-09dd-4d6c-b4d9-7a4ae74cbd9b",
   "metadata": {},
   "outputs": [],
   "source": [
    "insan={'boy':180, 'kilo':59,'gözrengi':'kahve'}"
   ]
  },
  {
   "cell_type": "code",
   "execution_count": null,
   "id": "408bc471-0330-41ca-9aa6-7ac12e2bc8f2",
   "metadata": {},
   "outputs": [
    {
     "ename": "KeyError",
     "evalue": "1",
     "output_type": "error",
     "traceback": [
      "\u001b[0;31m---------------------------------------------------------------------------\u001b[0m",
      "\u001b[0;31mKeyError\u001b[0m                                  Traceback (most recent call last)",
      "\u001b[0;32m/var/folders/9_/vpq34lwj3bv0yhs22t_s7s7w0000gn/T/ipykernel_1004/3841893423.py\u001b[0m in \u001b[0;36m<module>\u001b[0;34m\u001b[0m\n\u001b[0;32m----> 1\u001b[0;31m \u001b[0minsan\u001b[0m\u001b[0;34m[\u001b[0m\u001b[0;36m1\u001b[0m\u001b[0;34m]\u001b[0m    \u001b[0;31m#wegen sie keine index hat,dürfen wir sie nicht aufrufen,mit einen index nummer\u001b[0m\u001b[0;34m\u001b[0m\u001b[0;34m\u001b[0m\u001b[0m\n\u001b[0m\u001b[1;32m      2\u001b[0m \u001b[0;31m#wir können nur mit keynname aufrufen\u001b[0m\u001b[0;34m\u001b[0m\u001b[0;34m\u001b[0m\u001b[0m\n",
      "\u001b[0;31mKeyError\u001b[0m: 1"
     ]
    }
   ],
   "source": [
    "insan[1]    #wegen sie keine index hat,dürfen wir sie nicht aufrufen,mit einen index nummer\n",
    "#wir können nur mit keynname aufrufen"
   ]
  },
  {
   "cell_type": "code",
   "execution_count": null,
   "id": "a61f6d88-25b4-4553-85a2-472d9ffb2ae4",
   "metadata": {},
   "outputs": [],
   "source": []
  },
  {
   "cell_type": "code",
   "execution_count": null,
   "id": "6347a7d0-6350-420d-a132-91e2af1c9010",
   "metadata": {},
   "outputs": [],
   "source": []
  },
  {
   "cell_type": "code",
   "execution_count": null,
   "id": "f926eb79-2734-41f7-afb0-e3ad09b4b2fd",
   "metadata": {},
   "outputs": [],
   "source": []
  },
  {
   "cell_type": "code",
   "execution_count": null,
   "id": "9fbd7187-528b-475e-bf1e-e0cdb11cfa1e",
   "metadata": {},
   "outputs": [],
   "source": []
  },
  {
   "cell_type": "code",
   "execution_count": null,
   "id": "65970b3e-4e70-4829-ab02-ea0074434604",
   "metadata": {},
   "outputs": [],
   "source": [
    "insan={'boy':180, 'kilo':59,'gözrengi':'kahve'}"
   ]
  },
  {
   "cell_type": "code",
   "execution_count": null,
   "id": "e944a3b9-12b8-4bf3-91a5-3c7750551dd0",
   "metadata": {},
   "outputs": [
    {
     "data": {
      "text/plain": [
       "dict_keys(['boy', 'kilo', 'gözrengi'])"
      ]
     },
     "execution_count": 14,
     "metadata": {},
     "output_type": "execute_result"
    }
   ],
   "source": [
    "insan.keys()"
   ]
  },
  {
   "cell_type": "code",
   "execution_count": null,
   "id": "b98e2ef1-3175-4280-919e-2d5c7ae61fd9",
   "metadata": {},
   "outputs": [
    {
     "data": {
      "text/plain": [
       "dict_items([('boy', 180), ('kilo', 59), ('gözrengi', 'kahve')])"
      ]
     },
     "execution_count": 15,
     "metadata": {},
     "output_type": "execute_result"
    }
   ],
   "source": [
    "insan.items()"
   ]
  },
  {
   "cell_type": "code",
   "execution_count": null,
   "id": "06e0b2df-d403-499a-9968-5922b0f599a0",
   "metadata": {},
   "outputs": [],
   "source": []
  },
  {
   "cell_type": "code",
   "execution_count": null,
   "id": "5a5f6a54-0daa-4881-b4db-5647566efb5e",
   "metadata": {},
   "outputs": [
    {
     "data": {
      "text/plain": [
       "True"
      ]
     },
     "execution_count": 16,
     "metadata": {},
     "output_type": "execute_result"
    }
   ],
   "source": [
    "'boy' in insan.keys()     #wir haben zwischen keys gesucht,ob 'boy# es gibt ider nicht"
   ]
  },
  {
   "cell_type": "code",
   "execution_count": null,
   "id": "e25b3de8-63e9-49d9-9062-3fb490755bdb",
   "metadata": {},
   "outputs": [
    {
     "data": {
      "text/plain": [
       "False"
      ]
     },
     "execution_count": 17,
     "metadata": {},
     "output_type": "execute_result"
    }
   ],
   "source": [
    "'boy' in insan.items() "
   ]
  },
  {
   "cell_type": "code",
   "execution_count": null,
   "id": "a035a5f8-0a69-4240-9c41-ae32467562af",
   "metadata": {},
   "outputs": [],
   "source": []
  },
  {
   "cell_type": "code",
   "execution_count": null,
   "id": "ecde4392-c48b-4aaa-9cf5-afc635fb0dec",
   "metadata": {},
   "outputs": [],
   "source": []
  },
  {
   "cell_type": "code",
   "execution_count": null,
   "id": "f4b5fd7e-f9d2-40d2-872e-260c1b406e19",
   "metadata": {},
   "outputs": [],
   "source": []
  },
  {
   "cell_type": "code",
   "execution_count": null,
   "id": "bd92c007-4d4b-4cf1-8620-ed756147d95b",
   "metadata": {},
   "outputs": [],
   "source": []
  },
  {
   "cell_type": "code",
   "execution_count": null,
   "id": "c01e52a4-245f-4023-905e-365b72e0678b",
   "metadata": {},
   "outputs": [],
   "source": []
  },
  {
   "cell_type": "code",
   "execution_count": null,
   "id": "0df6c625-5176-4069-bd9a-d422cfcc63d9",
   "metadata": {},
   "outputs": [],
   "source": [
    "insan={'boy':180, 'kilo':59,'gözrengi':'kahve'}"
   ]
  },
  {
   "cell_type": "code",
   "execution_count": null,
   "id": "0f3c8210-267d-4343-b244-70222c4dc745",
   "metadata": {},
   "outputs": [
    {
     "data": {
      "text/plain": [
       "('kilo', 59)"
      ]
     },
     "execution_count": 23,
     "metadata": {},
     "output_type": "execute_result"
    }
   ],
   "source": [
    "insan.popitem()        #sie hat eine zufällig gelöst"
   ]
  },
  {
   "cell_type": "code",
   "execution_count": null,
   "id": "e50c5f5d-82f5-4de3-ac6d-a99476a10039",
   "metadata": {},
   "outputs": [
    {
     "data": {
      "text/plain": [
       "{'boy': 180, 'kilo': 59}"
      ]
     },
     "execution_count": 22,
     "metadata": {},
     "output_type": "execute_result"
    }
   ],
   "source": [
    "insan"
   ]
  },
  {
   "cell_type": "code",
   "execution_count": null,
   "id": "138e7966-f16f-471d-9ee4-908665a46c8e",
   "metadata": {},
   "outputs": [
    {
     "data": {
      "text/plain": [
       "'bulunamadi'"
      ]
     },
     "execution_count": 25,
     "metadata": {},
     "output_type": "execute_result"
    }
   ],
   "source": [
    "insan.get('hobi','bulunamadi')  #es sucht ,ob gibt es eine key names 'hobi'\n",
    "#wenn es gibt keine,es gibt uns aus,'bulunamadi."
   ]
  },
  {
   "cell_type": "code",
   "execution_count": null,
   "id": "0d066770-690b-40b8-8724-9502463a6fa4",
   "metadata": {},
   "outputs": [],
   "source": []
  },
  {
   "cell_type": "code",
   "execution_count": null,
   "id": "19cec730-435c-4a70-a115-a776e3751562",
   "metadata": {},
   "outputs": [],
   "source": []
  },
  {
   "cell_type": "code",
   "execution_count": null,
   "id": "ac5a36cd-7965-4e1f-b97b-09e12c74f940",
   "metadata": {},
   "outputs": [],
   "source": []
  },
  {
   "cell_type": "code",
   "execution_count": null,
   "id": "6bf694fc-3a8d-4a92-85c1-8976e6e7013b",
   "metadata": {},
   "outputs": [],
   "source": []
  },
  {
   "cell_type": "code",
   "execution_count": null,
   "id": "d85cf31a-ce64-450f-b59c-4f4574ae9a9c",
   "metadata": {},
   "outputs": [
    {
     "name": "stdout",
     "output_type": "stream",
     "text": [
      "hello\n"
     ]
    }
   ],
   "source": [
    "a=8\n",
    "b=7\n",
    "\n",
    "if a>7 or b>10:\n",
    "    print('hello')     #i can give two condition "
   ]
  },
  {
   "cell_type": "code",
   "execution_count": null,
   "id": "41fad351-3801-46e1-a782-527a1522cb5e",
   "metadata": {},
   "outputs": [],
   "source": []
  },
  {
   "cell_type": "code",
   "execution_count": null,
   "id": "a0015041-6074-4448-a496-edb6fe838532",
   "metadata": {},
   "outputs": [],
   "source": []
  },
  {
   "cell_type": "code",
   "execution_count": null,
   "id": "0fe5cd15-bdb1-472d-bdb9-bc5943b46bb3",
   "metadata": {},
   "outputs": [],
   "source": [
    "a=8\n",
    "b=7\n",
    "\n",
    "if a>7 and b>10:\n",
    "    print('hello')              #with 'and' it must be both truth"
   ]
  },
  {
   "cell_type": "code",
   "execution_count": null,
   "id": "5ccbb798-ba04-4828-8449-16044eb7af92",
   "metadata": {},
   "outputs": [],
   "source": []
  },
  {
   "cell_type": "code",
   "execution_count": null,
   "id": "e0b1a65f-29f1-452f-bad3-a5a080c44e51",
   "metadata": {},
   "outputs": [],
   "source": []
  },
  {
   "cell_type": "code",
   "execution_count": null,
   "id": "28f1167c-8226-42fd-a0e6-d0258b964870",
   "metadata": {},
   "outputs": [],
   "source": []
  },
  {
   "cell_type": "code",
   "execution_count": null,
   "id": "4f2ea4d5-fd00-402f-a11f-66e63e7e29e1",
   "metadata": {},
   "outputs": [
    {
     "data": {
      "text/plain": [
       "True"
      ]
     },
     "execution_count": 33,
     "metadata": {},
     "output_type": "execute_result"
    }
   ],
   "source": [
    "any([0,1,0,0])"
   ]
  },
  {
   "cell_type": "code",
   "execution_count": null,
   "id": "6c621d60-f10e-4254-b0a8-46487a04ef50",
   "metadata": {},
   "outputs": [
    {
     "data": {
      "text/plain": [
       "False"
      ]
     },
     "execution_count": 35,
     "metadata": {},
     "output_type": "execute_result"
    }
   ],
   "source": [
    "all([0,1,0,0])"
   ]
  },
  {
   "cell_type": "code",
   "execution_count": null,
   "id": "c227b4e7-4b08-4cba-9c80-d838d029ae9b",
   "metadata": {},
   "outputs": [],
   "source": []
  },
  {
   "cell_type": "code",
   "execution_count": null,
   "id": "3c6d6786-4cd9-44ac-b745-1e154a85993b",
   "metadata": {},
   "outputs": [],
   "source": []
  },
  {
   "cell_type": "code",
   "execution_count": null,
   "id": "7835d206-77d9-46fa-af82-5661584e7882",
   "metadata": {},
   "outputs": [],
   "source": [
    "#isdigit string olup olmadigini kontrol ediyor"
   ]
  },
  {
   "cell_type": "code",
   "execution_count": null,
   "id": "3197ac2f-8f3d-4afb-90a8-ed8cb7047baf",
   "metadata": {},
   "outputs": [],
   "source": []
  },
  {
   "cell_type": "code",
   "execution_count": null,
   "id": "a00d2906-5673-4f52-b1c2-87247c391f21",
   "metadata": {},
   "outputs": [
    {
     "name": "stdout",
     "output_type": "stream",
     "text": [
      "hello\n"
     ]
    }
   ],
   "source": [
    "if any([0,1,0,0]):\n",
    "    print('hello')      #next to if that must be True"
   ]
  },
  {
   "cell_type": "code",
   "execution_count": null,
   "id": "eb484227-e396-4a79-bd9c-26c5cdf0a126",
   "metadata": {},
   "outputs": [],
   "source": []
  },
  {
   "cell_type": "code",
   "execution_count": null,
   "id": "d1e7bf3c-6bfa-4689-9164-7978316c40aa",
   "metadata": {},
   "outputs": [],
   "source": []
  },
  {
   "cell_type": "code",
   "execution_count": null,
   "id": "57c83774-ee14-4298-aa4e-e31671ab9a4c",
   "metadata": {},
   "outputs": [],
   "source": []
  },
  {
   "cell_type": "code",
   "execution_count": null,
   "id": "6157306e-c2bd-42a3-bb65-ff04da521bff",
   "metadata": {},
   "outputs": [
    {
     "name": "stdout",
     "output_type": "stream",
     "text": [
      "5\n",
      "4\n",
      "3\n",
      "2\n",
      "1\n",
      "bitti\n"
     ]
    }
   ],
   "source": [
    "n=5\n",
    "\n",
    "while n>0:\n",
    "    print(n)\n",
    "    n-=1\n",
    "print('bitti')    "
   ]
  },
  {
   "cell_type": "code",
   "execution_count": null,
   "id": "74af12ba-6aa6-418c-8234-215022e6eb19",
   "metadata": {},
   "outputs": [],
   "source": []
  },
  {
   "cell_type": "code",
   "execution_count": null,
   "id": "a0394cc1-aa05-4336-8a76-3688292cbf0c",
   "metadata": {},
   "outputs": [],
   "source": []
  },
  {
   "cell_type": "code",
   "execution_count": null,
   "id": "39dab4a7-3139-4a84-adfe-853093d3207e",
   "metadata": {},
   "outputs": [
    {
     "name": "stdout",
     "output_type": "stream",
     "text": [
      "4\n",
      "2\n",
      "1\n",
      "0\n",
      "bitti\n"
     ]
    }
   ],
   "source": [
    "n=5\n",
    "\n",
    "while n>0:\n",
    "    n-=1\n",
    "    if n==3:        # 3 e gelince atla demek istedik\n",
    "        continue\n",
    "    print(n)\n",
    "print('bitti')    "
   ]
  },
  {
   "cell_type": "code",
   "execution_count": null,
   "id": "e7ade73a-c418-470f-bee3-90502452a37c",
   "metadata": {},
   "outputs": [],
   "source": []
  },
  {
   "cell_type": "code",
   "execution_count": null,
   "id": "a4350d43-a303-447e-bc79-f43cf85ccfed",
   "metadata": {},
   "outputs": [],
   "source": []
  },
  {
   "cell_type": "code",
   "execution_count": null,
   "id": "e2bf55bf-71ab-475e-896f-4087e605dda0",
   "metadata": {},
   "outputs": [],
   "source": []
  },
  {
   "cell_type": "code",
   "execution_count": null,
   "id": "ed28fe33-0ec4-4fe8-bd15-9beae4f64b47",
   "metadata": {},
   "outputs": [
    {
     "name": "stdout",
     "output_type": "stream",
     "text": [
      "AHMET\n",
      "MEHMET\n",
      "HÜSEYIN\n",
      "AYSE\n",
      "bitti\n"
     ]
    }
   ],
   "source": [
    "listem=['ahmet','mehmet','hüseyin','ayse']\n",
    "\n",
    "i=0\n",
    "\n",
    "while i<len(listem):\n",
    "    print(listem[i].upper())\n",
    "    i+=1\n",
    "print('bitti')    "
   ]
  },
  {
   "cell_type": "code",
   "execution_count": null,
   "id": "c9174b65-5e24-4364-8916-69dd1d6052dc",
   "metadata": {},
   "outputs": [],
   "source": []
  },
  {
   "cell_type": "code",
   "execution_count": null,
   "id": "7fb46536-c91a-4687-a085-fa284f764abe",
   "metadata": {},
   "outputs": [],
   "source": []
  },
  {
   "cell_type": "code",
   "execution_count": null,
   "id": "50d724c9-6776-4976-951a-92313ce481af",
   "metadata": {},
   "outputs": [],
   "source": []
  },
  {
   "cell_type": "code",
   "execution_count": null,
   "id": "2051c24b-8bdb-400c-b956-85c099021120",
   "metadata": {},
   "outputs": [
    {
     "name": "stdout",
     "output_type": "stream",
     "text": [
      "AHMET\n",
      "MEHMET\n",
      "HÜSEYIN\n",
      "AYSE\n",
      "bitti\n"
     ]
    }
   ],
   "source": [
    "import time\n",
    "\n",
    "listem=['ahmet','mehmet','hüseyin','ayse']\n",
    "\n",
    "i=0\n",
    "\n",
    "while i<len(listem):\n",
    "    print(listem[i].upper())\n",
    "    time.sleep(1)               #time kütüphanesinden sleep cagirip,cikti aralarina süre koyabiliriz\n",
    "    i+=1\n",
    "print('bitti') "
   ]
  },
  {
   "cell_type": "code",
   "execution_count": null,
   "id": "28416a63-617a-4535-825d-806b7e8be398",
   "metadata": {},
   "outputs": [],
   "source": []
  },
  {
   "cell_type": "code",
   "execution_count": null,
   "id": "ebac342b-508e-4913-852a-8e316c5267fb",
   "metadata": {},
   "outputs": [],
   "source": []
  },
  {
   "cell_type": "code",
   "execution_count": null,
   "id": "5accc2a7-1626-4816-a19c-67e8fc41df77",
   "metadata": {},
   "outputs": [],
   "source": []
  },
  {
   "cell_type": "code",
   "execution_count": null,
   "id": "5734ef57-3584-433b-9146-2147ac465b49",
   "metadata": {},
   "outputs": [
    {
     "name": "stdout",
     "output_type": "stream",
     "text": [
      "0 ali\n",
      "0 kemal\n",
      "1 ali\n",
      "1 kemal\n",
      "2 ali\n",
      "2 kemal\n",
      "3 ali\n",
      "3 kemal\n",
      "4 ali\n",
      "4 kemal\n",
      "5 ali\n",
      "5 kemal\n",
      "6 ali\n",
      "6 kemal\n",
      "7 ali\n",
      "7 kemal\n",
      "8 ali\n",
      "8 kemal\n",
      "9 ali\n",
      "9 kemal\n"
     ]
    }
   ],
   "source": [
    "for i in range(10):             #for icinde for olur \n",
    "    for a in ['ali','kemal']:\n",
    "        print(i,a)\n",
    "    "
   ]
  },
  {
   "cell_type": "code",
   "execution_count": null,
   "id": "37598dda",
   "metadata": {},
   "outputs": [],
   "source": []
  },
  {
   "cell_type": "code",
   "execution_count": null,
   "id": "bf1340e0",
   "metadata": {},
   "outputs": [],
   "source": []
  },
  {
   "cell_type": "code",
   "execution_count": null,
   "id": "fe182bdc",
   "metadata": {},
   "outputs": [],
   "source": []
  },
  {
   "cell_type": "code",
   "execution_count": null,
   "id": "a953480f-f4b0-4d41-aa0b-c871670a8332",
   "metadata": {},
   "outputs": [
    {
     "name": "stdout",
     "output_type": "stream",
     "text": [
      "T\n",
      "I\n",
      "I\n"
     ]
    }
   ],
   "source": [
    "isimler=['mehmet','ali','veli']\n",
    "\n",
    "for isim in isimler:\n",
    "    print(isim.upper()[-1])   #isimlerin son harfi"
   ]
  },
  {
   "cell_type": "code",
   "execution_count": null,
   "id": "8e11f8ba-0fb3-4ecb-9328-877777191e34",
   "metadata": {},
   "outputs": [],
   "source": []
  },
  {
   "cell_type": "code",
   "execution_count": null,
   "id": "aff247b6-4249-42fd-9586-83e3eb5633ef",
   "metadata": {},
   "outputs": [],
   "source": []
  },
  {
   "cell_type": "code",
   "execution_count": null,
   "id": "9f5a7aed-6155-4307-a8c3-a2c923a4ddc4",
   "metadata": {},
   "outputs": [
    {
     "name": "stdout",
     "output_type": "stream",
     "text": [
      "yasi\n",
      "adi\n"
     ]
    }
   ],
   "source": [
    "myDict={'yasi':40,'adi': 'murat'}\n",
    "\n",
    "\n",
    "for i in myDict:        #sadece keyleri yaziyor,hepsi icin items()  kullanmaliyiz\n",
    "    print(i)"
   ]
  },
  {
   "cell_type": "code",
   "execution_count": null,
   "id": "dd2580e1",
   "metadata": {},
   "outputs": [
    {
     "name": "stdout",
     "output_type": "stream",
     "text": [
      "yasi 40\n",
      "adi murat\n"
     ]
    }
   ],
   "source": [
    "myDict={'yasi':40,'adi': 'murat'}\n",
    "\n",
    "\n",
    "for k,v in myDict.items():        #sadece keyleri yaziyor,hepsi icin items()  kullanmaliyiz\n",
    "    print(k,v)"
   ]
  },
  {
   "cell_type": "code",
   "execution_count": null,
   "id": "2d44ce95",
   "metadata": {},
   "outputs": [],
   "source": []
  },
  {
   "cell_type": "code",
   "execution_count": null,
   "id": "30d17368",
   "metadata": {},
   "outputs": [],
   "source": []
  },
  {
   "cell_type": "code",
   "execution_count": null,
   "id": "6eeaffff",
   "metadata": {},
   "outputs": [],
   "source": []
  },
  {
   "cell_type": "code",
   "execution_count": null,
   "id": "19f07751",
   "metadata": {},
   "outputs": [
    {
     "name": "stdout",
     "output_type": "stream",
     "text": [
      "[1, 2, 3, 4, 5, 6]\n"
     ]
    }
   ],
   "source": [
    "data=[[1,2],[3,4],[5,6]]          #bunlari hepsini tek bir listede göster\n",
    "\n",
    "newdata=[]\n",
    "\n",
    "for k in data:\n",
    "    for y in k:\n",
    "        newdata.append(y)\n",
    "        \n",
    "print(newdata)        \n",
    "    "
   ]
  },
  {
   "cell_type": "code",
   "execution_count": null,
   "id": "0c282862",
   "metadata": {},
   "outputs": [],
   "source": []
  },
  {
   "cell_type": "code",
   "execution_count": null,
   "id": "d7cf539a",
   "metadata": {},
   "outputs": [],
   "source": []
  },
  {
   "cell_type": "code",
   "execution_count": null,
   "id": "ce482181",
   "metadata": {},
   "outputs": [],
   "source": [
    "#while 5>3:\n",
    "#print()     eger hep true iken calistirirsak sonsuz döngüye girer"
   ]
  },
  {
   "cell_type": "code",
   "execution_count": null,
   "id": "d7ec6b16",
   "metadata": {},
   "outputs": [],
   "source": []
  },
  {
   "cell_type": "code",
   "execution_count": null,
   "id": "961cc23d",
   "metadata": {},
   "outputs": [],
   "source": []
  },
  {
   "cell_type": "code",
   "execution_count": null,
   "id": "7f358229",
   "metadata": {},
   "outputs": [
    {
     "name": "stdout",
     "output_type": "stream",
     "text": [
      "0\n",
      "bitti\n",
      "1\n",
      "bitti\n",
      "2\n",
      "bitti\n",
      "3\n",
      "bitti\n",
      "4\n",
      "bitti\n"
     ]
    }
   ],
   "source": [
    "n=0\n",
    "\n",
    "while n<5:\n",
    "    print(n)\n",
    "    n+=1\n",
    "    print('bitti')      #eger printi döngü icinde yazarsam,her sayi basa dönerken bir kere daha bitti yazar"
   ]
  },
  {
   "cell_type": "code",
   "execution_count": null,
   "id": "7b834b18",
   "metadata": {},
   "outputs": [],
   "source": []
  },
  {
   "cell_type": "code",
   "execution_count": null,
   "id": "1136ff98",
   "metadata": {},
   "outputs": [],
   "source": []
  },
  {
   "cell_type": "code",
   "execution_count": null,
   "id": "2838e234",
   "metadata": {},
   "outputs": [],
   "source": []
  },
  {
   "cell_type": "code",
   "execution_count": null,
   "id": "d42d8599",
   "metadata": {},
   "outputs": [
    {
     "name": "stdout",
     "output_type": "stream",
     "text": [
      "0\n",
      "1\n",
      "2\n",
      "bitti\n"
     ]
    }
   ],
   "source": [
    "n=0\n",
    "\n",
    "while n<5:\n",
    "    print(n)\n",
    "    n+=1\n",
    "    if n==3:\n",
    "        break\n",
    "print('bitti')        #printcalisiyor breakten etkilenmedi,cünku döngü disinda"
   ]
  },
  {
   "cell_type": "code",
   "execution_count": null,
   "id": "a5b1d83d",
   "metadata": {},
   "outputs": [],
   "source": []
  },
  {
   "cell_type": "code",
   "execution_count": null,
   "id": "2f3f6f19",
   "metadata": {},
   "outputs": [
    {
     "name": "stdout",
     "output_type": "stream",
     "text": [
      "1\n",
      "2\n",
      "4\n",
      "5\n",
      "bitti\n"
     ]
    }
   ],
   "source": [
    "n=0\n",
    "\n",
    "while n<5:\n",
    "    n+=1\n",
    "    if n==3:\n",
    "        continue\n",
    "    print(n)         #printcontinue arkasinda olunca atladigi belli oluyor\n",
    "print('bitti')"
   ]
  },
  {
   "cell_type": "code",
   "execution_count": null,
   "id": "8e41fed1",
   "metadata": {},
   "outputs": [],
   "source": []
  },
  {
   "cell_type": "code",
   "execution_count": null,
   "id": "d0796252",
   "metadata": {},
   "outputs": [],
   "source": []
  },
  {
   "cell_type": "code",
   "execution_count": null,
   "id": "0b4b3087",
   "metadata": {},
   "outputs": [
    {
     "name": "stdout",
     "output_type": "stream",
     "text": [
      "ALI\n",
      "HASAN\n",
      "HÜSEYIN\n"
     ]
    }
   ],
   "source": [
    "names=['ali','hasan','hüseyin']\n",
    "\n",
    "n=0\n",
    "\n",
    "while n<len(names):\n",
    "    print(names[n].upper())\n",
    "    n+=1"
   ]
  },
  {
   "cell_type": "code",
   "execution_count": null,
   "id": "5aae4f1b",
   "metadata": {},
   "outputs": [],
   "source": []
  },
  {
   "cell_type": "code",
   "execution_count": null,
   "id": "13a16dff",
   "metadata": {},
   "outputs": [],
   "source": []
  },
  {
   "cell_type": "code",
   "execution_count": null,
   "id": "8ee844ad",
   "metadata": {},
   "outputs": [],
   "source": []
  },
  {
   "cell_type": "code",
   "execution_count": null,
   "id": "5a563f8d",
   "metadata": {},
   "outputs": [],
   "source": []
  },
  {
   "cell_type": "code",
   "execution_count": null,
   "id": "fe9306de",
   "metadata": {},
   "outputs": [
    {
     "name": "stdout",
     "output_type": "stream",
     "text": [
      "bulldog\n",
      "dalmation\n",
      "shihtzu\n",
      "poodle\n",
      "collie\n",
      "temiz\n"
     ]
    }
   ],
   "source": [
    "dog= ['bull%dog', 'dal%mation', 's%hihtzu', 'poo%dle', 'col%lie']\n",
    "\n",
    "\n",
    "\n",
    "i=0\n",
    "\n",
    "while  i<len(dog):\n",
    "    print(dog[i].replace('%',''))  #printsiz yapmak icin,\n",
    "                                          #bunu bir degiskene atayip,o degiskeni yazdirirsin\n",
    "    \n",
    "    i+=1\n",
    "print('temiz')     #bu printdöngü disi oldugu icin en sonda calisyo"
   ]
  },
  {
   "cell_type": "code",
   "execution_count": null,
   "id": "02ec1178",
   "metadata": {},
   "outputs": [],
   "source": []
  },
  {
   "cell_type": "code",
   "execution_count": null,
   "id": "9b59d4fd",
   "metadata": {},
   "outputs": [],
   "source": []
  },
  {
   "cell_type": "code",
   "execution_count": null,
   "id": "af38b143",
   "metadata": {},
   "outputs": [],
   "source": []
  },
  {
   "cell_type": "code",
   "execution_count": null,
   "id": "653b1074",
   "metadata": {},
   "outputs": [
    {
     "name": "stdout",
     "output_type": "stream",
     "text": [
      "o\n"
     ]
    }
   ],
   "source": [
    "myString='hello'\n",
    "\n",
    "for harf in myString:\n",
    "    if harf=='e':\n",
    "        continue\n",
    "        print(harf)\n",
    "print(harf)        "
   ]
  },
  {
   "cell_type": "code",
   "execution_count": null,
   "id": "33f3fbbc",
   "metadata": {},
   "outputs": [],
   "source": []
  },
  {
   "cell_type": "code",
   "execution_count": null,
   "id": "45aaa818",
   "metadata": {},
   "outputs": [],
   "source": []
  },
  {
   "cell_type": "code",
   "execution_count": null,
   "id": "8d024de1",
   "metadata": {},
   "outputs": [],
   "source": [
    "data=[[[1,2],[1,3]],[[1,2],[1,3]],[[1,2],[1,3]]]"
   ]
  },
  {
   "cell_type": "code",
   "execution_count": null,
   "id": "b3b3b67a",
   "metadata": {},
   "outputs": [
    {
     "name": "stdout",
     "output_type": "stream",
     "text": [
      "[1, 2, 1, 3, 1, 2, 1, 3, 1, 2, 1, 3]\n"
     ]
    }
   ],
   "source": [
    "datalist=[]\n",
    "for listem in data:\n",
    "    for i in listem:\n",
    "        for j in i:\n",
    "            datalist.append(j)\n",
    "print(datalist)            "
   ]
  },
  {
   "cell_type": "code",
   "execution_count": null,
   "id": "0dcbeac8",
   "metadata": {},
   "outputs": [],
   "source": []
  },
  {
   "cell_type": "code",
   "execution_count": null,
   "id": "6ab05b55",
   "metadata": {},
   "outputs": [],
   "source": []
  },
  {
   "cell_type": "code",
   "execution_count": null,
   "id": "2c9a2617",
   "metadata": {},
   "outputs": [],
   "source": []
  },
  {
   "cell_type": "markdown",
   "id": "1bbf0442",
   "metadata": {},
   "source": [
    "list comprehesion "
   ]
  },
  {
   "cell_type": "code",
   "execution_count": null,
   "id": "38375fad",
   "metadata": {},
   "outputs": [
    {
     "name": "stdout",
     "output_type": "stream",
     "text": [
      "[71, 72, 73, 74, 75, 76, 77, 78, 79, 80, 81, 82, 83, 84, 85, 86, 87, 88, 89]\n"
     ]
    }
   ],
   "source": [
    "cift =[x for x in range(100) if 70<x<90]\n",
    "print(cift)"
   ]
  },
  {
   "cell_type": "code",
   "execution_count": null,
   "id": "0c7d3774",
   "metadata": {},
   "outputs": [],
   "source": []
  },
  {
   "cell_type": "code",
   "execution_count": null,
   "id": "efdbf0b3",
   "metadata": {},
   "outputs": [],
   "source": []
  },
  {
   "cell_type": "code",
   "execution_count": null,
   "id": "53085fff",
   "metadata": {},
   "outputs": [],
   "source": []
  },
  {
   "cell_type": "code",
   "execution_count": null,
   "id": "97af12b2",
   "metadata": {},
   "outputs": [],
   "source": []
  },
  {
   "cell_type": "markdown",
   "id": "94d408a4",
   "metadata": {},
   "source": [
    "def"
   ]
  },
  {
   "cell_type": "code",
   "execution_count": null,
   "id": "ba0df94f",
   "metadata": {},
   "outputs": [],
   "source": [
    "#def  listelri_al() icine parametre yazmak sart degil\n",
    "#parametre yazarsan daha islevsel alur"
   ]
  },
  {
   "cell_type": "code",
   "execution_count": null,
   "id": "e7894f62",
   "metadata": {},
   "outputs": [],
   "source": []
  },
  {
   "cell_type": "code",
   "execution_count": null,
   "id": "6a387f15",
   "metadata": {},
   "outputs": [],
   "source": []
  },
  {
   "cell_type": "code",
   "execution_count": null,
   "id": "2179ae27",
   "metadata": {},
   "outputs": [],
   "source": [
    "def a():\n",
    "    print('hallo')  #ween es so bleibt,nehmen wir keinen Ausgabe,\n",
    "                    #wir sollen nacher dir func aufrufen,wenn wir eine Ausgabe nehmen möchten"
   ]
  },
  {
   "cell_type": "code",
   "execution_count": null,
   "id": "a6adcb2f",
   "metadata": {},
   "outputs": [
    {
     "name": "stdout",
     "output_type": "stream",
     "text": [
      "hallo\n"
     ]
    }
   ],
   "source": [
    "a()"
   ]
  },
  {
   "cell_type": "code",
   "execution_count": null,
   "id": "3d3056fc",
   "metadata": {},
   "outputs": [],
   "source": []
  },
  {
   "cell_type": "code",
   "execution_count": null,
   "id": "7a1f3da7",
   "metadata": {},
   "outputs": [],
   "source": []
  },
  {
   "cell_type": "code",
   "execution_count": null,
   "id": "b4dcb5df",
   "metadata": {},
   "outputs": [],
   "source": []
  },
  {
   "cell_type": "code",
   "execution_count": null,
   "id": "183e83ce",
   "metadata": {},
   "outputs": [],
   "source": [
    "def a(fname):\n",
    "    print(fname+'name')"
   ]
  },
  {
   "cell_type": "code",
   "execution_count": null,
   "id": "99968003",
   "metadata": {},
   "outputs": [],
   "source": []
  },
  {
   "cell_type": "code",
   "execution_count": null,
   "id": "a5180f00",
   "metadata": {},
   "outputs": [],
   "source": []
  },
  {
   "cell_type": "code",
   "execution_count": null,
   "id": "54dd4ea1",
   "metadata": {},
   "outputs": [],
   "source": [
    "#return dönen seydir ekanda göyukmeyebilir,belki sonra baska yerde kullaniriz\n",
    "\n",
    "#göremediginde print yazarak ekrana bastir"
   ]
  },
  {
   "cell_type": "code",
   "execution_count": null,
   "id": "7dc03785",
   "metadata": {},
   "outputs": [],
   "source": []
  },
  {
   "cell_type": "code",
   "execution_count": null,
   "id": "bdc4127c",
   "metadata": {},
   "outputs": [],
   "source": []
  },
  {
   "cell_type": "code",
   "execution_count": null,
   "id": "6760397c",
   "metadata": {},
   "outputs": [],
   "source": [
    "def my_func(username):\n",
    "        print(f'hello {username}')  #bu sekilde kalirsa cikti vermez sadece fonk.tanimlamis oluruz\n",
    "        \n",
    "#my_func('veysel')   "
   ]
  },
  {
   "cell_type": "code",
   "execution_count": null,
   "id": "2fa1ec01",
   "metadata": {},
   "outputs": [],
   "source": []
  },
  {
   "cell_type": "code",
   "execution_count": null,
   "id": "837d174b",
   "metadata": {},
   "outputs": [],
   "source": []
  },
  {
   "cell_type": "code",
   "execution_count": null,
   "id": "3c656f7f",
   "metadata": {},
   "outputs": [],
   "source": []
  },
  {
   "cell_type": "code",
   "execution_count": null,
   "id": "f4f5f7a3",
   "metadata": {},
   "outputs": [
    {
     "ename": "TypeError",
     "evalue": "my_func() missing 1 required positional argument: 'username'",
     "output_type": "error",
     "traceback": [
      "\u001b[0;31m---------------------------------------------------------------------------\u001b[0m",
      "\u001b[0;31mTypeError\u001b[0m                                 Traceback (most recent call last)",
      "\u001b[0;32m/var/folders/9_/vpq34lwj3bv0yhs22t_s7s7w0000gn/T/ipykernel_1936/1166575925.py\u001b[0m in \u001b[0;36m<module>\u001b[0;34m\u001b[0m\n\u001b[1;32m      3\u001b[0m \u001b[0;34m\u001b[0m\u001b[0m\n\u001b[1;32m      4\u001b[0m \u001b[0;34m\u001b[0m\u001b[0m\n\u001b[0;32m----> 5\u001b[0;31m \u001b[0mmy_func\u001b[0m\u001b[0;34m(\u001b[0m\u001b[0;34m)\u001b[0m\u001b[0;34m\u001b[0m\u001b[0;34m\u001b[0m\u001b[0m\n\u001b[0m",
      "\u001b[0;31mTypeError\u001b[0m: my_func() missing 1 required positional argument: 'username'"
     ]
    }
   ],
   "source": [
    "def my_func(username):\n",
    "        print(f'hello {username}')\n",
    "        \n",
    "        \n",
    "my_func()        "
   ]
  },
  {
   "cell_type": "code",
   "execution_count": null,
   "id": "89a31024",
   "metadata": {},
   "outputs": [],
   "source": []
  },
  {
   "cell_type": "code",
   "execution_count": null,
   "id": "93123386",
   "metadata": {},
   "outputs": [],
   "source": []
  },
  {
   "cell_type": "code",
   "execution_count": null,
   "id": "bc3fe66e",
   "metadata": {},
   "outputs": [
    {
     "name": "stdout",
     "output_type": "stream",
     "text": [
      "hello veysel\n"
     ]
    }
   ],
   "source": [
    "def my_func(username='veysel'):\n",
    "        print(f'hello {username}')\n",
    "        \n",
    "        \n",
    "my_func()    #oben  haben wir eine default value erstellt. deswegen sollen wir keine Argument feststellen\n",
    "\n",
    "#eger sonradan bir arguman koysam bile ilk yazdigima baskin gelip ,kendini yazdirir\n",
    "#cunk güncel olan bu"
   ]
  },
  {
   "cell_type": "code",
   "execution_count": null,
   "id": "ec01762e",
   "metadata": {},
   "outputs": [],
   "source": []
  },
  {
   "cell_type": "code",
   "execution_count": null,
   "id": "eccde71f",
   "metadata": {},
   "outputs": [],
   "source": []
  },
  {
   "cell_type": "code",
   "execution_count": null,
   "id": "d0cd457f",
   "metadata": {},
   "outputs": [],
   "source": []
  },
  {
   "cell_type": "code",
   "execution_count": null,
   "id": "40c3df64",
   "metadata": {},
   "outputs": [],
   "source": [
    "def selam():\n",
    "    print('hallo')"
   ]
  },
  {
   "cell_type": "code",
   "execution_count": null,
   "id": "91d59412",
   "metadata": {},
   "outputs": [
    {
     "name": "stdout",
     "output_type": "stream",
     "text": [
      "hallo\n"
     ]
    }
   ],
   "source": [
    "selam()"
   ]
  },
  {
   "cell_type": "code",
   "execution_count": null,
   "id": "9b7fce6a",
   "metadata": {},
   "outputs": [],
   "source": []
  },
  {
   "cell_type": "code",
   "execution_count": null,
   "id": "6aeea999",
   "metadata": {},
   "outputs": [],
   "source": []
  },
  {
   "cell_type": "code",
   "execution_count": null,
   "id": "61d47e0f",
   "metadata": {},
   "outputs": [
    {
     "name": "stdout",
     "output_type": "stream",
     "text": [
      "15\n"
     ]
    }
   ],
   "source": [
    "def func1():\n",
    "    return 5+6\n",
    "\n",
    "\n",
    "\n",
    "def func2():\n",
    "    print(10+5)\n",
    "    \n",
    "    \n",
    "    \n",
    "func1()  #bu fonksiyonu cagirarak ona 5+6 yi döndür dedik,ama sadece döndür dedik\n",
    "         #oda bunu döndürdü ama sonrasinda ne yapacagini ona söylemedik\n",
    "\n",
    "\n",
    "    \n",
    "func2()   #burda ise ona direkt yazdir dedik,ne yapacagi cok belli"
   ]
  },
  {
   "cell_type": "code",
   "execution_count": null,
   "id": "59925533",
   "metadata": {},
   "outputs": [],
   "source": []
  },
  {
   "cell_type": "code",
   "execution_count": null,
   "id": "1313f00d",
   "metadata": {},
   "outputs": [],
   "source": []
  },
  {
   "cell_type": "code",
   "execution_count": null,
   "id": "a0faf10d",
   "metadata": {},
   "outputs": [
    {
     "name": "stdout",
     "output_type": "stream",
     "text": [
      "15\n"
     ]
    }
   ],
   "source": [
    "def func2():\n",
    "    print(10+5)\n",
    "    \n",
    "veysel=func2()             #fonksiyonu bir degiskene atayinca orda yazili oldugu icin\n",
    "                           #cagirmis gibi olduk aslinda\n",
    "    \n",
    "    "
   ]
  },
  {
   "cell_type": "code",
   "execution_count": null,
   "id": "1914c129",
   "metadata": {},
   "outputs": [],
   "source": []
  },
  {
   "cell_type": "code",
   "execution_count": null,
   "id": "09270e0b",
   "metadata": {},
   "outputs": [
    {
     "name": "stdout",
     "output_type": "stream",
     "text": [
      "15\n",
      "None\n"
     ]
    }
   ],
   "source": [
    "def func2():\n",
    "    print(10+5)\n",
    "    \n",
    "    \n",
    "print(func2())     #printicinde de calisiyor ama galiba print icindeki  func2  den dolayi\n",
    "                    #15 i aldik ama printeen dolayi None aldik"
   ]
  },
  {
   "cell_type": "code",
   "execution_count": null,
   "id": "d84da7c9",
   "metadata": {},
   "outputs": [],
   "source": []
  },
  {
   "cell_type": "code",
   "execution_count": null,
   "id": "4527c3aa",
   "metadata": {},
   "outputs": [],
   "source": []
  },
  {
   "cell_type": "code",
   "execution_count": null,
   "id": "c361dd00",
   "metadata": {},
   "outputs": [],
   "source": []
  },
  {
   "cell_type": "code",
   "execution_count": null,
   "id": "8f10d4b2",
   "metadata": {},
   "outputs": [],
   "source": []
  },
  {
   "cell_type": "code",
   "execution_count": null,
   "id": "34272cc1",
   "metadata": {},
   "outputs": [
    {
     "name": "stdout",
     "output_type": "stream",
     "text": [
      "merhaba\n",
      "merhaba\n",
      "merhaba\n",
      "merhaba\n",
      "merhaba\n",
      "merhaba\n",
      "merhaba\n",
      "merhaba\n",
      "merhaba\n",
      "merhaba\n"
     ]
    }
   ],
   "source": [
    "for i in range(10):      #her alacagi i icin bir defa print yazdirdi\n",
    "    print('merhaba')     #güzel bir yöntem aslinda,"
   ]
  },
  {
   "cell_type": "code",
   "execution_count": null,
   "id": "97c9965a",
   "metadata": {},
   "outputs": [],
   "source": []
  },
  {
   "cell_type": "code",
   "execution_count": null,
   "id": "ba3d6489",
   "metadata": {},
   "outputs": [],
   "source": []
  },
  {
   "cell_type": "code",
   "execution_count": null,
   "id": "c6ade5a3",
   "metadata": {},
   "outputs": [],
   "source": []
  },
  {
   "cell_type": "code",
   "execution_count": null,
   "id": "a1fc31f4",
   "metadata": {},
   "outputs": [],
   "source": [
    "def selamVer(name):\n",
    "    print('merhaba '+name)    #calistirinca cikti almiyoruz,bu iyi tanimladigimizi gösteriyor\n",
    "                              #bir sonraki satirda yine cagirip cevap aliriz"
   ]
  },
  {
   "cell_type": "code",
   "execution_count": null,
   "id": "f52e96fb",
   "metadata": {},
   "outputs": [
    {
     "name": "stdout",
     "output_type": "stream",
     "text": [
      "merhaba veysel\n"
     ]
    }
   ],
   "source": [
    "selamVer('veysel')"
   ]
  },
  {
   "cell_type": "code",
   "execution_count": null,
   "id": "f2aaf68d",
   "metadata": {},
   "outputs": [],
   "source": []
  },
  {
   "cell_type": "code",
   "execution_count": null,
   "id": "33f0c40f",
   "metadata": {},
   "outputs": [],
   "source": []
  },
  {
   "cell_type": "code",
   "execution_count": null,
   "id": "843e25cb",
   "metadata": {},
   "outputs": [],
   "source": [
    "def besileCarp(sayi):    #sadece bunu calistirinca cikti almaddik,hatada almadik\n",
    "    print(sayi*5)"
   ]
  },
  {
   "cell_type": "code",
   "execution_count": null,
   "id": "5361c284",
   "metadata": {},
   "outputs": [
    {
     "name": "stdout",
     "output_type": "stream",
     "text": [
      "20\n"
     ]
    }
   ],
   "source": [
    "besileCarp(4)"
   ]
  },
  {
   "cell_type": "code",
   "execution_count": null,
   "id": "15d843d5",
   "metadata": {},
   "outputs": [
    {
     "name": "stdout",
     "output_type": "stream",
     "text": [
      "0\n",
      "None\n",
      "5\n",
      "None\n",
      "10\n",
      "None\n",
      "15\n",
      "None\n",
      "20\n",
      "None\n"
     ]
    }
   ],
   "source": [
    "for i in range(5):\n",
    "    print(besileCarp(i))     #none lar return ile ilgili dedi hoca"
   ]
  },
  {
   "cell_type": "code",
   "execution_count": null,
   "id": "39b8af4d",
   "metadata": {},
   "outputs": [],
   "source": []
  },
  {
   "cell_type": "code",
   "execution_count": null,
   "id": "c885cd81",
   "metadata": {},
   "outputs": [],
   "source": []
  },
  {
   "cell_type": "code",
   "execution_count": null,
   "id": "5ffdeaba",
   "metadata": {},
   "outputs": [
    {
     "name": "stdout",
     "output_type": "stream",
     "text": [
      "kelime yazinizveysel\n"
     ]
    }
   ],
   "source": [
    "kelime=input('kelime yaziniz')   #burda benim hatam,bu bölümü yazdim ve hemen cevap bekledim\n",
    "                                 #aslinda bir alt satira gelip fonk cagirmam gerekirdi\n",
    "def büyükharf(kelime):\n",
    "    print(kelime.upper())\n",
    "    "
   ]
  },
  {
   "cell_type": "code",
   "execution_count": null,
   "id": "494c4b17",
   "metadata": {},
   "outputs": [
    {
     "name": "stdout",
     "output_type": "stream",
     "text": [
      "VEYSEL\n"
     ]
    }
   ],
   "source": [
    "büyükharf('veysel')"
   ]
  },
  {
   "cell_type": "code",
   "execution_count": null,
   "id": "87d1d330",
   "metadata": {},
   "outputs": [],
   "source": []
  },
  {
   "cell_type": "code",
   "execution_count": null,
   "id": "b6c11094",
   "metadata": {},
   "outputs": [],
   "source": []
  },
  {
   "cell_type": "code",
   "execution_count": null,
   "id": "b6b80004",
   "metadata": {},
   "outputs": [],
   "source": [
    "def selam(isim,soyisim):\n",
    "    print('merhaba {} {}'.format(isim,soyisim))"
   ]
  },
  {
   "cell_type": "code",
   "execution_count": null,
   "id": "2f606f09",
   "metadata": {},
   "outputs": [
    {
     "name": "stdout",
     "output_type": "stream",
     "text": [
      "merhaba veysel aytekin\n"
     ]
    }
   ],
   "source": [
    "selam('veysel','aytekin')"
   ]
  },
  {
   "cell_type": "code",
   "execution_count": null,
   "id": "52add504",
   "metadata": {},
   "outputs": [],
   "source": []
  },
  {
   "cell_type": "code",
   "execution_count": null,
   "id": "0393423a",
   "metadata": {},
   "outputs": [],
   "source": []
  },
  {
   "cell_type": "code",
   "execution_count": null,
   "id": "50512ef9",
   "metadata": {},
   "outputs": [],
   "source": []
  },
  {
   "cell_type": "code",
   "execution_count": null,
   "id": "4b08c599",
   "metadata": {},
   "outputs": [],
   "source": [
    "def hello(listem):        #schif ve iki tab yapinca def in aciklamasina göyukecek sey icin\n",
    "    \"\"\"\n",
    "    Bu fonktionun amaci  girilen isme merhaba demektir\n",
    "    \n",
    "    \n",
    "    \"\"\"\n",
    "    for isim in listem:\n",
    "        print('merhaba  ' +isim)"
   ]
  },
  {
   "cell_type": "code",
   "execution_count": null,
   "id": "1d886c33",
   "metadata": {},
   "outputs": [
    {
     "name": "stdout",
     "output_type": "stream",
     "text": [
      "merhaba  ali\n",
      "merhaba  mehmet\n",
      "merhaba  ayse\n"
     ]
    }
   ],
   "source": [
    "hello(['ali','mehmet','ayse'])"
   ]
  },
  {
   "cell_type": "code",
   "execution_count": null,
   "id": "5e147c15",
   "metadata": {},
   "outputs": [],
   "source": []
  },
  {
   "cell_type": "code",
   "execution_count": null,
   "id": "a7de58f1",
   "metadata": {},
   "outputs": [
    {
     "name": "stdout",
     "output_type": "stream",
     "text": [
      "\n",
      "    Bu fonktionun amaci  girilen isme merhaba demektir\n",
      "    \n",
      "    \n",
      "    \n"
     ]
    }
   ],
   "source": [
    "print(hello.__doc__)      #bu baska bir yol aciklamayi görmem icin"
   ]
  },
  {
   "cell_type": "code",
   "execution_count": null,
   "id": "97ede93a",
   "metadata": {},
   "outputs": [],
   "source": []
  },
  {
   "cell_type": "code",
   "execution_count": null,
   "id": "5a913eff",
   "metadata": {},
   "outputs": [],
   "source": []
  },
  {
   "cell_type": "code",
   "execution_count": null,
   "id": "0b19651e",
   "metadata": {},
   "outputs": [],
   "source": [
    "def büyükharf(*names):     #bu carpi isareti ile bircok isim gelecegini anlamis oluruz,sonradan gelecekler\n",
    "    for name in names:\n",
    "        print(name.upper())\n",
    "    "
   ]
  },
  {
   "cell_type": "code",
   "execution_count": null,
   "id": "42491107",
   "metadata": {},
   "outputs": [
    {
     "name": "stdout",
     "output_type": "stream",
     "text": [
      "AHMET\n",
      "SALIH\n",
      "KADIR\n"
     ]
    }
   ],
   "source": [
    "büyükharf('ahmet','salih','kadir')"
   ]
  },
  {
   "cell_type": "code",
   "execution_count": null,
   "id": "71c7b685",
   "metadata": {},
   "outputs": [],
   "source": []
  },
  {
   "cell_type": "code",
   "execution_count": null,
   "id": "fada8fc8",
   "metadata": {},
   "outputs": [],
   "source": []
  },
  {
   "cell_type": "code",
   "execution_count": null,
   "id": "feced3b5",
   "metadata": {},
   "outputs": [],
   "source": []
  },
  {
   "cell_type": "code",
   "execution_count": null,
   "id": "7718c89b",
   "metadata": {},
   "outputs": [],
   "source": [
    "def hepsiniTopla(*sayi):\n",
    "    for i in sayi:\n",
    "        sum(sayi)\n",
    "    print(sum(sayi))    #print for icindeydi uc defa yazdirmisti,cikarinca düzeldi\n",
    "        \n",
    "    \n"
   ]
  },
  {
   "cell_type": "code",
   "execution_count": null,
   "id": "91c95238",
   "metadata": {},
   "outputs": [
    {
     "name": "stdout",
     "output_type": "stream",
     "text": [
      "10\n"
     ]
    }
   ],
   "source": [
    "hepsiniTopla(1,4,5)"
   ]
  },
  {
   "cell_type": "code",
   "execution_count": null,
   "id": "dd8d2c62",
   "metadata": {},
   "outputs": [],
   "source": []
  },
  {
   "cell_type": "code",
   "execution_count": null,
   "id": "e3617aaa",
   "metadata": {},
   "outputs": [],
   "source": []
  },
  {
   "cell_type": "code",
   "execution_count": null,
   "id": "15a3303f",
   "metadata": {},
   "outputs": [],
   "source": [
    "#fonksiyon icine parametre degilde,dict olarakta verebiliriz,eger dictten bisey gelecegii biliyorsan\n",
    "#iki carpi kullan"
   ]
  },
  {
   "cell_type": "code",
   "execution_count": null,
   "id": "cec52a23",
   "metadata": {},
   "outputs": [],
   "source": [
    "def myFonk(**listem):        #cift carpi ,sözlük yapisindan biseyler gelecegii gösterir\n",
    "    print(listem['isim']+' merhaba')"
   ]
  },
  {
   "cell_type": "code",
   "execution_count": null,
   "id": "46c40de2",
   "metadata": {},
   "outputs": [],
   "source": [
    "myfonk(isim='veysel', soyadi='akca',yas='40')"
   ]
  },
  {
   "cell_type": "code",
   "execution_count": null,
   "id": "fd18d51c",
   "metadata": {},
   "outputs": [],
   "source": []
  },
  {
   "cell_type": "code",
   "execution_count": null,
   "id": "c05751a5",
   "metadata": {},
   "outputs": [],
   "source": []
  },
  {
   "cell_type": "code",
   "execution_count": null,
   "id": "a82514a0",
   "metadata": {},
   "outputs": [],
   "source": [
    "def mfn(**listem):    #tek carpi koyunca olmadi,cunku sonrasinda dict yapisi gelecek\n",
    "    print(listem)"
   ]
  },
  {
   "cell_type": "code",
   "execution_count": null,
   "id": "4a01e0d9",
   "metadata": {},
   "outputs": [
    {
     "name": "stdout",
     "output_type": "stream",
     "text": [
      "{'isim': 'ahmet', 'soyadi': 'ruzgar'}\n"
     ]
    }
   ],
   "source": [
    "mfn(isim='ahmet',soyadi='ruzgar')"
   ]
  },
  {
   "cell_type": "code",
   "execution_count": null,
   "id": "e6de3c5b",
   "metadata": {},
   "outputs": [],
   "source": []
  },
  {
   "cell_type": "code",
   "execution_count": null,
   "id": "95731a32",
   "metadata": {},
   "outputs": [],
   "source": []
  },
  {
   "cell_type": "code",
   "execution_count": null,
   "id": "97bff938",
   "metadata": {},
   "outputs": [],
   "source": []
  },
  {
   "cell_type": "code",
   "execution_count": null,
   "id": "d302ec52",
   "metadata": {},
   "outputs": [],
   "source": []
  },
  {
   "cell_type": "code",
   "execution_count": null,
   "id": "a8bbdade",
   "metadata": {},
   "outputs": [],
   "source": [
    "#return nu olan fonksiyonlari bir degiskene esitlersem atama islemi olur,\n",
    "#eger sadece print varsa onu degiskene atarsam print calisir,eger ben o degiskenin adini yazarsam\n",
    "#ama atama olmuyor,ben o printli olan degiskeni baska yerde cagirirsam atama olmadigi\n",
    "#icin baska yerde calismaz.\n",
    "#ama return olan fonksiyonu degiskene esitleyince atama islemi oldugu icin\n",
    "#heryerde cagirdigimizda o atanmis fonksiyonla iliskili olur"
   ]
  },
  {
   "cell_type": "code",
   "execution_count": null,
   "id": "94d57ff9",
   "metadata": {},
   "outputs": [],
   "source": []
  },
  {
   "cell_type": "code",
   "execution_count": null,
   "id": "ca010c5b",
   "metadata": {},
   "outputs": [],
   "source": []
  },
  {
   "cell_type": "code",
   "execution_count": null,
   "id": "95364a77",
   "metadata": {},
   "outputs": [],
   "source": [
    "def selam():\n",
    "    return 'merhaba'"
   ]
  },
  {
   "cell_type": "code",
   "execution_count": null,
   "id": "65bc6104",
   "metadata": {},
   "outputs": [],
   "source": [
    "def hello():\n",
    "    print('hi')"
   ]
  },
  {
   "cell_type": "code",
   "execution_count": null,
   "id": "f590d0b3",
   "metadata": {},
   "outputs": [],
   "source": [
    "myVar=selam()"
   ]
  },
  {
   "cell_type": "code",
   "execution_count": null,
   "id": "3bd6e5fd",
   "metadata": {},
   "outputs": [
    {
     "data": {
      "text/plain": [
       "'merhaba'"
      ]
     },
     "execution_count": 4,
     "metadata": {},
     "output_type": "execute_result"
    }
   ],
   "source": [
    "selam()  #burda jupyterden gelen bir print var VScode cikti almayiz"
   ]
  },
  {
   "cell_type": "code",
   "execution_count": null,
   "id": "44cdb0c9",
   "metadata": {},
   "outputs": [
    {
     "name": "stdout",
     "output_type": "stream",
     "text": [
      "hi\n"
     ]
    }
   ],
   "source": [
    "myVar2=hello()"
   ]
  },
  {
   "cell_type": "code",
   "execution_count": null,
   "id": "d3b99691",
   "metadata": {},
   "outputs": [],
   "source": [
    "myVar2      #burda atama olmadigini goruyoruz cunku calistirinca cikti almadik\n",
    "            #yukarda esitlemis olmamiza ragmen"
   ]
  },
  {
   "cell_type": "code",
   "execution_count": null,
   "id": "3d442e97",
   "metadata": {},
   "outputs": [],
   "source": []
  },
  {
   "cell_type": "code",
   "execution_count": null,
   "id": "ff16659a",
   "metadata": {},
   "outputs": [],
   "source": []
  },
  {
   "cell_type": "code",
   "execution_count": null,
   "id": "2babdbb4",
   "metadata": {},
   "outputs": [],
   "source": []
  },
  {
   "cell_type": "code",
   "execution_count": null,
   "id": "f0506692",
   "metadata": {},
   "outputs": [],
   "source": [
    "def pi():\n",
    "    print(3.14)"
   ]
  },
  {
   "cell_type": "code",
   "execution_count": null,
   "id": "4de9fe5b",
   "metadata": {},
   "outputs": [
    {
     "name": "stdout",
     "output_type": "stream",
     "text": [
      "3.14\n"
     ]
    }
   ],
   "source": [
    "x=pi()"
   ]
  },
  {
   "cell_type": "code",
   "execution_count": null,
   "id": "1294da01",
   "metadata": {},
   "outputs": [
    {
     "ename": "TypeError",
     "evalue": "unsupported operand type(s) for *: 'NoneType' and 'int'",
     "output_type": "error",
     "traceback": [
      "\u001b[0;31m---------------------------------------------------------------------------\u001b[0m",
      "\u001b[0;31mTypeError\u001b[0m                                 Traceback (most recent call last)",
      "\u001b[0;32m/var/folders/9_/vpq34lwj3bv0yhs22t_s7s7w0000gn/T/ipykernel_912/414459865.py\u001b[0m in \u001b[0;36m<module>\u001b[0;34m\u001b[0m\n\u001b[0;32m----> 1\u001b[0;31m \u001b[0mx\u001b[0m\u001b[0;34m*\u001b[0m\u001b[0;36m2\u001b[0m\u001b[0;34m\u001b[0m\u001b[0;34m\u001b[0m\u001b[0m\n\u001b[0m",
      "\u001b[0;31mTypeError\u001b[0m: unsupported operand type(s) for *: 'NoneType' and 'int'"
     ]
    }
   ],
   "source": [
    "x*2      #burdada atama olmadigi belli oluyor"
   ]
  },
  {
   "cell_type": "code",
   "execution_count": null,
   "id": "015d84e1",
   "metadata": {},
   "outputs": [],
   "source": []
  },
  {
   "cell_type": "code",
   "execution_count": null,
   "id": "35890fac",
   "metadata": {},
   "outputs": [],
   "source": [
    "def pi():\n",
    "    return(3.14)"
   ]
  },
  {
   "cell_type": "code",
   "execution_count": null,
   "id": "37f13b13",
   "metadata": {},
   "outputs": [],
   "source": [
    "x=pi()"
   ]
  },
  {
   "cell_type": "code",
   "execution_count": null,
   "id": "3a4a459d",
   "metadata": {},
   "outputs": [
    {
     "data": {
      "text/plain": [
       "6.28"
      ]
     },
     "execution_count": 13,
     "metadata": {},
     "output_type": "execute_result"
    }
   ],
   "source": [
    "x*2   #icinde return olanlar fonksiyon bir degiskene esitlendiginde atama islemi olmus olur"
   ]
  },
  {
   "cell_type": "code",
   "execution_count": null,
   "id": "7133d516",
   "metadata": {},
   "outputs": [],
   "source": []
  },
  {
   "cell_type": "code",
   "execution_count": null,
   "id": "4bec5606",
   "metadata": {},
   "outputs": [],
   "source": []
  },
  {
   "cell_type": "code",
   "execution_count": null,
   "id": "2d05f3f5",
   "metadata": {},
   "outputs": [],
   "source": []
  },
  {
   "cell_type": "code",
   "execution_count": null,
   "id": "aa1bda2e",
   "metadata": {},
   "outputs": [],
   "source": []
  },
  {
   "cell_type": "code",
   "execution_count": null,
   "id": "d3fa181c",
   "metadata": {},
   "outputs": [],
   "source": []
  },
  {
   "cell_type": "code",
   "execution_count": null,
   "id": "8015075a",
   "metadata": {},
   "outputs": [],
   "source": [
    "def merhaba(isim):\n",
    "    return 'merhaba  '+isim"
   ]
  },
  {
   "cell_type": "code",
   "execution_count": null,
   "id": "b781aa3b",
   "metadata": {},
   "outputs": [],
   "source": [
    "myString=merhaba('ali')"
   ]
  },
  {
   "cell_type": "code",
   "execution_count": null,
   "id": "b033e243",
   "metadata": {},
   "outputs": [
    {
     "data": {
      "text/plain": [
       "'merhaba  ali'"
      ]
     },
     "execution_count": 19,
     "metadata": {},
     "output_type": "execute_result"
    }
   ],
   "source": [
    "myString"
   ]
  },
  {
   "cell_type": "code",
   "execution_count": null,
   "id": "8843eb2a",
   "metadata": {},
   "outputs": [],
   "source": []
  },
  {
   "cell_type": "code",
   "execution_count": null,
   "id": "8b43176d",
   "metadata": {},
   "outputs": [],
   "source": []
  },
  {
   "cell_type": "code",
   "execution_count": null,
   "id": "c72f2367",
   "metadata": {},
   "outputs": [],
   "source": [
    "def cevir(kelime):\n",
    "    return kelime.upper()"
   ]
  },
  {
   "cell_type": "code",
   "execution_count": null,
   "id": "fda7dd8d",
   "metadata": {},
   "outputs": [
    {
     "data": {
      "text/plain": [
       "'MERHABA'"
      ]
     },
     "execution_count": 21,
     "metadata": {},
     "output_type": "execute_result"
    }
   ],
   "source": [
    "cevir('merhaba')"
   ]
  },
  {
   "cell_type": "code",
   "execution_count": null,
   "id": "ccc8340b",
   "metadata": {},
   "outputs": [],
   "source": []
  },
  {
   "cell_type": "code",
   "execution_count": null,
   "id": "ad331a54",
   "metadata": {},
   "outputs": [],
   "source": []
  },
  {
   "cell_type": "code",
   "execution_count": null,
   "id": "a242cda8",
   "metadata": {},
   "outputs": [],
   "source": []
  },
  {
   "cell_type": "code",
   "execution_count": null,
   "id": "6b34da00",
   "metadata": {},
   "outputs": [],
   "source": [
    "def myFk(isim,soyadi):\n",
    "    print(f'merhaba {isim}  {soyadi}  Bey')\n",
    "    \n",
    "    #kac parametre verdiysen,o kadar argüman yazmaliyiz"
   ]
  },
  {
   "cell_type": "code",
   "execution_count": null,
   "id": "50db163e",
   "metadata": {},
   "outputs": [
    {
     "name": "stdout",
     "output_type": "stream",
     "text": [
      "merhaba ali  poyraz  Bey\n"
     ]
    }
   ],
   "source": [
    "myFk('ali','poyraz')"
   ]
  },
  {
   "cell_type": "code",
   "execution_count": null,
   "id": "a7e8520c",
   "metadata": {},
   "outputs": [],
   "source": []
  },
  {
   "cell_type": "code",
   "execution_count": null,
   "id": "519964eb",
   "metadata": {},
   "outputs": [],
   "source": []
  },
  {
   "cell_type": "code",
   "execution_count": null,
   "id": "5e902b86",
   "metadata": {},
   "outputs": [],
   "source": []
  },
  {
   "cell_type": "code",
   "execution_count": null,
   "id": "457fd8a8",
   "metadata": {},
   "outputs": [],
   "source": []
  },
  {
   "cell_type": "code",
   "execution_count": null,
   "id": "7a41ec49",
   "metadata": {},
   "outputs": [],
   "source": [
    "def myFk2(liste):\n",
    "    print(f'merhaba {liste[0]}  {liste[1]}  Bey') "
   ]
  },
  {
   "cell_type": "code",
   "execution_count": null,
   "id": "22d5a5ff",
   "metadata": {},
   "outputs": [
    {
     "name": "stdout",
     "output_type": "stream",
     "text": [
      "merhaba ali  ayse  Bey\n"
     ]
    }
   ],
   "source": [
    "myFk2(['ali','ayse'])"
   ]
  },
  {
   "cell_type": "code",
   "execution_count": null,
   "id": "a9a3cd94",
   "metadata": {},
   "outputs": [],
   "source": []
  },
  {
   "cell_type": "code",
   "execution_count": null,
   "id": "820ac2a7",
   "metadata": {},
   "outputs": [],
   "source": []
  },
  {
   "cell_type": "code",
   "execution_count": null,
   "id": "32a9acb6",
   "metadata": {},
   "outputs": [],
   "source": []
  },
  {
   "cell_type": "code",
   "execution_count": null,
   "id": "b0f9d152",
   "metadata": {},
   "outputs": [],
   "source": []
  },
  {
   "cell_type": "code",
   "execution_count": null,
   "id": "219718bc",
   "metadata": {},
   "outputs": [],
   "source": [
    "def selam(*names):      #bir cok isim ayri ayri tanimlamak yerine *isareti bircok gelecegini soyler pythona \n",
    "    print()"
   ]
  },
  {
   "cell_type": "code",
   "execution_count": null,
   "id": "2ce95c4e",
   "metadata": {},
   "outputs": [],
   "source": []
  },
  {
   "cell_type": "code",
   "execution_count": null,
   "id": "c5dff4d0",
   "metadata": {},
   "outputs": [],
   "source": []
  },
  {
   "cell_type": "code",
   "execution_count": null,
   "id": "0df1b8cb",
   "metadata": {},
   "outputs": [],
   "source": []
  },
  {
   "cell_type": "code",
   "execution_count": null,
   "id": "b38bd7d5",
   "metadata": {},
   "outputs": [],
   "source": []
  },
  {
   "cell_type": "code",
   "execution_count": null,
   "id": "6b37a13d",
   "metadata": {},
   "outputs": [],
   "source": [
    "def greet(firstname,secondname):\n",
    "    print('merhaba '+ firstname + secondname)"
   ]
  },
  {
   "cell_type": "code",
   "execution_count": null,
   "id": "22925b2d",
   "metadata": {},
   "outputs": [
    {
     "ename": "TypeError",
     "evalue": "greet() got an unexpected keyword argument 'age'",
     "output_type": "error",
     "traceback": [
      "\u001b[0;31m---------------------------------------------------------------------------\u001b[0m",
      "\u001b[0;31mTypeError\u001b[0m                                 Traceback (most recent call last)",
      "\u001b[0;32m/var/folders/9_/vpq34lwj3bv0yhs22t_s7s7w0000gn/T/ipykernel_912/1978055443.py\u001b[0m in \u001b[0;36m<module>\u001b[0;34m\u001b[0m\n\u001b[0;32m----> 1\u001b[0;31m \u001b[0mgreet\u001b[0m\u001b[0;34m(\u001b[0m\u001b[0msecondname\u001b[0m\u001b[0;34m=\u001b[0m\u001b[0;34m'aytekin'\u001b[0m\u001b[0;34m,\u001b[0m \u001b[0mfirstname\u001b[0m\u001b[0;34m=\u001b[0m\u001b[0;34m'veysel'\u001b[0m\u001b[0;34m,\u001b[0m\u001b[0mage\u001b[0m\u001b[0;34m=\u001b[0m\u001b[0;36m40\u001b[0m\u001b[0;34m)\u001b[0m\u001b[0;34m\u001b[0m\u001b[0;34m\u001b[0m\u001b[0m\n\u001b[0m",
      "\u001b[0;31mTypeError\u001b[0m: greet() got an unexpected keyword argument 'age'"
     ]
    }
   ],
   "source": [
    "greet(secondname='aytekin', firstname='veysel',age=40)  #parametrede olmayan bir argumani kabul etmedi"
   ]
  },
  {
   "cell_type": "code",
   "execution_count": null,
   "id": "7dc0928f",
   "metadata": {},
   "outputs": [],
   "source": []
  },
  {
   "cell_type": "code",
   "execution_count": null,
   "id": "cd23b667",
   "metadata": {},
   "outputs": [],
   "source": []
  },
  {
   "cell_type": "code",
   "execution_count": null,
   "id": "55120a20",
   "metadata": {},
   "outputs": [],
   "source": []
  },
  {
   "cell_type": "code",
   "execution_count": null,
   "id": "40ec461e",
   "metadata": {},
   "outputs": [],
   "source": []
  },
  {
   "cell_type": "code",
   "execution_count": null,
   "id": "3882aff2",
   "metadata": {},
   "outputs": [],
   "source": [
    "def greet(**person):\n",
    "    print('merhaba '+person['firstname'] +person['lastname'])"
   ]
  },
  {
   "cell_type": "code",
   "execution_count": null,
   "id": "b5bfb137",
   "metadata": {},
   "outputs": [
    {
     "name": "stdout",
     "output_type": "stream",
     "text": [
      "merhaba alidag\n"
     ]
    }
   ],
   "source": [
    "greet(firstname='ali',lastname='dag')"
   ]
  },
  {
   "cell_type": "code",
   "execution_count": null,
   "id": "cba24dbc",
   "metadata": {},
   "outputs": [],
   "source": []
  },
  {
   "cell_type": "code",
   "execution_count": null,
   "id": "84979b62",
   "metadata": {},
   "outputs": [],
   "source": []
  },
  {
   "cell_type": "code",
   "execution_count": null,
   "id": "43c77f90",
   "metadata": {},
   "outputs": [],
   "source": []
  },
  {
   "cell_type": "code",
   "execution_count": null,
   "id": "b231dfa7",
   "metadata": {},
   "outputs": [],
   "source": []
  },
  {
   "cell_type": "code",
   "execution_count": null,
   "id": "7359009e",
   "metadata": {},
   "outputs": [],
   "source": [
    "def ekle(*kelimeler,listem=[]):\n",
    "    for i in kelimeler:\n",
    "        listem.append(i)\n",
    "        return listem\n"
   ]
  },
  {
   "cell_type": "code",
   "execution_count": null,
   "id": "591623f3",
   "metadata": {},
   "outputs": [
    {
     "data": {
      "text/plain": [
       "['kadir']"
      ]
     },
     "execution_count": 59,
     "metadata": {},
     "output_type": "execute_result"
    }
   ],
   "source": [
    "ekle('kadir','ali')"
   ]
  },
  {
   "cell_type": "code",
   "execution_count": null,
   "id": "eb11da3d",
   "metadata": {},
   "outputs": [],
   "source": []
  },
  {
   "cell_type": "code",
   "execution_count": null,
   "id": "ff610035",
   "metadata": {},
   "outputs": [],
   "source": []
  },
  {
   "cell_type": "code",
   "execution_count": null,
   "id": "7c3233e6",
   "metadata": {},
   "outputs": [],
   "source": []
  },
  {
   "cell_type": "code",
   "execution_count": null,
   "id": "eec4842f",
   "metadata": {},
   "outputs": [],
   "source": []
  },
  {
   "cell_type": "code",
   "execution_count": null,
   "id": "5bf456a5",
   "metadata": {},
   "outputs": [],
   "source": []
  },
  {
   "cell_type": "markdown",
   "id": "df2a1fcd",
   "metadata": {},
   "source": [
    "lambda      kullan at demek,gecici olarak"
   ]
  },
  {
   "cell_type": "code",
   "execution_count": null,
   "id": "44d18b7c",
   "metadata": {},
   "outputs": [],
   "source": [
    "def kare(x):\n",
    "    return x*x"
   ]
  },
  {
   "cell_type": "code",
   "execution_count": null,
   "id": "267dc25d",
   "metadata": {},
   "outputs": [
    {
     "data": {
      "text/plain": [
       "25"
      ]
     },
     "execution_count": 61,
     "metadata": {},
     "output_type": "execute_result"
    }
   ],
   "source": [
    "kare(5)"
   ]
  },
  {
   "cell_type": "code",
   "execution_count": null,
   "id": "a45bf3e3",
   "metadata": {},
   "outputs": [],
   "source": []
  },
  {
   "cell_type": "code",
   "execution_count": null,
   "id": "599b88ff",
   "metadata": {},
   "outputs": [],
   "source": [
    "karesini_al=lambda x:x*x   #lambda fonksiyon gibi calisti"
   ]
  },
  {
   "cell_type": "code",
   "execution_count": null,
   "id": "7079c96d",
   "metadata": {},
   "outputs": [
    {
     "data": {
      "text/plain": [
       "25"
      ]
     },
     "execution_count": 63,
     "metadata": {},
     "output_type": "execute_result"
    }
   ],
   "source": [
    "karesini_al(5)"
   ]
  },
  {
   "cell_type": "code",
   "execution_count": null,
   "id": "ed225b02",
   "metadata": {},
   "outputs": [],
   "source": []
  },
  {
   "cell_type": "code",
   "execution_count": null,
   "id": "3892467e",
   "metadata": {},
   "outputs": [],
   "source": []
  },
  {
   "cell_type": "code",
   "execution_count": null,
   "id": "69ba7427",
   "metadata": {},
   "outputs": [],
   "source": [
    "topla=lambda x,y,z:x+y+z   #sola degiskenler sola,onlara ne yapilacagi"
   ]
  },
  {
   "cell_type": "code",
   "execution_count": null,
   "id": "30bf3b96",
   "metadata": {},
   "outputs": [
    {
     "data": {
      "text/plain": [
       "13"
      ]
     },
     "execution_count": 66,
     "metadata": {},
     "output_type": "execute_result"
    }
   ],
   "source": [
    "topla(5,6,2)"
   ]
  },
  {
   "cell_type": "code",
   "execution_count": null,
   "id": "5f2a3899",
   "metadata": {},
   "outputs": [],
   "source": []
  },
  {
   "cell_type": "code",
   "execution_count": null,
   "id": "7e3b05e6",
   "metadata": {},
   "outputs": [],
   "source": []
  },
  {
   "cell_type": "code",
   "execution_count": null,
   "id": "72fc0220",
   "metadata": {},
   "outputs": [],
   "source": []
  },
  {
   "cell_type": "code",
   "execution_count": null,
   "id": "a19cd58e",
   "metadata": {},
   "outputs": [],
   "source": []
  },
  {
   "cell_type": "code",
   "execution_count": null,
   "id": "edef9452",
   "metadata": {},
   "outputs": [],
   "source": []
  },
  {
   "cell_type": "code",
   "execution_count": null,
   "id": "9715f776",
   "metadata": {},
   "outputs": [],
   "source": [
    "#sort key degerlerine göre yapar"
   ]
  },
  {
   "cell_type": "code",
   "execution_count": null,
   "id": "c1423d6a",
   "metadata": {},
   "outputs": [],
   "source": [
    "my_list=[3,-4,-3,5,1,7]"
   ]
  },
  {
   "cell_type": "code",
   "execution_count": null,
   "id": "1f92604b",
   "metadata": {},
   "outputs": [],
   "source": [
    "my_list.sort()"
   ]
  },
  {
   "cell_type": "code",
   "execution_count": null,
   "id": "47eb1bf0",
   "metadata": {},
   "outputs": [
    {
     "data": {
      "text/plain": [
       "[-4, -3, 1, 3, 5, 7]"
      ]
     },
     "execution_count": 72,
     "metadata": {},
     "output_type": "execute_result"
    }
   ],
   "source": [
    "my_list"
   ]
  },
  {
   "cell_type": "code",
   "execution_count": null,
   "id": "5ec0e0ba",
   "metadata": {},
   "outputs": [],
   "source": []
  },
  {
   "cell_type": "code",
   "execution_count": null,
   "id": "0bef19ab",
   "metadata": {},
   "outputs": [],
   "source": []
  },
  {
   "cell_type": "code",
   "execution_count": null,
   "id": "00b257cf",
   "metadata": {},
   "outputs": [],
   "source": [
    "my_list.sort(key=lambda x:(abs(x)))"
   ]
  },
  {
   "cell_type": "code",
   "execution_count": null,
   "id": "3f5e3eee",
   "metadata": {},
   "outputs": [
    {
     "data": {
      "text/plain": [
       "[1, 3, -3, -4, 5, 7]"
      ]
     },
     "execution_count": 76,
     "metadata": {},
     "output_type": "execute_result"
    }
   ],
   "source": [
    "my_list     #burda cevap yanlis gibi göyukuyor ama mutlak degerlerini hayal ederek \n",
    "             #siraladi"
   ]
  },
  {
   "cell_type": "code",
   "execution_count": null,
   "id": "84891b0d",
   "metadata": {},
   "outputs": [],
   "source": []
  },
  {
   "cell_type": "code",
   "execution_count": null,
   "id": "e5e10cae",
   "metadata": {},
   "outputs": [],
   "source": []
  },
  {
   "cell_type": "code",
   "execution_count": null,
   "id": "e9730ff3",
   "metadata": {},
   "outputs": [],
   "source": []
  },
  {
   "cell_type": "code",
   "execution_count": null,
   "id": "f6086aa5",
   "metadata": {},
   "outputs": [],
   "source": []
  },
  {
   "cell_type": "code",
   "execution_count": null,
   "id": "b5161d64",
   "metadata": {},
   "outputs": [],
   "source": [
    "import random"
   ]
  },
  {
   "cell_type": "code",
   "execution_count": null,
   "id": "b2020ed5",
   "metadata": {},
   "outputs": [],
   "source": [
    "number=[5,4,7,8,9,3]"
   ]
  },
  {
   "cell_type": "code",
   "execution_count": null,
   "id": "546c9a22",
   "metadata": {},
   "outputs": [],
   "source": [
    "random.shuffle(number)"
   ]
  },
  {
   "cell_type": "code",
   "execution_count": null,
   "id": "06a12cd9",
   "metadata": {},
   "outputs": [
    {
     "data": {
      "text/plain": [
       "[5, 3, 9, 4, 8, 7]"
      ]
     },
     "execution_count": 88,
     "metadata": {},
     "output_type": "execute_result"
    }
   ],
   "source": [
    "number"
   ]
  },
  {
   "cell_type": "code",
   "execution_count": null,
   "id": "86344ce0",
   "metadata": {},
   "outputs": [],
   "source": []
  },
  {
   "cell_type": "code",
   "execution_count": null,
   "id": "e9224c21",
   "metadata": {},
   "outputs": [],
   "source": []
  },
  {
   "cell_type": "code",
   "execution_count": null,
   "id": "b46c7681",
   "metadata": {},
   "outputs": [],
   "source": []
  },
  {
   "cell_type": "code",
   "execution_count": null,
   "id": "9fba580a",
   "metadata": {},
   "outputs": [],
   "source": [
    "#random choice ile listeden herhangi bir eleman rastgele elaman seciyoruz"
   ]
  },
  {
   "cell_type": "code",
   "execution_count": null,
   "id": "1339bfad",
   "metadata": {},
   "outputs": [],
   "source": []
  },
  {
   "cell_type": "code",
   "execution_count": null,
   "id": "afeef443",
   "metadata": {},
   "outputs": [],
   "source": []
  },
  {
   "cell_type": "code",
   "execution_count": null,
   "id": "125a3c5f",
   "metadata": {},
   "outputs": [],
   "source": [
    "#random sample de kac tane elamani rastgele sececeginide belirtebiliyorsun,choice den farkli olara"
   ]
  },
  {
   "cell_type": "code",
   "execution_count": null,
   "id": "fc2e9410",
   "metadata": {},
   "outputs": [],
   "source": []
  },
  {
   "cell_type": "code",
   "execution_count": null,
   "id": "a334329d",
   "metadata": {},
   "outputs": [],
   "source": []
  },
  {
   "cell_type": "code",
   "execution_count": null,
   "id": "a9c8b6f2",
   "metadata": {},
   "outputs": [],
   "source": []
  },
  {
   "cell_type": "code",
   "execution_count": null,
   "id": "706149d4",
   "metadata": {},
   "outputs": [],
   "source": [
    "#random.rangrange(15,65)  boyle bir araliktan rastgele bir sayi secmek istersek kullaniriz"
   ]
  },
  {
   "cell_type": "code",
   "execution_count": null,
   "id": "00d016c6",
   "metadata": {},
   "outputs": [],
   "source": []
  },
  {
   "cell_type": "code",
   "execution_count": null,
   "id": "7958720a",
   "metadata": {},
   "outputs": [],
   "source": []
  },
  {
   "cell_type": "code",
   "execution_count": null,
   "id": "cfc28425",
   "metadata": {},
   "outputs": [],
   "source": []
  },
  {
   "cell_type": "code",
   "execution_count": null,
   "id": "3573390d",
   "metadata": {},
   "outputs": [],
   "source": []
  },
  {
   "cell_type": "code",
   "execution_count": null,
   "id": "5f201de8",
   "metadata": {},
   "outputs": [
    {
     "name": "stdout",
     "output_type": "stream",
     "text": [
      "bir sayi yaziniz36\n",
      "[1, 2, 3, 4, 6, 9, 12, 18, 36]\n"
     ]
    }
   ],
   "source": [
    "sayi=int(input('bir sayi yaziniz'))\n",
    "\n",
    "\n",
    "bolenler=[]\n",
    "\n",
    "\n",
    "for i in range(1,sayi+1):\n",
    "    if sayi%i==0:\n",
    "        bolenler.append(i)\n",
    "    \n",
    "    \n",
    "    else:\n",
    "        pass\n",
    "    \n",
    "print(bolenler)    "
   ]
  },
  {
   "cell_type": "code",
   "execution_count": null,
   "id": "59abe1d9",
   "metadata": {},
   "outputs": [],
   "source": []
  },
  {
   "cell_type": "code",
   "execution_count": null,
   "id": "b6745714",
   "metadata": {},
   "outputs": [],
   "source": [
    "def posbolbul(sayi):\n",
    "    bolenler=[]\n",
    "    for i in range(1,sayi+1):\n",
    "        if sayi%i==0:\n",
    "            bolenler.append(i)\n",
    "    return bolenler        "
   ]
  },
  {
   "cell_type": "code",
   "execution_count": null,
   "id": "6c29a4df",
   "metadata": {},
   "outputs": [
    {
     "data": {
      "text/plain": [
       "[1, 2, 4, 5, 10, 20]"
      ]
     },
     "execution_count": 8,
     "metadata": {},
     "output_type": "execute_result"
    }
   ],
   "source": [
    "posbolbul(20)"
   ]
  },
  {
   "cell_type": "code",
   "execution_count": null,
   "id": "f5f573a3",
   "metadata": {},
   "outputs": [],
   "source": []
  },
  {
   "cell_type": "code",
   "execution_count": null,
   "id": "b8fadfdd",
   "metadata": {},
   "outputs": [],
   "source": []
  },
  {
   "cell_type": "code",
   "execution_count": null,
   "id": "d245dedf",
   "metadata": {},
   "outputs": [],
   "source": []
  },
  {
   "cell_type": "code",
   "execution_count": null,
   "id": "54b4d3f3",
   "metadata": {},
   "outputs": [],
   "source": []
  },
  {
   "cell_type": "code",
   "execution_count": null,
   "id": "d9ee785f",
   "metadata": {},
   "outputs": [],
   "source": [
    "def carp(*sayilar):     #kullanicidan alinan sayilarin hepsini carp\n",
    "    \n",
    "    \n",
    "    \"\"\"\n",
    "    pozitif bolenlerini alir\n",
    "    \"\"\"\n",
    "    \n",
    "    \n",
    "    sonuc=1\n",
    "    for i in sayilar:\n",
    "        sonuc*=i\n",
    "    return sonuc    \n",
    "        "
   ]
  },
  {
   "cell_type": "code",
   "execution_count": null,
   "id": "576a369a",
   "metadata": {},
   "outputs": [
    {
     "data": {
      "text/plain": [
       "6"
      ]
     },
     "execution_count": 10,
     "metadata": {},
     "output_type": "execute_result"
    }
   ],
   "source": [
    "carp(2,3)"
   ]
  },
  {
   "cell_type": "code",
   "execution_count": null,
   "id": "55869c92",
   "metadata": {},
   "outputs": [],
   "source": []
  },
  {
   "cell_type": "code",
   "execution_count": null,
   "id": "beafd246",
   "metadata": {},
   "outputs": [],
   "source": []
  },
  {
   "cell_type": "code",
   "execution_count": null,
   "id": "7753f93e",
   "metadata": {},
   "outputs": [],
   "source": [
    "def carp(sayilar):     #kullanicidan alinan sayilarin hepsini carp\n",
    "    sonuc=1\n",
    "    for i in sayilar:\n",
    "        sonuc*=i\n",
    "    return sonuc    \n",
    "        "
   ]
  },
  {
   "cell_type": "code",
   "execution_count": null,
   "id": "38a1886f",
   "metadata": {},
   "outputs": [
    {
     "data": {
      "text/plain": [
       "40"
      ]
     },
     "execution_count": 12,
     "metadata": {},
     "output_type": "execute_result"
    }
   ],
   "source": [
    "carp([2,4,5])   #fonksiyona carpi isareti koymadigim icin burda liste icinde vermeliyim\n",
    "#cunku tek argumen gibi gözukmesi lazim"
   ]
  },
  {
   "cell_type": "code",
   "execution_count": null,
   "id": "ff304069",
   "metadata": {},
   "outputs": [],
   "source": []
  },
  {
   "cell_type": "code",
   "execution_count": null,
   "id": "835168e0",
   "metadata": {},
   "outputs": [],
   "source": []
  },
  {
   "cell_type": "code",
   "execution_count": null,
   "id": "f0d79b25",
   "metadata": {},
   "outputs": [],
   "source": []
  },
  {
   "cell_type": "code",
   "execution_count": null,
   "id": "f142b6be",
   "metadata": {},
   "outputs": [],
   "source": []
  },
  {
   "cell_type": "code",
   "execution_count": null,
   "id": "f5aa00a1",
   "metadata": {},
   "outputs": [],
   "source": [
    "def mukbul(sayi):\n",
    "    bolenler=posbolbul(sayi)\n",
    "    bolenler=bolenler[:-1]\n",
    "    if sum(bolenler)==sayi:\n",
    "        return 'mukemmel'\n",
    "    else:\n",
    "        'degildir'\n",
    "    "
   ]
  },
  {
   "cell_type": "code",
   "execution_count": null,
   "id": "47e0c19c",
   "metadata": {},
   "outputs": [
    {
     "data": {
      "text/plain": [
       "'mukemmel'"
      ]
     },
     "execution_count": 17,
     "metadata": {},
     "output_type": "execute_result"
    }
   ],
   "source": [
    "mukbul(6)"
   ]
  },
  {
   "cell_type": "code",
   "execution_count": null,
   "id": "79a24bde",
   "metadata": {},
   "outputs": [],
   "source": []
  },
  {
   "cell_type": "code",
   "execution_count": null,
   "id": "c094d651",
   "metadata": {},
   "outputs": [
    {
     "name": "stdout",
     "output_type": "stream",
     "text": [
      "6  mukemmeldir\n",
      "28  mukemmeldir\n",
      "496  mukemmeldir\n"
     ]
    }
   ],
   "source": [
    "for i in range(1,1000):\n",
    "    if mukbul(i):\n",
    "        print(str(i) +'  mukemmeldir')"
   ]
  },
  {
   "cell_type": "code",
   "execution_count": null,
   "id": "9369279f",
   "metadata": {},
   "outputs": [],
   "source": []
  },
  {
   "cell_type": "code",
   "execution_count": null,
   "id": "a730fdfe",
   "metadata": {},
   "outputs": [],
   "source": []
  },
  {
   "cell_type": "markdown",
   "id": "337b4425",
   "metadata": {},
   "source": [
    "class"
   ]
  },
  {
   "cell_type": "code",
   "execution_count": null,
   "id": "78e0a0c4",
   "metadata": {},
   "outputs": [],
   "source": []
  },
  {
   "cell_type": "code",
   "execution_count": null,
   "id": "17174a38",
   "metadata": {},
   "outputs": [],
   "source": [
    "#bir sinifin belli basli ozellikleri var,eger bu siniftan bir nesne olusturursak\n",
    "#o nesnemiz sinifa ait olan ozelliklerin hepsini kapsar,\n",
    "#"
   ]
  },
  {
   "cell_type": "code",
   "execution_count": null,
   "id": "d43e58ec",
   "metadata": {},
   "outputs": [],
   "source": []
  },
  {
   "cell_type": "code",
   "execution_count": null,
   "id": "6d144208",
   "metadata": {},
   "outputs": [],
   "source": []
  },
  {
   "cell_type": "code",
   "execution_count": null,
   "id": "ae8c3430",
   "metadata": {},
   "outputs": [],
   "source": [
    "class ilksinif:\n",
    "    ozellik='kirmizi'\n",
    "    ozellik2=5\n",
    "    "
   ]
  },
  {
   "cell_type": "code",
   "execution_count": null,
   "id": "22c8d774",
   "metadata": {},
   "outputs": [],
   "source": [
    "ilknesne=ilksinif()"
   ]
  },
  {
   "cell_type": "code",
   "execution_count": null,
   "id": "c5192d7c",
   "metadata": {},
   "outputs": [
    {
     "data": {
      "text/plain": [
       "'kirmizi'"
      ]
     },
     "execution_count": 22,
     "metadata": {},
     "output_type": "execute_result"
    }
   ],
   "source": [
    "ilknesne.ozellik"
   ]
  },
  {
   "cell_type": "code",
   "execution_count": null,
   "id": "b204f46e",
   "metadata": {},
   "outputs": [],
   "source": []
  },
  {
   "cell_type": "code",
   "execution_count": null,
   "id": "afbf29d5",
   "metadata": {},
   "outputs": [],
   "source": []
  },
  {
   "cell_type": "code",
   "execution_count": null,
   "id": "a931068d",
   "metadata": {},
   "outputs": [],
   "source": []
  },
  {
   "cell_type": "code",
   "execution_count": null,
   "id": "c6381aa6",
   "metadata": {},
   "outputs": [],
   "source": []
  },
  {
   "cell_type": "code",
   "execution_count": null,
   "id": "766fd354",
   "metadata": {},
   "outputs": [],
   "source": [
    "def max_sayi(*sayi):\n",
    "    a=max(sayi)\n",
    "    return a"
   ]
  },
  {
   "cell_type": "code",
   "execution_count": null,
   "id": "d9cd6f84",
   "metadata": {},
   "outputs": [
    {
     "data": {
      "text/plain": [
       "99"
      ]
     },
     "execution_count": 2,
     "metadata": {},
     "output_type": "execute_result"
    }
   ],
   "source": [
    "max_sayi(1,5,80,99)"
   ]
  },
  {
   "cell_type": "markdown",
   "id": "da179a53",
   "metadata": {},
   "source": []
  },
  {
   "cell_type": "code",
   "execution_count": null,
   "id": "0e3249e0",
   "metadata": {},
   "outputs": [],
   "source": []
  },
  {
   "cell_type": "code",
   "execution_count": null,
   "id": "6d461c2e",
   "metadata": {},
   "outputs": [],
   "source": []
  },
  {
   "cell_type": "code",
   "execution_count": null,
   "id": "39bdd77d",
   "metadata": {},
   "outputs": [],
   "source": [
    "def kura():\n",
    "    kisiSayisi=int(input('kuraya kac kisi girecek'))\n",
    "    isimler=[]\n",
    "    import random\n",
    "    for i in range(kisiSayisi):\n",
    "        isim=input('bir isim giriniz')\n",
    "        isimler.append(isim)\n",
    "    random.shuffle(isimler)\n",
    "    print('kurada {} cikti '.format(isimler[0]))\n",
    "        \n",
    "        "
   ]
  },
  {
   "cell_type": "code",
   "execution_count": null,
   "id": "02338db1",
   "metadata": {},
   "outputs": [
    {
     "name": "stdout",
     "output_type": "stream",
     "text": [
      "kuraya kac kisi girecek3\n",
      "bir isim girinizmurat\n",
      "bir isim girinizkadir\n",
      "bir isim girinizmehmet\n",
      "kurada murat cikti \n"
     ]
    }
   ],
   "source": [
    "kura()"
   ]
  },
  {
   "cell_type": "code",
   "execution_count": null,
   "id": "49dbde21",
   "metadata": {},
   "outputs": [],
   "source": []
  },
  {
   "cell_type": "code",
   "execution_count": null,
   "id": "1f160358",
   "metadata": {},
   "outputs": [],
   "source": []
  },
  {
   "cell_type": "code",
   "execution_count": null,
   "id": "59f36f23",
   "metadata": {},
   "outputs": [],
   "source": []
  },
  {
   "cell_type": "code",
   "execution_count": null,
   "id": "b473b6c6",
   "metadata": {},
   "outputs": [],
   "source": []
  },
  {
   "cell_type": "code",
   "execution_count": null,
   "id": "7c5ea2f8",
   "metadata": {},
   "outputs": [],
   "source": [
    "class araba:\n",
    "    oz1='dört tekerli'\n",
    "    oz2='gaz pedali var'\n",
    "    km=100"
   ]
  },
  {
   "cell_type": "code",
   "execution_count": null,
   "id": "3fd63ac9",
   "metadata": {},
   "outputs": [],
   "source": [
    "murat124=araba()    #burda murat 124 u sinifa atiyoruz ve artik,\n",
    "                    #araba sinifinda hangi ozellikler varsa,artik murat124.oz2 deye cagirbiliriz"
   ]
  },
  {
   "cell_type": "code",
   "execution_count": null,
   "id": "05756814",
   "metadata": {},
   "outputs": [
    {
     "data": {
      "text/plain": [
       "'dört tekerli'"
      ]
     },
     "execution_count": 10,
     "metadata": {},
     "output_type": "execute_result"
    }
   ],
   "source": [
    "murat124.oz1"
   ]
  },
  {
   "cell_type": "code",
   "execution_count": null,
   "id": "838e1b02",
   "metadata": {},
   "outputs": [],
   "source": []
  },
  {
   "cell_type": "code",
   "execution_count": null,
   "id": "362c67ea",
   "metadata": {},
   "outputs": [],
   "source": []
  },
  {
   "cell_type": "code",
   "execution_count": null,
   "id": "070ce84d",
   "metadata": {},
   "outputs": [],
   "source": []
  },
  {
   "cell_type": "code",
   "execution_count": null,
   "id": "4dc29169",
   "metadata": {},
   "outputs": [],
   "source": []
  },
  {
   "cell_type": "code",
   "execution_count": null,
   "id": "1b8f376e",
   "metadata": {},
   "outputs": [],
   "source": []
  },
  {
   "cell_type": "code",
   "execution_count": null,
   "id": "2f6b4538",
   "metadata": {},
   "outputs": [],
   "source": []
  },
  {
   "cell_type": "code",
   "execution_count": null,
   "id": "63adb6e6",
   "metadata": {},
   "outputs": [],
   "source": [
    "class ogrenci:\n",
    "    okulAdi='Harvard'"
   ]
  },
  {
   "cell_type": "code",
   "execution_count": null,
   "id": "aca5634c",
   "metadata": {},
   "outputs": [],
   "source": [
    "ahmet=ogrenci()"
   ]
  },
  {
   "cell_type": "code",
   "execution_count": null,
   "id": "e9148cd3",
   "metadata": {},
   "outputs": [
    {
     "data": {
      "text/plain": [
       "'Harvard'"
      ]
     },
     "execution_count": 13,
     "metadata": {},
     "output_type": "execute_result"
    }
   ],
   "source": [
    "ahmet.okulAdi"
   ]
  },
  {
   "cell_type": "code",
   "execution_count": null,
   "id": "ea43bb8f",
   "metadata": {},
   "outputs": [],
   "source": [
    "ogrenci.sehir='boston'  #bu sekilde ogrenci sinifina bir ozellik eklersem,o otomatikmen ahmedede eklenir"
   ]
  },
  {
   "cell_type": "code",
   "execution_count": null,
   "id": "c48f76ca",
   "metadata": {},
   "outputs": [
    {
     "data": {
      "text/plain": [
       "'boston'"
      ]
     },
     "execution_count": 15,
     "metadata": {},
     "output_type": "execute_result"
    }
   ],
   "source": [
    "ahmet.sehir     #ahmet sinifa ait tüm ozellikleri tasir"
   ]
  },
  {
   "cell_type": "code",
   "execution_count": null,
   "id": "f6f75250",
   "metadata": {},
   "outputs": [],
   "source": [
    "ogrenci.ulke='ABD'"
   ]
  },
  {
   "cell_type": "code",
   "execution_count": null,
   "id": "0cf54cdd",
   "metadata": {},
   "outputs": [
    {
     "data": {
      "text/plain": [
       "'ABD'"
      ]
     },
     "execution_count": 18,
     "metadata": {},
     "output_type": "execute_result"
    }
   ],
   "source": [
    "ahmet.ulke"
   ]
  },
  {
   "cell_type": "code",
   "execution_count": null,
   "id": "ef54949e",
   "metadata": {},
   "outputs": [],
   "source": []
  },
  {
   "cell_type": "code",
   "execution_count": null,
   "id": "e9520dfe",
   "metadata": {},
   "outputs": [],
   "source": []
  },
  {
   "cell_type": "code",
   "execution_count": null,
   "id": "deb38b92",
   "metadata": {},
   "outputs": [],
   "source": []
  },
  {
   "cell_type": "code",
   "execution_count": null,
   "id": "6f4e677f",
   "metadata": {},
   "outputs": [],
   "source": []
  },
  {
   "cell_type": "code",
   "execution_count": null,
   "id": "490cec4f",
   "metadata": {},
   "outputs": [],
   "source": [
    "#clasta kedi sinifinda kedinin ozellikleri var rengi falan \n",
    "#birde miyavlama gibi func lar var,bunlara methot diyoruz"
   ]
  },
  {
   "cell_type": "code",
   "execution_count": null,
   "id": "eb9f483f",
   "metadata": {},
   "outputs": [],
   "source": []
  },
  {
   "cell_type": "code",
   "execution_count": null,
   "id": "0346f976",
   "metadata": {},
   "outputs": [],
   "source": []
  },
  {
   "cell_type": "code",
   "execution_count": null,
   "id": "01065eeb",
   "metadata": {},
   "outputs": [],
   "source": [
    "class person:\n",
    "    age=20\n",
    "    def merhaba(self):\n",
    "        print('hello')"
   ]
  },
  {
   "cell_type": "code",
   "execution_count": null,
   "id": "0d480a1f",
   "metadata": {},
   "outputs": [],
   "source": [
    "ahmet=person()"
   ]
  },
  {
   "cell_type": "code",
   "execution_count": null,
   "id": "ce402984",
   "metadata": {},
   "outputs": [
    {
     "data": {
      "text/plain": [
       "20"
      ]
     },
     "execution_count": 21,
     "metadata": {},
     "output_type": "execute_result"
    }
   ],
   "source": [
    "ahmet.age"
   ]
  },
  {
   "cell_type": "code",
   "execution_count": null,
   "id": "1e2f4b59",
   "metadata": {},
   "outputs": [
    {
     "name": "stdout",
     "output_type": "stream",
     "text": [
      "hello\n"
     ]
    }
   ],
   "source": [
    "ahmet.merhaba()"
   ]
  },
  {
   "cell_type": "code",
   "execution_count": null,
   "id": "93af9aed",
   "metadata": {},
   "outputs": [],
   "source": [
    "murat=person()   #sanki bir degisken atar gibi degisken adi yazip yanina sinif adini yazinca atanmis oluyor"
   ]
  },
  {
   "cell_type": "code",
   "execution_count": null,
   "id": "f1ce2fd7",
   "metadata": {},
   "outputs": [
    {
     "data": {
      "text/plain": [
       "20"
      ]
     },
     "execution_count": 24,
     "metadata": {},
     "output_type": "execute_result"
    }
   ],
   "source": [
    "murat.age"
   ]
  },
  {
   "cell_type": "raw",
   "id": "10667def",
   "metadata": {},
   "source": []
  },
  {
   "cell_type": "code",
   "execution_count": null,
   "id": "888db985",
   "metadata": {},
   "outputs": [],
   "source": []
  },
  {
   "cell_type": "code",
   "execution_count": null,
   "id": "fd830115",
   "metadata": {},
   "outputs": [],
   "source": []
  },
  {
   "cell_type": "code",
   "execution_count": null,
   "id": "8ae3a708",
   "metadata": {},
   "outputs": [],
   "source": []
  },
  {
   "cell_type": "markdown",
   "id": "26884f38",
   "metadata": {},
   "source": [
    "init"
   ]
  },
  {
   "cell_type": "code",
   "execution_count": null,
   "id": "1ed3d558",
   "metadata": {},
   "outputs": [],
   "source": [
    "class  ogrenci:\n",
    "    okul='fatih koleji'\n",
    "    def __init__(self):  #olusturulacak her bir nesneyi temsil ediyor,ve nesnenin temel degiskenlerinin \n",
    "        self.name=''     #bir cercevesini ciziyor\n",
    "        self.age:0\n",
    "    "
   ]
  },
  {
   "cell_type": "code",
   "execution_count": null,
   "id": "371102c2",
   "metadata": {},
   "outputs": [],
   "source": [
    "ogr1=ogrenci()"
   ]
  },
  {
   "cell_type": "code",
   "execution_count": null,
   "id": "a4d94762",
   "metadata": {},
   "outputs": [],
   "source": [
    "ogr1.name='murat' # su sinifta olmayan ama ogr ait ozellikleri giriyoruz"
   ]
  },
  {
   "cell_type": "code",
   "execution_count": null,
   "id": "294408af",
   "metadata": {},
   "outputs": [],
   "source": [
    "ogr1.age=40"
   ]
  },
  {
   "cell_type": "code",
   "execution_count": null,
   "id": "e658fa96",
   "metadata": {},
   "outputs": [
    {
     "data": {
      "text/plain": [
       "40"
      ]
     },
     "execution_count": 29,
     "metadata": {},
     "output_type": "execute_result"
    }
   ],
   "source": [
    "ogr1.age"
   ]
  },
  {
   "cell_type": "code",
   "execution_count": null,
   "id": "aba8ef9c",
   "metadata": {},
   "outputs": [],
   "source": []
  },
  {
   "cell_type": "code",
   "execution_count": null,
   "id": "7b111ac3",
   "metadata": {},
   "outputs": [],
   "source": []
  },
  {
   "cell_type": "code",
   "execution_count": null,
   "id": "13758ed0",
   "metadata": {},
   "outputs": [],
   "source": []
  },
  {
   "cell_type": "code",
   "execution_count": null,
   "id": "4eca6da1",
   "metadata": {},
   "outputs": [],
   "source": []
  },
  {
   "cell_type": "code",
   "execution_count": null,
   "id": "c051c15a",
   "metadata": {},
   "outputs": [],
   "source": [
    "class student:\n",
    "    school='harvard'\n",
    "    def __init__(self,name1,age1):\n",
    "        self.name=name1\n",
    "        self.age=age1\n",
    "        "
   ]
  },
  {
   "cell_type": "code",
   "execution_count": null,
   "id": "fcf661e5",
   "metadata": {},
   "outputs": [],
   "source": [
    "std1=student('ayse',25)"
   ]
  },
  {
   "cell_type": "code",
   "execution_count": null,
   "id": "5f23645a",
   "metadata": {},
   "outputs": [
    {
     "data": {
      "text/plain": [
       "25"
      ]
     },
     "execution_count": 35,
     "metadata": {},
     "output_type": "execute_result"
    }
   ],
   "source": [
    "std1.age"
   ]
  },
  {
   "cell_type": "code",
   "execution_count": null,
   "id": "773f698f",
   "metadata": {},
   "outputs": [],
   "source": []
  },
  {
   "cell_type": "code",
   "execution_count": null,
   "id": "a75bff21",
   "metadata": {},
   "outputs": [],
   "source": []
  },
  {
   "cell_type": "code",
   "execution_count": null,
   "id": "1b66c16c",
   "metadata": {},
   "outputs": [],
   "source": [
    "std2=student('fatma',60)"
   ]
  },
  {
   "cell_type": "code",
   "execution_count": null,
   "id": "56177e4e",
   "metadata": {},
   "outputs": [
    {
     "data": {
      "text/plain": [
       "'fatma'"
      ]
     },
     "execution_count": 37,
     "metadata": {},
     "output_type": "execute_result"
    }
   ],
   "source": [
    "std2.name"
   ]
  },
  {
   "cell_type": "code",
   "execution_count": null,
   "id": "9575953f",
   "metadata": {},
   "outputs": [
    {
     "data": {
      "text/plain": [
       "'harvard'"
      ]
     },
     "execution_count": 38,
     "metadata": {},
     "output_type": "execute_result"
    }
   ],
   "source": [
    "std2.school   #sinifa sonradan kendine ozgu ozellikleri olan eleman ekledim,\n",
    "                #ekledikten sonra hem kendi ozelliklerini hemde sinifin ozeliklerini aliyor"
   ]
  },
  {
   "cell_type": "code",
   "execution_count": null,
   "id": "62ef792c",
   "metadata": {},
   "outputs": [],
   "source": []
  },
  {
   "cell_type": "code",
   "execution_count": null,
   "id": "67982a70",
   "metadata": {},
   "outputs": [],
   "source": []
  },
  {
   "cell_type": "code",
   "execution_count": null,
   "id": "b975143f",
   "metadata": {},
   "outputs": [],
   "source": []
  },
  {
   "cell_type": "code",
   "execution_count": null,
   "id": "bbc30843",
   "metadata": {},
   "outputs": [],
   "source": []
  },
  {
   "cell_type": "code",
   "execution_count": null,
   "id": "95cc5670",
   "metadata": {},
   "outputs": [],
   "source": [
    "class student:\n",
    "    school='harvard'\n",
    "    def __init__(self,name1,age1):\n",
    "        self.name=name1\n",
    "        self.age=age1\n",
    "        \n",
    "    def displayInfo(self):\n",
    "        print('student name '+self.name+' yasi'+ str(self.age) )"
   ]
  },
  {
   "cell_type": "code",
   "execution_count": null,
   "id": "f0f469aa",
   "metadata": {},
   "outputs": [],
   "source": [
    "ilkOgr=student('Mermet',50)  #su an ilk nesnemi olusturdum\n"
   ]
  },
  {
   "cell_type": "code",
   "execution_count": null,
   "id": "698ab6e7",
   "metadata": {},
   "outputs": [
    {
     "data": {
      "text/plain": [
       "'Mermet'"
      ]
     },
     "execution_count": 44,
     "metadata": {},
     "output_type": "execute_result"
    }
   ],
   "source": [
    "ilkOgr.name"
   ]
  },
  {
   "cell_type": "code",
   "execution_count": null,
   "id": "7c572153",
   "metadata": {},
   "outputs": [
    {
     "name": "stdout",
     "output_type": "stream",
     "text": [
      "student name Mermet yasi50\n"
     ]
    }
   ],
   "source": [
    "ilkOgr.displayInfo()"
   ]
  },
  {
   "cell_type": "code",
   "execution_count": null,
   "id": "689c7263",
   "metadata": {},
   "outputs": [],
   "source": []
  },
  {
   "cell_type": "code",
   "execution_count": null,
   "id": "0169557e",
   "metadata": {},
   "outputs": [],
   "source": [
    "std=student('Muret',35)"
   ]
  },
  {
   "cell_type": "code",
   "execution_count": null,
   "id": "453c8420",
   "metadata": {},
   "outputs": [
    {
     "name": "stdout",
     "output_type": "stream",
     "text": [
      "student name Muret yasi35\n"
     ]
    }
   ],
   "source": [
    "std.displayInfo()"
   ]
  },
  {
   "cell_type": "code",
   "execution_count": null,
   "id": "c37d34ae",
   "metadata": {},
   "outputs": [],
   "source": []
  },
  {
   "cell_type": "code",
   "execution_count": null,
   "id": "76dd115c",
   "metadata": {},
   "outputs": [],
   "source": []
  },
  {
   "cell_type": "code",
   "execution_count": null,
   "id": "5b298e01",
   "metadata": {},
   "outputs": [],
   "source": []
  },
  {
   "cell_type": "code",
   "execution_count": null,
   "id": "efc06d3c",
   "metadata": {},
   "outputs": [],
   "source": []
  },
  {
   "cell_type": "code",
   "execution_count": null,
   "id": "1b5d4428",
   "metadata": {},
   "outputs": [],
   "source": [
    "class insan:\n",
    "    def __init__(self,name,weight,height):   #bu esbasta standart ozellikler,nesne olusturdum\n",
    "        self.name=name\n",
    "        self.weight=weight\n",
    "        self.height=height\n",
    "    def yemekye(self,food):\n",
    "        self.weight+=1\n",
    "        return '{} {}  yedi'.format"
   ]
  },
  {
   "cell_type": "code",
   "execution_count": null,
   "id": "471bd29e",
   "metadata": {},
   "outputs": [],
   "source": [
    "hocanin slaytindan bak"
   ]
  },
  {
   "cell_type": "code",
   "execution_count": null,
   "id": "aa538fcf",
   "metadata": {},
   "outputs": [],
   "source": []
  },
  {
   "cell_type": "code",
   "execution_count": null,
   "id": "15b62bc6",
   "metadata": {},
   "outputs": [],
   "source": []
  },
  {
   "cell_type": "code",
   "execution_count": null,
   "id": "f2787044",
   "metadata": {},
   "outputs": [],
   "source": []
  },
  {
   "cell_type": "code",
   "execution_count": null,
   "id": "360b3583",
   "metadata": {},
   "outputs": [],
   "source": []
  },
  {
   "cell_type": "code",
   "execution_count": null,
   "id": "e616cec3",
   "metadata": {},
   "outputs": [],
   "source": []
  },
  {
   "cell_type": "code",
   "execution_count": null,
   "id": "ab79f67d",
   "metadata": {},
   "outputs": [],
   "source": [
    "dosyam=open('ders2.rtf',encoding='utf-8')"
   ]
  },
  {
   "cell_type": "code",
   "execution_count": null,
   "id": "61403474",
   "metadata": {},
   "outputs": [
    {
     "data": {
      "text/plain": [
       "<_io.TextIOWrapper name='ders2.rtf' mode='r' encoding='utf-8'>"
      ]
     },
     "execution_count": 2,
     "metadata": {},
     "output_type": "execute_result"
    }
   ],
   "source": [
    "dosyam"
   ]
  },
  {
   "cell_type": "code",
   "execution_count": null,
   "id": "dc41357f",
   "metadata": {},
   "outputs": [
    {
     "data": {
      "text/plain": [
       "'/Users/veyselaytekin/Desktop/Python/Python example veysel'"
      ]
     },
     "execution_count": 3,
     "metadata": {},
     "output_type": "execute_result"
    }
   ],
   "source": [
    " pwd.  # bu Notebook dosyasinin nerde kaydedildigini gosteirir"
   ]
  },
  {
   "cell_type": "code",
   "execution_count": null,
   "id": "012583f0",
   "metadata": {},
   "outputs": [],
   "source": [
    "myText=dosyam.read()"
   ]
  },
  {
   "cell_type": "code",
   "execution_count": null,
   "id": "94a29cfa",
   "metadata": {},
   "outputs": [
    {
     "data": {
      "text/plain": [
       "'{\\\\rtf1\\\\ansi\\\\ansicpg1252\\\\cocoartf2638\\n\\\\cocoatextscaling0\\\\cocoaplatform0{\\\\fonttbl\\\\f0\\\\fswiss\\\\fcharset0 Helvetica;}\\n{\\\\colortbl;\\\\red255\\\\green255\\\\blue255;}\\n{\\\\*\\\\expandedcolortbl;;}\\n\\\\paperw11900\\\\paperh16840\\\\margl1440\\\\margr1440\\\\vieww11520\\\\viewh8400\\\\viewkind0\\n\\\\pard\\\\tx566\\\\tx1133\\\\tx1700\\\\tx2267\\\\tx2834\\\\tx3401\\\\tx3968\\\\tx4535\\\\tx5102\\\\tx5669\\\\tx6236\\\\tx6803\\\\pardirnatural\\\\partightenfactor0\\n\\n\\\\f0\\\\fs24 \\\\cf0 Dosya olu\\\\uc0\\\\u351 turuyorum hele}'"
      ]
     },
     "execution_count": 5,
     "metadata": {},
     "output_type": "execute_result"
    }
   ],
   "source": [
    "myText"
   ]
  },
  {
   "cell_type": "code",
   "execution_count": null,
   "id": "09c59bb3",
   "metadata": {},
   "outputs": [],
   "source": [
    "satirlar=dosyam.readlines()"
   ]
  },
  {
   "cell_type": "code",
   "execution_count": null,
   "id": "1bca3b92",
   "metadata": {},
   "outputs": [
    {
     "data": {
      "text/plain": [
       "[]"
      ]
     },
     "execution_count": 7,
     "metadata": {},
     "output_type": "execute_result"
    }
   ],
   "source": [
    "satirlar"
   ]
  },
  {
   "cell_type": "code",
   "execution_count": null,
   "id": "75cc8733",
   "metadata": {},
   "outputs": [],
   "source": []
  },
  {
   "cell_type": "code",
   "execution_count": null,
   "id": "4a19b257",
   "metadata": {},
   "outputs": [],
   "source": []
  },
  {
   "cell_type": "code",
   "execution_count": null,
   "id": "35df00fe",
   "metadata": {},
   "outputs": [],
   "source": []
  },
  {
   "cell_type": "code",
   "execution_count": null,
   "id": "a5ab9087",
   "metadata": {},
   "outputs": [],
   "source": []
  },
  {
   "cell_type": "code",
   "execution_count": null,
   "id": "cbf9c667",
   "metadata": {},
   "outputs": [
    {
     "data": {
      "text/plain": [
       "'r'"
      ]
     },
     "execution_count": 8,
     "metadata": {},
     "output_type": "execute_result"
    }
   ],
   "source": [
    "dosyam.mode      bu yukarida tanimladigim dosya sadece okuma modunda oldugunu gorebiliriz"
   ]
  },
  {
   "cell_type": "code",
   "execution_count": null,
   "id": "a4bf61b1",
   "metadata": {},
   "outputs": [
    {
     "data": {
      "text/plain": [
       "False"
      ]
     },
     "execution_count": 9,
     "metadata": {},
     "output_type": "execute_result"
    }
   ],
   "source": [
    "dosyam.closed    #  bu da dosyanin acik mi kapali mi oldugunu gormek isterse"
   ]
  },
  {
   "cell_type": "code",
   "execution_count": null,
   "id": "c7432523",
   "metadata": {},
   "outputs": [],
   "source": [
    "dosyam.close()     #buda dosyayi kapatiyor"
   ]
  },
  {
   "cell_type": "code",
   "execution_count": null,
   "id": "6d2c3e2b",
   "metadata": {},
   "outputs": [],
   "source": []
  },
  {
   "cell_type": "code",
   "execution_count": null,
   "id": "4d3641db",
   "metadata": {},
   "outputs": [],
   "source": []
  },
  {
   "cell_type": "code",
   "execution_count": null,
   "id": "f69f180e",
   "metadata": {},
   "outputs": [],
   "source": [
    "myDosya2=open('ders3.txt','w')  "
   ]
  },
  {
   "cell_type": "code",
   "execution_count": null,
   "id": "b286c501",
   "metadata": {},
   "outputs": [
    {
     "data": {
      "text/plain": [
       "17"
      ]
     },
     "execution_count": 13,
     "metadata": {},
     "output_type": "execute_result"
    }
   ],
   "source": [
    "myDosya2.write('birseyler eklemek')"
   ]
  },
  {
   "cell_type": "code",
   "execution_count": null,
   "id": "97e65c81",
   "metadata": {},
   "outputs": [
    {
     "data": {
      "text/plain": [
       "False"
      ]
     },
     "execution_count": 14,
     "metadata": {},
     "output_type": "execute_result"
    }
   ],
   "source": [
    "myDosya2.closed"
   ]
  },
  {
   "cell_type": "code",
   "execution_count": null,
   "id": "91b4a2e7",
   "metadata": {},
   "outputs": [],
   "source": [
    "myDosya2.close()"
   ]
  },
  {
   "cell_type": "code",
   "execution_count": null,
   "id": "eae18d23",
   "metadata": {},
   "outputs": [],
   "source": []
  },
  {
   "cell_type": "code",
   "execution_count": null,
   "id": "eee5e9bc",
   "metadata": {},
   "outputs": [],
   "source": []
  },
  {
   "cell_type": "markdown",
   "id": "c642ab82",
   "metadata": {},
   "source": [
    "regex   düzenli ifadeler"
   ]
  },
  {
   "cell_type": "code",
   "execution_count": null,
   "id": "24c9bae9",
   "metadata": {},
   "outputs": [],
   "source": [
    "import re"
   ]
  },
  {
   "cell_type": "code",
   "execution_count": null,
   "id": "b3d62297",
   "metadata": {},
   "outputs": [],
   "source": [
    "telefon=\"telefon 65651 65 1595 numaralar 0555-656235 diğer 0555-656335 mehmet 0555-656245   \""
   ]
  },
  {
   "cell_type": "code",
   "execution_count": null,
   "id": "847ae910",
   "metadata": {},
   "outputs": [],
   "source": [
    "patern=f\"\\s(\\d+)\"   #s bosluk demek d  sayiyi gösterir"
   ]
  },
  {
   "cell_type": "code",
   "execution_count": null,
   "id": "dba4bbfd",
   "metadata": {},
   "outputs": [
    {
     "data": {
      "text/plain": [
       "['65651', '65', '1595', '0555', '0555', '0555']"
      ]
     },
     "execution_count": 22,
     "metadata": {},
     "output_type": "execute_result"
    }
   ],
   "source": [
    "re.findall(patern,telefon)"
   ]
  },
  {
   "cell_type": "code",
   "execution_count": null,
   "id": "f5b3c036",
   "metadata": {},
   "outputs": [],
   "source": []
  },
  {
   "cell_type": "code",
   "execution_count": null,
   "id": "d6d2d994",
   "metadata": {},
   "outputs": [
    {
     "name": "stdout",
     "output_type": "stream",
     "text": [
      "muz domates\n",
      "muz nane\n",
      "karpuz domates\n",
      "karpuz nane\n"
     ]
    }
   ],
   "source": [
    "listem1=['muz','karpuz']     #burda elemanlari eslestiriyoruz.\n",
    "listem2=['domates','nane']\n",
    "\n",
    "for i in listem1:    #muzu aldi,asagi indi,ordanda domatesi alip yazdirdi,sonra kucuk fordan cikamadi\n",
    "    for x in listem2:     #cunku kucuk for daki tüm elemanlari sirayla almadi,dönüp naneyi de aliyor\n",
    "        print(i,x)      #zaten ay önce muzu almisti,muz ve naneyide birlestiriyor.\n",
    "                        #sonra zaten  kücük fordan cikip büyük for a geciyor,ve en basta olan islem bu seferde\n",
    "                        #karpuz icin tekrarlaniyor"
   ]
  },
  {
   "cell_type": "code",
   "execution_count": null,
   "id": "3b8c9eea-4527-42fd-aedc-d9c6a858b492",
   "metadata": {},
   "outputs": [],
   "source": []
  },
  {
   "cell_type": "code",
   "execution_count": null,
   "id": "3f702df4-b0ad-47de-b22d-66fd47ab164f",
   "metadata": {},
   "outputs": [],
   "source": []
  },
  {
   "cell_type": "code",
   "execution_count": null,
   "id": "b857c2fe-ac83-43d7-aad5-e1bb400612f4",
   "metadata": {},
   "outputs": [],
   "source": []
  },
  {
   "cell_type": "code",
   "execution_count": null,
   "id": "bd47f48e-ceb1-463b-b4ff-ccc5d59c8b59",
   "metadata": {},
   "outputs": [],
   "source": []
  },
  {
   "cell_type": "code",
   "execution_count": null,
   "id": "7729a39d",
   "metadata": {},
   "outputs": [],
   "source": []
  },
  {
   "cell_type": "code",
   "execution_count": null,
   "id": "d728ed77",
   "metadata": {},
   "outputs": [],
   "source": [
    "def max_sayi(*sayi):   #finder ihr von angegebenen Zahlen,welche am großte ist.\n",
    "    a=max(sayi)\n",
    "    return a"
   ]
  },
  {
   "cell_type": "code",
   "execution_count": null,
   "id": "40f59b37",
   "metadata": {},
   "outputs": [
    {
     "data": {
      "text/plain": [
       "99"
      ]
     },
     "execution_count": 11,
     "metadata": {},
     "output_type": "execute_result"
    }
   ],
   "source": [
    "max_sayi(1,5,80,99)"
   ]
  },
  {
   "cell_type": "code",
   "execution_count": null,
   "id": "186b5519",
   "metadata": {},
   "outputs": [],
   "source": []
  },
  {
   "cell_type": "code",
   "execution_count": null,
   "id": "99d067d7",
   "metadata": {},
   "outputs": [],
   "source": []
  },
  {
   "cell_type": "code",
   "execution_count": null,
   "id": "89747f1f",
   "metadata": {},
   "outputs": [],
   "source": []
  },
  {
   "cell_type": "code",
   "execution_count": null,
   "id": "816b7016",
   "metadata": {},
   "outputs": [],
   "source": [
    "def max_bul(listem):     #liste icindeki max olan elemani bulmak\n",
    "    max_sayi=listem[0]\n",
    "    for i in listem:\n",
    "        if i>max_sayi:\n",
    "            max_sayi=i\n",
    "    return max_sayi        \n",
    "        "
   ]
  },
  {
   "cell_type": "code",
   "execution_count": null,
   "id": "315bc0c3",
   "metadata": {},
   "outputs": [],
   "source": [
    "listem=[5,3,6,7,8,2]"
   ]
  },
  {
   "cell_type": "code",
   "execution_count": null,
   "id": "b3a5681b",
   "metadata": {},
   "outputs": [
    {
     "data": {
      "text/plain": [
       "8"
      ]
     },
     "execution_count": 20,
     "metadata": {},
     "output_type": "execute_result"
    }
   ],
   "source": [
    "max_bul(listem)     #ich vergesse diese parameter beizufügen,mancmal stelle ich leer dir fonktion"
   ]
  },
  {
   "cell_type": "code",
   "execution_count": null,
   "id": "a466cd39",
   "metadata": {},
   "outputs": [],
   "source": []
  },
  {
   "cell_type": "code",
   "execution_count": null,
   "id": "b7291216",
   "metadata": {},
   "outputs": [],
   "source": []
  },
  {
   "cell_type": "code",
   "execution_count": null,
   "id": "3f9faeb3",
   "metadata": {},
   "outputs": [],
   "source": []
  },
  {
   "cell_type": "code",
   "execution_count": null,
   "id": "8ad90bb8",
   "metadata": {},
   "outputs": [],
   "source": [
    "def max_bul(*sayilar):\n",
    "    sayilar=[5,3,4,7,8]      #ilk önce liste def disindaydi,calismadi,def icine alinca calisti\n",
    "    max_olan=max(sayilar)\n",
    "    return max_olan\n",
    "    "
   ]
  },
  {
   "cell_type": "code",
   "execution_count": null,
   "id": "4316168a",
   "metadata": {},
   "outputs": [
    {
     "data": {
      "text/plain": [
       "8"
      ]
     },
     "execution_count": 42,
     "metadata": {},
     "output_type": "execute_result"
    }
   ],
   "source": [
    "max_bul(sayilar)"
   ]
  },
  {
   "cell_type": "code",
   "execution_count": null,
   "id": "4b8dc689",
   "metadata": {},
   "outputs": [],
   "source": []
  },
  {
   "cell_type": "code",
   "execution_count": null,
   "id": "f64f976f",
   "metadata": {},
   "outputs": [],
   "source": []
  },
  {
   "cell_type": "code",
   "execution_count": null,
   "id": "88260bc7",
   "metadata": {},
   "outputs": [],
   "source": []
  },
  {
   "cell_type": "code",
   "execution_count": null,
   "id": "a76edaf8",
   "metadata": {},
   "outputs": [],
   "source": [
    "def kura(*kisiler):        \n",
    "    kisi_sayisi=int(input('kuraya kac kisi girecek : '))\n",
    "    isimler=[]\n",
    "    import random\n",
    "    for i in range(kisi_sayisi):\n",
    "        isim=input('bir isim giriniz : ')\n",
    "        isimler.append(isim)\n",
    "    random.shuffle(isimler)  \n",
    "    print(f'kurada kazanan kisi {isimler[0]} dir')\n",
    "    \n",
    "        \n",
    "        \n",
    "        \n",
    "#burda oyuna katilan kisilerden bir tanesi kura yardimiyla bulunacak        \n",
    "#shuffle fonk  liste icindeki elemanlari karistirir ve isimler[0] yaparak,zaten her zaman \n",
    "#karisacak olan listeden birincisini aliyorsun"
   ]
  },
  {
   "cell_type": "code",
   "execution_count": null,
   "id": "4689bd19",
   "metadata": {},
   "outputs": [
    {
     "name": "stdout",
     "output_type": "stream",
     "text": [
      "kuraya kac kisi girecek : 5\n",
      "bir isim giriniz : ali\n",
      "bir isim giriniz : kadir\n",
      "bir isim giriniz : lale\n",
      "bir isim giriniz : soner\n",
      "bir isim giriniz : hatip\n",
      "kurada kazanan kisi lale dir\n"
     ]
    }
   ],
   "source": [
    "kura()"
   ]
  },
  {
   "cell_type": "code",
   "execution_count": null,
   "id": "3a774f25",
   "metadata": {},
   "outputs": [],
   "source": []
  },
  {
   "cell_type": "code",
   "execution_count": null,
   "id": "057a5f76",
   "metadata": {},
   "outputs": [],
   "source": []
  },
  {
   "cell_type": "code",
   "execution_count": null,
   "id": "20c8110b",
   "metadata": {},
   "outputs": [],
   "source": []
  },
  {
   "cell_type": "code",
   "execution_count": null,
   "id": "9c65cf19",
   "metadata": {},
   "outputs": [],
   "source": [
    "class üye:\n",
    "    üyenin_sehri='mardin'\n",
    "    üyenin_meslegi='doktor'\n",
    "    üyenin_maddi='iyi'\n",
    "    "
   ]
  },
  {
   "cell_type": "code",
   "execution_count": null,
   "id": "6a0b4e0f",
   "metadata": {},
   "outputs": [],
   "source": [
    "veysel=üye()"
   ]
  },
  {
   "cell_type": "code",
   "execution_count": null,
   "id": "dca42f28",
   "metadata": {},
   "outputs": [
    {
     "data": {
      "text/plain": [
       "'mardin'"
      ]
     },
     "execution_count": 54,
     "metadata": {},
     "output_type": "execute_result"
    }
   ],
   "source": [
    "veysel.üyenin_sehri"
   ]
  },
  {
   "cell_type": "code",
   "execution_count": null,
   "id": "1f234388",
   "metadata": {},
   "outputs": [],
   "source": [
    "üye.ülke='almanya'   "
   ]
  },
  {
   "cell_type": "code",
   "execution_count": null,
   "id": "7077f99b",
   "metadata": {},
   "outputs": [
    {
     "data": {
      "text/plain": [
       "'almanya'"
      ]
     },
     "execution_count": 56,
     "metadata": {},
     "output_type": "execute_result"
    }
   ],
   "source": [
    "veysel.ülke"
   ]
  },
  {
   "cell_type": "code",
   "execution_count": null,
   "id": "a34be2db",
   "metadata": {},
   "outputs": [],
   "source": []
  },
  {
   "cell_type": "code",
   "execution_count": null,
   "id": "237eefb3",
   "metadata": {},
   "outputs": [],
   "source": []
  },
  {
   "cell_type": "code",
   "execution_count": null,
   "id": "59e6eae9",
   "metadata": {},
   "outputs": [],
   "source": []
  },
  {
   "cell_type": "code",
   "execution_count": null,
   "id": "e41da3cb",
   "metadata": {},
   "outputs": [],
   "source": []
  },
  {
   "cell_type": "code",
   "execution_count": null,
   "id": "f05e8b32",
   "metadata": {},
   "outputs": [],
   "source": []
  },
  {
   "cell_type": "code",
   "execution_count": null,
   "id": "02d56580",
   "metadata": {},
   "outputs": [
    {
     "name": "stdout",
     "output_type": "stream",
     "text": [
      "veysel---kadir---leyla\n"
     ]
    }
   ],
   "source": [
    "print('veysel','kadir','leyla',sep='---')  # elemanlar arasina yazdirirken istedigin seyi koyar"
   ]
  },
  {
   "cell_type": "code",
   "execution_count": null,
   "id": "0913a752",
   "metadata": {},
   "outputs": [],
   "source": []
  },
  {
   "cell_type": "code",
   "execution_count": null,
   "id": "15e2e514",
   "metadata": {},
   "outputs": [],
   "source": []
  },
  {
   "cell_type": "code",
   "execution_count": null,
   "id": "024a8946-ae70-4abf-8a29-8102ae1753ec",
   "metadata": {},
   "outputs": [],
   "source": []
  },
  {
   "cell_type": "code",
   "execution_count": null,
   "id": "a38d9db3-d452-4fed-a934-c034f8869a27",
   "metadata": {},
   "outputs": [
    {
     "name": "stdout",
     "output_type": "stream",
     "text": [
      "                        veysel\n",
      "             aytekin\n"
     ]
    }
   ],
   "source": [
    "print('{:>30}'.format('veysel','aytekin'))\n",
    "print('{1:>20}'.format('veysel','aytekin'))  #eger bir elemani saga dogru belli \n",
    "\n",
    "#bir bosluk biraktiktan sonra yazmak istiyorsan, bu yöntemi kullan"
   ]
  },
  {
   "cell_type": "code",
   "execution_count": null,
   "id": "cb0128eb-9fb7-4d26-b70a-06c17fc66505",
   "metadata": {},
   "outputs": [],
   "source": []
  },
  {
   "cell_type": "code",
   "execution_count": null,
   "id": "49690d3c-d889-47bc-8eaa-0eec95f92b10",
   "metadata": {},
   "outputs": [],
   "source": []
  },
  {
   "cell_type": "code",
   "execution_count": null,
   "id": "03bfb990-104f-4ba0-ad12-d2551c9e3e0c",
   "metadata": {},
   "outputs": [],
   "source": []
  },
  {
   "cell_type": "code",
   "execution_count": null,
   "id": "7b33b7c0-21d5-40bd-a22d-1e82dbf20328",
   "metadata": {},
   "outputs": [
    {
     "name": "stdout",
     "output_type": "stream",
     "text": [
      "vey        \\ [ay] bir sanatcidir.\n"
     ]
    }
   ],
   "source": [
    "ad='veysel'\n",
    "soyadi='aytekin'\n",
    "\n",
    "message=f'{ad:10.3} \\ [{soyadi:.2}] bir sanatcidir.'  \n",
    "print(message)\n",
    "\n",
    "\n",
    "#soyadinin 2 tanesini gösterecek,10.3 ise buna 10 tane yer ac ve ilk 3 ünü al\n",
    "\n"
   ]
  },
  {
   "cell_type": "code",
   "execution_count": null,
   "id": "a9787f8a-9f39-4036-9a19-612cd5f2589e",
   "metadata": {},
   "outputs": [],
   "source": []
  },
  {
   "cell_type": "code",
   "execution_count": null,
   "id": "9c2be726-bf08-40c7-8513-1377d5acc440",
   "metadata": {},
   "outputs": [],
   "source": []
  },
  {
   "cell_type": "code",
   "execution_count": null,
   "id": "f14818e3-1e33-439a-81ae-4909200eb3f2",
   "metadata": {},
   "outputs": [],
   "source": []
  },
  {
   "cell_type": "code",
   "execution_count": null,
   "id": "b747740f-eb05-4f8d-961b-d2893d293bdf",
   "metadata": {},
   "outputs": [
    {
     "name": "stdout",
     "output_type": "stream",
     "text": [
      "13.1\n"
     ]
    }
   ],
   "source": [
    "pi=13.141518202548\n",
    "print(f\"{pi:.3}\")       #kac basamakli"
   ]
  },
  {
   "cell_type": "code",
   "execution_count": null,
   "id": "6fb3fbf4-fcb9-4dbb-ae9a-8a86e8e3a756",
   "metadata": {},
   "outputs": [],
   "source": []
  },
  {
   "cell_type": "code",
   "execution_count": null,
   "id": "db8c2ac8-13d5-4d27-9411-56bfa2d4a51b",
   "metadata": {},
   "outputs": [],
   "source": []
  },
  {
   "cell_type": "code",
   "execution_count": null,
   "id": "7854edd3-490a-42f1-888e-e53fe8e4c07b",
   "metadata": {},
   "outputs": [],
   "source": []
  },
  {
   "cell_type": "code",
   "execution_count": null,
   "id": "3f68b3f9-e603-4b07-99eb-edb0c14295fc",
   "metadata": {},
   "outputs": [
    {
     "data": {
      "text/plain": [
       "'veyseö'"
      ]
     },
     "execution_count": 12,
     "metadata": {},
     "output_type": "execute_result"
    }
   ],
   "source": [
    "sayi='ali'\n",
    "sali='veyseö'\n",
    "\n",
    "sayi\n",
    "sali    #jypter kendiliginden print koyuyor, ama iki tane alt alta yapinca sadece en \n",
    "        #altta yazdigini cikti verir eger ikisinide yazmak istersen basina print koyacaksin"
   ]
  },
  {
   "cell_type": "code",
   "execution_count": null,
   "id": "db68e5f6-088e-491b-8cf3-978bf013ccf8",
   "metadata": {},
   "outputs": [],
   "source": []
  },
  {
   "cell_type": "code",
   "execution_count": null,
   "id": "4e397472-35b6-45ca-9d6c-d35dd2ec5f14",
   "metadata": {},
   "outputs": [],
   "source": []
  },
  {
   "cell_type": "code",
   "execution_count": null,
   "id": "e975a389-66a5-4e74-bd99-9a6894feef3f",
   "metadata": {},
   "outputs": [],
   "source": []
  },
  {
   "cell_type": "code",
   "execution_count": null,
   "id": "f270d460-72bb-4a2e-96fd-f041bfab796f",
   "metadata": {},
   "outputs": [
    {
     "name": "stdout",
     "output_type": "stream",
     "text": [
      "['pyt', 'on']\n"
     ]
    }
   ],
   "source": [
    "st='python'\n",
    "\n",
    "\n",
    "\n",
    "st.split('h')    #elemanlari ayirir ve aralarina istedigin seyi koyar\n",
    "\n",
    "print(st.split('h'))   #h den kesti ve h yide atiyor"
   ]
  },
  {
   "cell_type": "code",
   "execution_count": null,
   "id": "dee400bd-d1ce-4f75-91be-7243db0752cf",
   "metadata": {},
   "outputs": [],
   "source": []
  },
  {
   "cell_type": "code",
   "execution_count": null,
   "id": "21a668ac",
   "metadata": {},
   "outputs": [],
   "source": []
  },
  {
   "cell_type": "code",
   "execution_count": null,
   "id": "003acb16-e991-4201-b3c2-f58085c1e6b1",
   "metadata": {},
   "outputs": [],
   "source": []
  },
  {
   "cell_type": "code",
   "execution_count": null,
   "id": "b976dc51-2ab4-4ff8-a0aa-fa33c66eea8b",
   "metadata": {},
   "outputs": [],
   "source": []
  },
  {
   "cell_type": "code",
   "execution_count": null,
   "id": "c0947e94-e2ad-4493-8648-dff43049649e",
   "metadata": {},
   "outputs": [
    {
     "name": "stdout",
     "output_type": "stream",
     "text": [
      "P\ty\tt\th\to\tn\t"
     ]
    }
   ],
   "source": [
    "st='Python'\n",
    "\n",
    "for i in st:\n",
    "    print(i,end='\\t')     #tab aralari aciyor"
   ]
  },
  {
   "cell_type": "code",
   "execution_count": null,
   "id": "7f53fde5-209e-4911-ab13-8b2370c1aee6",
   "metadata": {},
   "outputs": [],
   "source": []
  },
  {
   "cell_type": "code",
   "execution_count": null,
   "id": "6bd6c738-030b-40e6-bb9a-9aae1a0d62a5",
   "metadata": {},
   "outputs": [],
   "source": []
  },
  {
   "cell_type": "code",
   "execution_count": null,
   "id": "59e77ed3-ea95-4e21-9862-85129490e9a4",
   "metadata": {},
   "outputs": [],
   "source": []
  },
  {
   "cell_type": "code",
   "execution_count": null,
   "id": "9f520bfb-12f2-46d6-9ce2-7c7974274136",
   "metadata": {},
   "outputs": [
    {
     "name": "stdout",
     "output_type": "stream",
     "text": [
      "v\n",
      "e\n",
      "y\n",
      "s\n",
      "e\n",
      "l\n"
     ]
    }
   ],
   "source": [
    "st='veysel'\n",
    "\n",
    "for i in st:\n",
    "    print(i,end='\\n')   #her yazdigi ciktinin sonuna \\n koyar ve bir altta indirir"
   ]
  },
  {
   "cell_type": "code",
   "execution_count": null,
   "id": "477e2c8f-6b4e-416a-af8d-6a5b43cc4a5c",
   "metadata": {},
   "outputs": [],
   "source": []
  },
  {
   "cell_type": "code",
   "execution_count": null,
   "id": "f135db3a-4929-41e6-b56c-0396dbde4891",
   "metadata": {},
   "outputs": [],
   "source": []
  },
  {
   "cell_type": "code",
   "execution_count": null,
   "id": "746d00dd-5e32-4814-b120-56e0ca6ba9e3",
   "metadata": {},
   "outputs": [],
   "source": []
  },
  {
   "cell_type": "code",
   "execution_count": null,
   "id": "667eb954-1200-4c8c-b015-d4bf6177deca",
   "metadata": {},
   "outputs": [
    {
     "name": "stdout",
     "output_type": "stream",
     "text": [
      "veysel \n",
      " aytekin\n"
     ]
    }
   ],
   "source": [
    "print('veysel \\n aytekin')  #\\n strin icinde bile olsa ,o kendiliginden tanir ve \n",
    "\n",
    "#bir alt satira indirir"
   ]
  },
  {
   "cell_type": "code",
   "execution_count": null,
   "id": "bc4812d6-e4fb-4ced-a6d6-40de5468524e",
   "metadata": {},
   "outputs": [],
   "source": []
  },
  {
   "cell_type": "code",
   "execution_count": null,
   "id": "f857d4f3-92af-4187-bfd3-2669d79cfcc8",
   "metadata": {},
   "outputs": [],
   "source": []
  },
  {
   "cell_type": "code",
   "execution_count": null,
   "id": "861f2f5d-f722-409f-b5ad-22b644162e03",
   "metadata": {},
   "outputs": [],
   "source": []
  },
  {
   "cell_type": "code",
   "execution_count": null,
   "id": "7a086d26-0b2f-4a4d-8b12-311563d6c97f",
   "metadata": {},
   "outputs": [
    {
     "name": "stdout",
     "output_type": "stream",
     "text": [
      "\n",
      "\n",
      "\n",
      "bitti\n"
     ]
    }
   ],
   "source": [
    "st=['ali','veli','suna']\n",
    "\n",
    "for i in st:\n",
    "    print()      #her bir elema icin döngü calisir ve her biri icin bir bos satir koyar\n",
    "    \n",
    "print('bitti')    "
   ]
  },
  {
   "cell_type": "code",
   "execution_count": null,
   "id": "6941ce9c-3a88-4ca5-963f-aa137724fb17",
   "metadata": {},
   "outputs": [],
   "source": []
  },
  {
   "cell_type": "code",
   "execution_count": null,
   "id": "1c464c6b-580d-4313-b93a-ea64be23a34f",
   "metadata": {},
   "outputs": [],
   "source": []
  },
  {
   "cell_type": "code",
   "execution_count": null,
   "id": "7dd4470d-1aaf-4760-ae6a-6457599f1ecc",
   "metadata": {},
   "outputs": [],
   "source": []
  },
  {
   "cell_type": "code",
   "execution_count": null,
   "id": "50737865-a019-4336-8dcb-89466f4c2b27",
   "metadata": {},
   "outputs": [
    {
     "name": "stdout",
     "output_type": "stream",
     "text": [
      "['bugyun', 'hava', 'güyzel']\n",
      "['bug', 'un hava gü', 'zel']\n"
     ]
    }
   ],
   "source": [
    "st='bugyun hava güyzel'\n",
    "\n",
    "print(st.split())  #ici bos olunca bosluklardan ayirir ve herbirini ayri bir atring yaoar\n",
    "\n",
    "print(st.split('y')) #y den ayirir ve her birini string yapar"
   ]
  },
  {
   "cell_type": "code",
   "execution_count": null,
   "id": "b3341d54-10ca-4033-9329-02a6cba4a45e",
   "metadata": {},
   "outputs": [],
   "source": []
  },
  {
   "cell_type": "code",
   "execution_count": null,
   "id": "eedbc012-6a64-4413-b3ae-f4be3c039093",
   "metadata": {},
   "outputs": [],
   "source": []
  },
  {
   "cell_type": "code",
   "execution_count": null,
   "id": "f16c12d9-ecfa-4350-8e04-c0aaaab94698",
   "metadata": {},
   "outputs": [],
   "source": []
  },
  {
   "cell_type": "code",
   "execution_count": null,
   "id": "cb0727bc-bb86-44dc-af90-f638b02d1c87",
   "metadata": {},
   "outputs": [],
   "source": []
  },
  {
   "cell_type": "code",
   "execution_count": null,
   "id": "a66f8e83-98e7-4f61-88e5-5f9cc79dd39a",
   "metadata": {},
   "outputs": [
    {
     "name": "stdout",
     "output_type": "stream",
     "text": [
      "[5, 6, 7, 9, 99, 0, 5]\n"
     ]
    }
   ],
   "source": [
    "lst=[5,6,7,9,0,5]\n",
    "\n",
    "lst.insert(4,99)    #4 index nosu,99 ta o yare gelecek sayi demek\n",
    "print(lst)"
   ]
  },
  {
   "cell_type": "code",
   "execution_count": null,
   "id": "2c3524f1-ba6e-487f-9194-c1e2c5ca8524",
   "metadata": {},
   "outputs": [],
   "source": []
  },
  {
   "cell_type": "code",
   "execution_count": null,
   "id": "339379bd-52da-47ca-a5db-4d3a57c86761",
   "metadata": {},
   "outputs": [],
   "source": []
  },
  {
   "cell_type": "code",
   "execution_count": null,
   "id": "7b6e9924-a9e6-4bf7-9a29-c395d4f03989",
   "metadata": {},
   "outputs": [],
   "source": []
  },
  {
   "cell_type": "code",
   "execution_count": null,
   "id": "bd57ed0d-3880-45c1-a84f-6f0a68c351e1",
   "metadata": {},
   "outputs": [],
   "source": []
  },
  {
   "cell_type": "code",
   "execution_count": null,
   "id": "960a2e6c-b8a7-4714-8f97-75a2d423ccd2",
   "metadata": {},
   "outputs": [
    {
     "name": "stdout",
     "output_type": "stream",
     "text": [
      "[5, 6, 7, 9, 0]\n"
     ]
    }
   ],
   "source": [
    "lst=[5,6,7,9,0,99]\n",
    "\n",
    "lst.pop()       #ici bos olursa en sondakini atiyor\n",
    "\n",
    "print(lst)"
   ]
  },
  {
   "cell_type": "code",
   "execution_count": null,
   "id": "169952cb-6ea2-4456-874d-05d6347b0180",
   "metadata": {},
   "outputs": [],
   "source": []
  },
  {
   "cell_type": "code",
   "execution_count": null,
   "id": "fbcda646-90eb-4ea3-b360-5feea76b1436",
   "metadata": {},
   "outputs": [],
   "source": []
  },
  {
   "cell_type": "code",
   "execution_count": null,
   "id": "d67d51ee-7f86-4ced-9f44-1e0e9a1fe0bd",
   "metadata": {},
   "outputs": [
    {
     "name": "stdout",
     "output_type": "stream",
     "text": [
      "[5, 6, 9, 0, 5, 99]\n"
     ]
    }
   ],
   "source": [
    "lst=[5,6,7,9,0,5,99]\n",
    "\n",
    "lst.pop(2)   #index numarasi 2 olan degeri atti\n",
    "\n",
    "print(lst)"
   ]
  },
  {
   "cell_type": "code",
   "execution_count": null,
   "id": "0ad84b5b-8aa6-4342-b0c0-036b2c8e614d",
   "metadata": {},
   "outputs": [],
   "source": []
  },
  {
   "cell_type": "code",
   "execution_count": null,
   "id": "0757e55f-bbbc-4717-9e4c-1d78932a2c82",
   "metadata": {},
   "outputs": [],
   "source": []
  },
  {
   "cell_type": "code",
   "execution_count": null,
   "id": "45680f6c-df73-4ba6-9d92-5403f949040b",
   "metadata": {},
   "outputs": [],
   "source": []
  },
  {
   "cell_type": "code",
   "execution_count": null,
   "id": "27b937b1-9067-4d11-99ed-b598757f00ba",
   "metadata": {},
   "outputs": [
    {
     "data": {
      "text/plain": [
       "{0, 5, 6, 7, 9}"
      ]
     },
     "execution_count": 36,
     "metadata": {},
     "output_type": "execute_result"
    }
   ],
   "source": [
    "lst=[5,6,7,9,0,5]\n",
    "\n",
    "set(lst)     #listeyi set e cevirdik"
   ]
  },
  {
   "cell_type": "code",
   "execution_count": null,
   "id": "ee95f3ac-9a52-4c74-a63e-a492bc31282f",
   "metadata": {},
   "outputs": [],
   "source": []
  },
  {
   "cell_type": "code",
   "execution_count": null,
   "id": "de4bee7e-c0db-4713-8bb7-ad3f380580f0",
   "metadata": {},
   "outputs": [],
   "source": []
  },
  {
   "cell_type": "code",
   "execution_count": null,
   "id": "77788d45-dcf4-4e8e-b0ba-c976ec0c66b2",
   "metadata": {},
   "outputs": [],
   "source": []
  },
  {
   "cell_type": "code",
   "execution_count": null,
   "id": "49668bf1-3dce-4188-aaf6-2baa86b86835",
   "metadata": {},
   "outputs": [
    {
     "name": "stdout",
     "output_type": "stream",
     "text": [
      "[5, 6, 100, 9, 0, 5]\n"
     ]
    }
   ],
   "source": [
    "lst=[5,6,7,9,0,5]\n",
    "\n",
    "lst[2]=100    #ikinci indexteki elemani degistirdi\n",
    "\n",
    "print(lst)"
   ]
  },
  {
   "cell_type": "code",
   "execution_count": null,
   "id": "88ae1acd-8593-4b24-a1c4-6f7abb7c7423",
   "metadata": {},
   "outputs": [],
   "source": []
  },
  {
   "cell_type": "code",
   "execution_count": null,
   "id": "c09798a4-5999-45a2-8df5-b20eb15454b5",
   "metadata": {},
   "outputs": [],
   "source": []
  },
  {
   "cell_type": "code",
   "execution_count": null,
   "id": "cd131356-b456-4101-81f6-e9b90b0e1033",
   "metadata": {},
   "outputs": [],
   "source": [
    "lst=[5,6,7,9,0,5]\n",
    "\n",
    "lst.    # nokta koyduktan sonra TAB a basarsan o özellikle ilgili kullanabilecegin ozellikleri tavsiye eder"
   ]
  },
  {
   "cell_type": "code",
   "execution_count": null,
   "id": "c62b5c15-d652-453c-b17b-85b72ddb7b1d",
   "metadata": {},
   "outputs": [],
   "source": []
  },
  {
   "cell_type": "code",
   "execution_count": null,
   "id": "c887a668-7e7a-4f7c-88ed-4ed58fc5bc5a",
   "metadata": {},
   "outputs": [],
   "source": []
  },
  {
   "cell_type": "code",
   "execution_count": null,
   "id": "57c271a7-fc59-4a2c-a15a-1ba14896dd87",
   "metadata": {},
   "outputs": [],
   "source": []
  },
  {
   "cell_type": "code",
   "execution_count": null,
   "id": "0eccec52-b57e-49bb-97ce-56e73d53fdd0",
   "metadata": {},
   "outputs": [],
   "source": []
  },
  {
   "cell_type": "code",
   "execution_count": null,
   "id": "c3c8159f-a18f-40aa-97e8-14de2c59fcd5",
   "metadata": {},
   "outputs": [
    {
     "name": "stdout",
     "output_type": "stream",
     "text": [
      "yoktu ama ekledim\n",
      "['a', 'b', 'c', 'f', 't', 'n']\n"
     ]
    }
   ],
   "source": [
    "lis=[\"a\",\"b\",\"c\",\"f\",\"t\"]\n",
    "\n",
    "if 'n' in lis:\n",
    "    print('var')\n",
    "    \n",
    "else:\n",
    "    lis.append('n')\n",
    "    print('yoktu ama ekledim')\n",
    "    \n",
    "    \n",
    "    \n",
    "print(lis)      #eklemis oldu"
   ]
  },
  {
   "cell_type": "code",
   "execution_count": null,
   "id": "be17f1e1-4d2a-4d31-aefd-f36f1cf30088",
   "metadata": {},
   "outputs": [],
   "source": []
  },
  {
   "cell_type": "code",
   "execution_count": null,
   "id": "25529c53-1a84-4992-a5c7-d01c19b68a32",
   "metadata": {},
   "outputs": [],
   "source": []
  },
  {
   "cell_type": "code",
   "execution_count": null,
   "id": "59712a12-165b-4ccb-9441-ffc780edb0fb",
   "metadata": {},
   "outputs": [],
   "source": []
  },
  {
   "cell_type": "code",
   "execution_count": null,
   "id": "3cff0a06-30f5-43db-962d-00792de756d8",
   "metadata": {},
   "outputs": [],
   "source": [
    "#global yazarak afurufeyi programin heryerinde sifir olarak aliyor\n",
    "#local olsaydi sadece o kücük vorschleifede aufrufe 0 alacakti"
   ]
  },
  {
   "cell_type": "code",
   "execution_count": null,
   "id": "d2f3da8e-5531-487e-802c-929765a04767",
   "metadata": {},
   "outputs": [],
   "source": []
  },
  {
   "cell_type": "code",
   "execution_count": null,
   "id": "df0c39a6-3b06-467b-af78-6ddf6792d099",
   "metadata": {},
   "outputs": [],
   "source": []
  },
  {
   "cell_type": "code",
   "execution_count": null,
   "id": "b4e55099-8e9b-4959-b165-65a142ff28f6",
   "metadata": {},
   "outputs": [],
   "source": [
    "\n",
    "    "
   ]
  },
  {
   "cell_type": "code",
   "execution_count": null,
   "id": "3a1e949c-f7b1-4aff-becf-c2c2940dd431",
   "metadata": {},
   "outputs": [],
   "source": []
  },
  {
   "cell_type": "code",
   "execution_count": null,
   "id": "de8a20d1-7b31-46b1-8d9c-d827704fa2bc",
   "metadata": {},
   "outputs": [],
   "source": []
  },
  {
   "cell_type": "markdown",
   "id": "3e4bc702",
   "metadata": {},
   "source": [
    "## Enumerate"
   ]
  },
  {
   "cell_type": "code",
   "execution_count": null,
   "id": "000e8fcb-25cb-4c57-895c-eeafc6ba577e",
   "metadata": {},
   "outputs": [
    {
     "name": "stdout",
     "output_type": "stream",
     "text": [
      "0 1\n",
      "1 2\n",
      "2 3\n",
      "3 1\n",
      "4 1\n",
      "5 3\n"
     ]
    }
   ],
   "source": [
    "nums= [1,2,3,1,1,3] \n",
    "\n",
    "\n",
    "for i, j in enumerate(nums):\n",
    "    print(i,j)\n",
    "    \n",
    "    \n",
    "#enumerate fonktionu her indexi kendi elemaniyla beraber getiriyor, "
   ]
  },
  {
   "cell_type": "code",
   "execution_count": null,
   "id": "eeaf3e72-6553-47e0-b2ac-5a4e2ffe33f2",
   "metadata": {},
   "outputs": [],
   "source": []
  },
  {
   "cell_type": "code",
   "execution_count": null,
   "id": "bdd1b150-57cf-456b-a15a-1ede62bfcafd",
   "metadata": {},
   "outputs": [],
   "source": []
  },
  {
   "cell_type": "code",
   "execution_count": null,
   "id": "6c023546-f3ce-4d8c-841c-174b5f94f198",
   "metadata": {},
   "outputs": [],
   "source": []
  },
  {
   "cell_type": "code",
   "execution_count": null,
   "id": "b7af327b-614f-4cc8-833c-c469074133c4",
   "metadata": {},
   "outputs": [
    {
     "name": "stdout",
     "output_type": "stream",
     "text": [
      "4\n"
     ]
    }
   ],
   "source": [
    "#2.WAY   with enumerate fonction\n",
    "\n",
    "nums= [1,2,3,1,1,3]\n",
    "\n",
    "n = 0\n",
    "\n",
    "for counter, value in enumerate(nums):   \n",
    "    for x in nums[counter+1 :]:\n",
    "        if x == value:\n",
    "            n+=1\n",
    "print(n)             \n",
    "\n",
    "\n",
    "#aslinda bu cözümün amaci su, örnegin ilk indexli elemani aldiginda onu sirayla diger bütün elemanlarla\n",
    "#eslestirmek,sonra ikinci elemani, ikinciden sonraki tüm elemanlarla eslestirmek(nums[counter+1 :],bir öncekiyle olmuyor,\n",
    "#cünkü bir öncekiyle ilk indexli elemanda zaten eslesmislerdi\n",
    "\n",
    "#bu cözümde enumerate fonksiyonunun tek katkisi ilk for döngüsünde \n",
    "#index ile elemani ayni anda aliyor, bunun bize faydasi :\n",
    "#bizim listemize göre enumerate fonksiyonu su sekilde ciktilar veriyor [0:index,1:eleman],[1,2],[2,3],[3,1],\n",
    "#[1,1],[5,3] seklinde ciktilar veriyor\n",
    "#ilk for döngüsünde ilk eleman icin [0,1] aliyor\n",
    "#bu aldigi [0,1] ,for counter, value in enumerate(nums): burada counter yerine 0,value yerine 1 yaziyor\n",
    "#sonra yine bu elemanlar icin asagi ikinci for döngüsüne indigimizde counter 0 oldugu icin nums[counter+1 :]\n",
    "#birda nums[1:] diye birsey olusuyor. bunun anlami x sirayla bu elemanlar olacak yani nums[1]=2  nums[2]=3. \n",
    "#nums[3]=1 ,nums[4]=1,ve nums[5]=3 olacak\n",
    "#bunun anlami bir asagida if x == value: ifadesinde value=1 zaten [0:index,1:eleman] den dolayi\n",
    "#ve x in alacagi degerler 2,3,1,1,3 olacak,ilk deger olmayacak,cünkü [counter+1 ile kendisini aldirtmiyoruz\n",
    "# ve eslesme bu sekilde enumerateden olacak ilk aldigimiz [0,1] degeri icin =(2=x,1=value),(3,1)(1,1)(1,1)(3,1)\n",
    "#burda iki tane (1,1) oldugu icin n=2 olacak,sadece enumerateden gelecen [0,1] icin, \n",
    "#sonra digerleri icinde devam edecek"
   ]
  },
  {
   "cell_type": "code",
   "execution_count": null,
   "id": "d77de57a-71ee-4c0a-ab29-2b2a06348887",
   "metadata": {},
   "outputs": [
    {
     "name": "stdout",
     "output_type": "stream",
     "text": [
      "ali\n",
      "3\n"
     ]
    }
   ],
   "source": [
    "nums= [1,2,3,1,'ali',3] \n",
    "for e in nums[4:]:\n",
    "    print(e)\n",
    "    \n",
    "    \n",
    "#bu for döngüsünü cok begendim, belli bir yerden sonrasini yazdiriyor"
   ]
  },
  {
   "cell_type": "code",
   "execution_count": null,
   "id": "acb4fef4-bfe4-4433-9adf-d88068a87588",
   "metadata": {},
   "outputs": [],
   "source": [
    "nums= [1,2,3,1,1,3] \n",
    "\n",
    "\n",
    "for i, j in enumerate(nums):\n",
    "    print(i,j)\n",
    "    \n",
    "    \n",
    "#enumerate fonktionu her indexi kendi elemaniyla beraber getiriyor,  "
   ]
  },
  {
   "cell_type": "code",
   "execution_count": null,
   "id": "80e90b8c-2e7b-4ec0-83c9-3bb07a86aacf",
   "metadata": {},
   "outputs": [
    {
     "name": "stdout",
     "output_type": "stream",
     "text": [
      "1\n"
     ]
    }
   ],
   "source": [
    "nums = [2,7,11,15,34,5,6,4]\n",
    "\n",
    "print(nums.index(7))\n",
    "\n",
    "\n",
    "\n",
    "#eger bir elemanin index numarasini bulmak icin bu sekilde yapiyoruz, index icine indexini bulmak istedigimiz\n",
    "li = [0, 1, 2, 3]#sayiyi yaziyoruz"
   ]
  },
  {
   "cell_type": "code",
   "execution_count": null,
   "id": "89df8dd2",
   "metadata": {},
   "outputs": [
    {
     "name": "stdout",
     "output_type": "stream",
     "text": [
      "8\n",
      "2\n"
     ]
    }
   ],
   "source": [
    "li = [0, 1, 6, 8]\n",
    "\n",
    "#for i in li:\n",
    "    #next_i = li[li.index(i)+1]   #li[] icinde oldugu icin bu ifade value veriyor\n",
    "    #print(next_i)\n",
    "        \n",
    "        \n",
    "print(li[li.index(6)+1])        \n",
    "\n",
    "\n",
    "print(li.index(6)) \n",
    "#pythonda bir sonraki elementi indexi ele almak icin kullaniyoruz "
   ]
  },
  {
   "cell_type": "markdown",
   "id": "7f34397e",
   "metadata": {},
   "source": [
    "## zip"
   ]
  },
  {
   "cell_type": "code",
   "execution_count": null,
   "id": "7f60404b",
   "metadata": {},
   "outputs": [],
   "source": [
    "#ayni boydaki iki listenin elemanlarini karsilikli olarak eklemlendiriyor, "
   ]
  },
  {
   "cell_type": "code",
   "execution_count": null,
   "id": "074002e8",
   "metadata": {},
   "outputs": [
    {
     "name": "stdout",
     "output_type": "stream",
     "text": [
      "('TR', 1)\n",
      "('FR', 2)\n",
      "('DE', 3)\n"
     ]
    }
   ],
   "source": [
    "ulkeler = ['TR', 'FR', 'DE']\n",
    "siralamalar = range(1,4)\n",
    "\n",
    "\n",
    "for ulke in zip(ulkeler,siralamalar):\n",
    "    print(ulke)   #burda bir tupel formatinda ,genelde böyle kullanilir dedi hoca"
   ]
  },
  {
   "cell_type": "code",
   "execution_count": null,
   "id": "06c9282f",
   "metadata": {},
   "outputs": [
    {
     "name": "stdout",
     "output_type": "stream",
     "text": [
      "TR 1\n",
      "FR 2\n",
      "DE 3\n"
     ]
    }
   ],
   "source": [
    "ulkeler = ['TR', 'FR', 'DE']\n",
    "siralamalar = range(1,4)\n",
    "\n",
    "\n",
    "for ulke,sirala in zip(ulkeler,siralamalar):\n",
    "    print(ulke,sirala)    #burda direkt cikti olarak veriyor"
   ]
  },
  {
   "cell_type": "code",
   "execution_count": null,
   "id": "b2ae5ce3",
   "metadata": {},
   "outputs": [
    {
     "name": "stdout",
     "output_type": "stream",
     "text": [
      "1\n",
      "2\n",
      "3\n"
     ]
    }
   ],
   "source": [
    "ulkeler = ['TR', 'FR', 'DE']\n",
    "siralamalar = range(1,4)\n",
    "\n",
    "\n",
    "for ulke,sirala in zip(ulkeler,siralamalar):\n",
    "    print(sirala)    #bu sekilde ikisinden birinide cagirabiliriz"
   ]
  },
  {
   "cell_type": "markdown",
   "id": "8880a021",
   "metadata": {},
   "source": [
    "# class"
   ]
  },
  {
   "cell_type": "markdown",
   "id": "13320a34",
   "metadata": {},
   "source": []
  },
  {
   "cell_type": "code",
   "execution_count": null,
   "id": "0b55552e",
   "metadata": {},
   "outputs": [],
   "source": [
    "#claslar cok boyutlu objeleri tanimlamak icin kullanilan yapilar\n",
    "#class adi :insan\n",
    "#attribute : isim, soyisim,yas, tel no,"
   ]
  },
  {
   "cell_type": "code",
   "execution_count": null,
   "id": "ae3e830b",
   "metadata": {},
   "outputs": [
    {
     "data": {
      "text/plain": [
       "'THY'"
      ]
     },
     "execution_count": 18,
     "metadata": {},
     "output_type": "execute_result"
    }
   ],
   "source": [
    "class Ucus():\n",
    "    havayolu = 'THY'\n",
    "ucus1 = Ucus()\n",
    "ucus1.havayolu    #bu yazim sekli pandas'a benziyor,ucus1 i Ucus'a esitleyerek bir nevi Ucus oldu\n",
    "#ve biz onun havayolu bilgisine ulasmak icin .havayolu yazdik\n"
   ]
  },
  {
   "cell_type": "code",
   "execution_count": 1,
   "id": "09ac6fb8",
   "metadata": {},
   "outputs": [],
   "source": [
    "class Ucuslar():\n",
    "    havayolu = 'THY'\n",
    "\n",
    "    def __init__(self, kod, kalkis, varis, sure, kapasite, yolcu):\n",
    "        self.kod = kod\n",
    "        self.kalkis = kalkis\n",
    "        self.varis = varis\n",
    "        self.sure = sure\n",
    "        self.kapasite = kapasite\n",
    "        self.kapasite = kapasite\n",
    "        \n",
    "        "
   ]
  },
  {
   "cell_type": "code",
   "execution_count": 2,
   "id": "71ca6cc6",
   "metadata": {},
   "outputs": [
    {
     "ename": "TypeError",
     "evalue": "__init__() missing 6 required positional arguments: 'kod', 'kalkis', 'varis', 'sure', 'kapasite', and 'yolcu'",
     "output_type": "error",
     "traceback": [
      "\u001b[0;31m---------------------------------------------------------------------------\u001b[0m",
      "\u001b[0;31mTypeError\u001b[0m                                 Traceback (most recent call last)",
      "\u001b[1;32m/Users/veyselaytekin/Desktop/Data Science/1_PYTHON_VE_LIBRARY/Python/Python_Code_information/Python_notes_veysel_for_GitHub/Python_notes_veysel.ipynb Cell 902'\u001b[0m in \u001b[0;36m<cell line: 1>\u001b[0;34m()\u001b[0m\n\u001b[0;32m----> <a href='vscode-notebook-cell:/Users/veyselaytekin/Desktop/Data%20Science/1_PYTHON_VE_LIBRARY/Python/Python_Code_information/Python_notes_veysel_for_GitHub/Python_notes_veysel.ipynb#ch0000901?line=0'>1</a>\u001b[0m ucus2 \u001b[39m=\u001b[39m Ucuslar()\n",
      "\u001b[0;31mTypeError\u001b[0m: __init__() missing 6 required positional arguments: 'kod', 'kalkis', 'varis', 'sure', 'kapasite', and 'yolcu'"
     ]
    }
   ],
   "source": [
    "ucus2 = Ucuslar()   #böyle direk yeni bir alt class olusturamayiz\n",
    "\n",
    "#ucuslarin icinde attributlari vardi,ben yeni bir örneklem alacagim zaman o atributt degerlerini girmeliyim"
   ]
  },
  {
   "cell_type": "code",
   "execution_count": null,
   "id": "8b4449ab",
   "metadata": {},
   "outputs": [],
   "source": [
    "ucus2 = Ucuslar('TK345','ank','mard','4 saat', 350,50)"
   ]
  },
  {
   "cell_type": "code",
   "execution_count": null,
   "id": "ad05adfd",
   "metadata": {},
   "outputs": [
    {
     "data": {
      "text/plain": [
       "<__main__.Ucuslar at 0x1100dc160>"
      ]
     },
     "execution_count": 21,
     "metadata": {},
     "output_type": "execute_result"
    }
   ],
   "source": [
    "ucus2"
   ]
  },
  {
   "cell_type": "code",
   "execution_count": null,
   "id": "f7427fab",
   "metadata": {},
   "outputs": [
    {
     "data": {
      "text/plain": [
       "'THY'"
      ]
     },
     "execution_count": 23,
     "metadata": {},
     "output_type": "execute_result"
    }
   ],
   "source": [
    "ucus2.havayolu"
   ]
  },
  {
   "cell_type": "code",
   "execution_count": 1,
   "id": "6a31196a",
   "metadata": {},
   "outputs": [],
   "source": [
    "class Ucuslar():\n",
    "    havayolu = 'THY'\n",
    "\n",
    "    def __init__(self, kod, kalkis, varis, sure, kapasite, yolcu):  #bu galiba asagida olusturacagimiz fonksiyonlarin bir taslagi\n",
    "        self.kod = kod\n",
    "        self.kalkis = kalkis\n",
    "        self.varis = varis\n",
    "        self.sure = sure\n",
    "        self.kapasite = kapasite\n",
    "        \n",
    "\n",
    "    def anons_yap(self):\n",
    "        return (f'{self.kod} sayili {self.kalkis}-{self.varis} ucusumuz {self.sure} dakika sürecektir')\n",
    "    \n",
    "    \n",
    "    \n",
    "    #bu class'in altinda bir fonksiyon olusturursan, büyük cogunluk self ile baslariz def(self,yas), o class'la iliskilendirmek icin"
   ]
  },
  {
   "cell_type": "code",
   "execution_count": 4,
   "id": "45215f29",
   "metadata": {},
   "outputs": [],
   "source": [
    "ucus3 = Ucuslar('TK345','ank','mard','4 saat', 250,50) \n",
    "#bu sekilde bir class icin gerekli olan tüm degerleri girerek olusturdum,birini bile eksik yazsam,hata verir\n",
    "#burda bir sinif olusturdum ve asagida,yukarida  bu sinifin icinde yer alan bir anons yap fonksiyonunu cagiracak"
   ]
  },
  {
   "cell_type": "code",
   "execution_count": null,
   "id": "002c9238",
   "metadata": {},
   "outputs": [
    {
     "data": {
      "text/plain": [
       "'TK345 sayili ank-mard ucusumuz 4 saat dakika sürecektir'"
      ]
     },
     "execution_count": 3,
     "metadata": {},
     "output_type": "execute_result"
    }
   ],
   "source": [
    "ucus3.anons_yap()   \n",
    "#bu en yukarda sinifin icinde olan fonksiyon, fonksiyonun parantezinde parametre olmadigi icin,() yazip calistiriyor\n",
    "\n",
    "\n",
    "\n",
    "#ucus 3 demek sinifin bir parcasi demek,yani siniftan bir obje diyelim\n",
    "#o objeyi sonksiyona baglamak icin nokta koydu"
   ]
  },
  {
   "cell_type": "code",
   "execution_count": 113,
   "id": "e1c8a6c8",
   "metadata": {},
   "outputs": [],
   "source": [
    "class Ucuslar():     #bir class olusturuyorum\n",
    "    havayolu = 'THY'\n",
    "\n",
    "    def __init__(self, kod, kalkis, varis, sure, kapasite, yolcu_sayisi):  #bu galiba asagida olusturacagimiz fonksiyonlarin bir taslagi\n",
    "        self.kod = kod\n",
    "        self.kalkis = kalkis\n",
    "        self.varis = varis\n",
    "        self.sure = sure\n",
    "        self.kapasite = kapasite\n",
    "        self.yolcu_sayisi = yolcu_sayisi\n",
    "\n",
    "    def __repr__(self):\n",
    "        return (f' {self.kod} sayili ucus ,sistemde olusturulmustur')    \n",
    "        \n",
    "        \n",
    "\n",
    "    def anons_yap(self):\n",
    "        return (f'{self.kod} sayili {self.kalkis}-{self.varis} ucusumuz {self.sure} dakika sürecektir')\n",
    "\n",
    "    def koltuk_sayisi_güncelle(self):\n",
    "        return f'kalan koltuk sayisi {self.kapasite - self.yolcu_sayisi} dir'\n",
    "\n",
    "    def yeni_yolcu_ekleme(self,adet):\n",
    "        if self.yolcu_sayisi + adet <= self.kapasite: \n",
    "            self.yolcu_sayisi +=adet\n",
    "            self.koltuk_sayisi_güncelle()   #fonsiyon icine fonksiyon cagirma islemi,basina self yaziyoruz   \n",
    "            print(f'{adet} adet bilet satilmistir kalan koltuk adeti {self.koltuk_sayisi_güncelle()} ')\n",
    "        else:\n",
    "            print('Yeterli koltuk sayisi yok')   \n",
    "\n",
    "    def bilet_iptali(self, iptal_adedi=3):\n",
    "        if self.yolcu_sayisi > iptal_adedi:\n",
    "            self.yolcu_sayisi -= iptal_adedi\n",
    "            self.koltuk_sayisi_güncelle()\n",
    "            print(self.koltuk_sayisi_güncelle())\n",
    "        else:\n",
    "            print('fazla bir sayi girdiniz,kontrol ediniz')    \n",
    "\n",
    "\n",
    "    \n",
    "        \n",
    "\n"
   ]
  },
  {
   "cell_type": "code",
   "execution_count": 114,
   "id": "c8d19d2e",
   "metadata": {},
   "outputs": [],
   "source": [
    "ucus4 = Ucuslar('TK345','ank','mard','4 saat', 250, 50)"
   ]
  },
  {
   "cell_type": "code",
   "execution_count": 115,
   "id": "434ccc62",
   "metadata": {},
   "outputs": [
    {
     "data": {
      "text/plain": [
       "'kalan koltuk sayisi 200 dir'"
      ]
     },
     "execution_count": 115,
     "metadata": {},
     "output_type": "execute_result"
    }
   ],
   "source": [
    "ucus4.koltuk_sayisi_güncelle()"
   ]
  },
  {
   "cell_type": "code",
   "execution_count": 116,
   "id": "6655661e",
   "metadata": {},
   "outputs": [
    {
     "name": "stdout",
     "output_type": "stream",
     "text": [
      "100 adet bilet satilmistir kalan koltuk adeti kalan koltuk sayisi 100 dir \n"
     ]
    }
   ],
   "source": [
    "ucus4.yeni_yolcu_ekleme(100)"
   ]
  },
  {
   "cell_type": "code",
   "execution_count": 117,
   "id": "01f29603",
   "metadata": {},
   "outputs": [
    {
     "data": {
      "text/plain": [
       "'kalan koltuk sayisi 100 dir'"
      ]
     },
     "execution_count": 117,
     "metadata": {},
     "output_type": "execute_result"
    }
   ],
   "source": [
    "ucus4.koltuk_sayisi_güncelle()"
   ]
  },
  {
   "cell_type": "code",
   "execution_count": 118,
   "id": "80b0d4a5",
   "metadata": {},
   "outputs": [
    {
     "name": "stdout",
     "output_type": "stream",
     "text": [
      "5 adet bilet satilmistir kalan koltuk adeti kalan koltuk sayisi 95 dir \n"
     ]
    }
   ],
   "source": [
    "ucus4.yeni_yolcu_ekleme(5)    #klaslarda en son yaptigin islemden devam eder,bir avantajdir bu"
   ]
  },
  {
   "cell_type": "code",
   "execution_count": 119,
   "id": "31e70e7f",
   "metadata": {},
   "outputs": [
    {
     "name": "stdout",
     "output_type": "stream",
     "text": [
      "fazla bir sayi girdiniz,kontrol ediniz\n"
     ]
    }
   ],
   "source": [
    "ucus4.bilet_iptali(200)  #iptaal edildigi icin,bir pat satira göre 5 artti"
   ]
  },
  {
   "cell_type": "markdown",
   "id": "d2b68121",
   "metadata": {},
   "source": [
    "# Dunder Method(Double under Score)   __init__ sag ve solunda iki alt tire olan fonksiyonlar"
   ]
  },
  {
   "cell_type": "code",
   "execution_count": 120,
   "id": "7ed7ffd9",
   "metadata": {},
   "outputs": [
    {
     "data": {
      "text/plain": [
       "['kod',\n",
       " 'kalkis',\n",
       " 'varis',\n",
       " 'sure',\n",
       " 'kapasite',\n",
       " 'yolcu_sayisi',\n",
       " '__module__',\n",
       " 'havayolu',\n",
       " '__init__',\n",
       " '__repr__',\n",
       " 'anons_yap',\n",
       " 'koltuk_sayisi_güncelle',\n",
       " 'yeni_yolcu_ekleme',\n",
       " 'bilet_iptali',\n",
       " '__dict__',\n",
       " '__weakref__',\n",
       " '__doc__',\n",
       " '__hash__',\n",
       " '__str__',\n",
       " '__getattribute__',\n",
       " '__setattr__',\n",
       " '__delattr__',\n",
       " '__lt__',\n",
       " '__le__',\n",
       " '__eq__',\n",
       " '__ne__',\n",
       " '__gt__',\n",
       " '__ge__',\n",
       " '__new__',\n",
       " '__reduce_ex__',\n",
       " '__reduce__',\n",
       " '__subclasshook__',\n",
       " '__init_subclass__',\n",
       " '__format__',\n",
       " '__sizeof__',\n",
       " '__dir__',\n",
       " '__class__']"
      ]
     },
     "execution_count": 120,
     "metadata": {},
     "output_type": "execute_result"
    }
   ],
   "source": [
    "ucus4.__dir__()     #burdada dunder methodlar var"
   ]
  },
  {
   "cell_type": "markdown",
   "id": "7322c947",
   "metadata": {},
   "source": []
  },
  {
   "cell_type": "code",
   "execution_count": 121,
   "id": "0efda256",
   "metadata": {},
   "outputs": [
    {
     "data": {
      "text/plain": [
       "<__main__.Ucuslar at 0x105fbf070>"
      ]
     },
     "execution_count": 121,
     "metadata": {},
     "output_type": "execute_result"
    }
   ],
   "source": [
    "ucus3  #bunun böyle gelmemesi icin Clas icine _-repr__ methodu eklendi"
   ]
  },
  {
   "cell_type": "code",
   "execution_count": 122,
   "id": "17cd57db",
   "metadata": {},
   "outputs": [
    {
     "data": {
      "text/plain": [
       " TK345 sayili ucus ,sistemde olusturulmustur"
      ]
     },
     "execution_count": 122,
     "metadata": {},
     "output_type": "execute_result"
    }
   ],
   "source": [
    "ucus4"
   ]
  },
  {
   "cell_type": "code",
   "execution_count": null,
   "id": "6a437a12",
   "metadata": {},
   "outputs": [],
   "source": []
  },
  {
   "cell_type": "markdown",
   "id": "09be6e39",
   "metadata": {},
   "source": [
    "# Super class olusturmak"
   ]
  },
  {
   "cell_type": "code",
   "execution_count": 176,
   "id": "e91022a0",
   "metadata": {},
   "outputs": [],
   "source": [
    "class Seyahat():\n",
    "    def __init__(self, kalkis, varis):\n",
    "        self.kalkis = kalkis\n",
    "        self.varis = varis\n",
    "\n",
    "    def anons(self):\n",
    "        print(f'{self.kalkis}-{self.varis} seyahatine hosgeldiniz')    \n",
    "\n",
    "class Otobus(Seyahat):\n",
    "    def __init__(self, mola_duraklari,kalkis,varis):\n",
    "        Seyahat.__init__(self,kalkis, varis)\n",
    "        self.mola_duraklari = mola_duraklari\n",
    "        self.kalkis = kalkis\n",
    "        self.varis = varis\n",
    "\n",
    "    def mola_duraklari(self,mola_duraklari):\n",
    "        print(f'mola yerlerimiz {self.mola_duraklari} sehirlerinde olacaktir')    \n",
    "    \n",
    "        "
   ]
  },
  {
   "cell_type": "code",
   "execution_count": 177,
   "id": "252aa1f1",
   "metadata": {},
   "outputs": [],
   "source": [
    "seyahat1 = Seyahat('ANT','IZM')"
   ]
  },
  {
   "cell_type": "code",
   "execution_count": 178,
   "id": "09175b31",
   "metadata": {},
   "outputs": [
    {
     "data": {
      "text/plain": [
       "'ANT'"
      ]
     },
     "execution_count": 178,
     "metadata": {},
     "output_type": "execute_result"
    }
   ],
   "source": [
    "seyahat1.kalkis"
   ]
  },
  {
   "cell_type": "code",
   "execution_count": 179,
   "id": "523b86fd",
   "metadata": {},
   "outputs": [
    {
     "name": "stdout",
     "output_type": "stream",
     "text": [
      "ANT-IZM seyahatine hosgeldiniz\n"
     ]
    }
   ],
   "source": [
    "seyahat1.anons()"
   ]
  },
  {
   "cell_type": "code",
   "execution_count": 185,
   "id": "206e6bcf",
   "metadata": {},
   "outputs": [],
   "source": [
    "oto1 = Otobus('ANT-IZM','IST','ANK')"
   ]
  },
  {
   "cell_type": "code",
   "execution_count": 186,
   "id": "becda2a2",
   "metadata": {},
   "outputs": [
    {
     "data": {
      "text/plain": [
       "'IST'"
      ]
     },
     "execution_count": 186,
     "metadata": {},
     "output_type": "execute_result"
    }
   ],
   "source": [
    "oto1.kalkis"
   ]
  },
  {
   "cell_type": "code",
   "execution_count": 191,
   "id": "477b432a",
   "metadata": {},
   "outputs": [
    {
     "data": {
      "text/plain": [
       "'ANT-IZM'"
      ]
     },
     "execution_count": 191,
     "metadata": {},
     "output_type": "execute_result"
    }
   ],
   "source": [
    "oto1.mola_duraklari"
   ]
  },
  {
   "cell_type": "code",
   "execution_count": 187,
   "id": "ab13f4b0",
   "metadata": {},
   "outputs": [
    {
     "name": "stdout",
     "output_type": "stream",
     "text": [
      "IST-ANK seyahatine hosgeldiniz\n"
     ]
    }
   ],
   "source": [
    "oto1.anons()"
   ]
  },
  {
   "cell_type": "code",
   "execution_count": 192,
   "id": "3bfa7cdb",
   "metadata": {},
   "outputs": [
    {
     "data": {
      "text/plain": [
       "'ANT-IZM'"
      ]
     },
     "execution_count": 192,
     "metadata": {},
     "output_type": "execute_result"
    }
   ],
   "source": [
    "oto1.mola_duraklari"
   ]
  },
  {
   "cell_type": "code",
   "execution_count": null,
   "id": "3a756d77",
   "metadata": {},
   "outputs": [],
   "source": []
  },
  {
   "cell_type": "code",
   "execution_count": null,
   "id": "ac8e50c1",
   "metadata": {},
   "outputs": [],
   "source": []
  }
 ],
 "metadata": {
  "interpreter": {
   "hash": "31f2aee4e71d21fbe5cf8b01ff0e069b9275f58929596ceb00d14d90e3e16cd6"
  },
  "kernelspec": {
   "display_name": "Python 3.8.9 64-bit",
   "language": "python",
   "name": "python3"
  },
  "language_info": {
   "codemirror_mode": {
    "name": "ipython",
    "version": 3
   },
   "file_extension": ".py",
   "mimetype": "text/x-python",
   "name": "python",
   "nbconvert_exporter": "python",
   "pygments_lexer": "ipython3",
   "version": "3.8.9"
  }
 },
 "nbformat": 4,
 "nbformat_minor": 5
}
