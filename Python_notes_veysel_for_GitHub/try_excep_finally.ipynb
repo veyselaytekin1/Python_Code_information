{
 "cells": [
  {
   "cell_type": "markdown",
   "metadata": {},
   "source": [
    "# try , except, Finally komutlari"
   ]
  },
  {
   "cell_type": "code",
   "execution_count": null,
   "metadata": {},
   "outputs": [],
   "source": [
    "# bu konunun mantigi normalde bir if yapisi yaptigimizda else: ile olablecek baska durumlari yazabiliyoruz, \n",
    "# ama bunu bu yazim sekliyle daha büyük kodlar yazarken kullanabiliyoruz\n",
    "\n",
    "\n",
    "\n",
    "# try : senin yapmasini istedigin islem yani if ile ayni\n",
    "\n",
    "# except : ise eger senin istedigin olmaz ise yapacagi islem veya döndürecegi cevap\n",
    "\n",
    "# finally : bu ise try da calissa, except'e calissa calisiyor ve ciktisini veriyor"
   ]
  },
  {
   "cell_type": "code",
   "execution_count": 3,
   "metadata": {},
   "outputs": [],
   "source": [
    "def bir_tamsayiya_cevir():\n",
    "    sayi = input('Bir sayi giriniz: ')\n",
    "    print(f'{sayi} nin yuvarlanmis hali {round(float(sayi))} dir')   #float yazmamin sebebi inputtan string tipinde veri gleiyor"
   ]
  },
  {
   "cell_type": "code",
   "execution_count": 7,
   "metadata": {},
   "outputs": [
    {
     "name": "stdout",
     "output_type": "stream",
     "text": [
      "4.8 nin yuvarlanmis hali 5 dir\n"
     ]
    }
   ],
   "source": [
    "bir_tamsayiya_cevir()"
   ]
  },
  {
   "cell_type": "code",
   "execution_count": null,
   "metadata": {},
   "outputs": [],
   "source": []
  },
  {
   "cell_type": "code",
   "execution_count": null,
   "metadata": {},
   "outputs": [],
   "source": []
  },
  {
   "cell_type": "code",
   "execution_count": null,
   "metadata": {},
   "outputs": [],
   "source": []
  },
  {
   "cell_type": "code",
   "execution_count": 15,
   "metadata": {},
   "outputs": [],
   "source": [
    "def bir_tamsayiya_cevir_try():\n",
    "    sayi = input('Bir sayi girin: ')\n",
    "\n",
    "    try:\n",
    "        print(f'{sayi} sayisinin yavarlanmis hali {round(float(sayi))}')\n",
    "    except:\n",
    "        print(f'Girdiginiz {sayi} ile yuvarlama islemi yapamiyoruz')    \n",
    "    \n"
   ]
  },
  {
   "cell_type": "code",
   "execution_count": 16,
   "metadata": {},
   "outputs": [
    {
     "name": "stdout",
     "output_type": "stream",
     "text": [
      "Girdiginiz h ile yuvarlama islemi yapamiyoruz\n"
     ]
    }
   ],
   "source": [
    "bir_tamsayiya_cevir_try()"
   ]
  },
  {
   "cell_type": "code",
   "execution_count": null,
   "metadata": {},
   "outputs": [],
   "source": []
  },
  {
   "cell_type": "code",
   "execution_count": null,
   "metadata": {},
   "outputs": [],
   "source": []
  },
  {
   "cell_type": "code",
   "execution_count": 20,
   "metadata": {},
   "outputs": [],
   "source": [
    "def bir_tamsayiya_cevir_finally():\n",
    "    sayi = input('Bir sayi girin: ')\n",
    "\n",
    "    try:\n",
    "        print(f'{sayi} sayisinin yavarlanmis hali {round(float(sayi))}')\n",
    "        status = 'basarili'\n",
    "    except:\n",
    "        print(f'Girdiginiz {sayi} ile yuvarlama islemi yapamiyoruz') \n",
    "        status = 'basarisiz' \n",
    "    finally:\n",
    "        print(f'{sayi} iafasenin tamsayiya cevirme islemi {status} oldu')    \n",
    "        # bu finally hem try calisinca yaziliyor hemde except calisinca yazdiriliyor"
   ]
  },
  {
   "cell_type": "code",
   "execution_count": 21,
   "metadata": {},
   "outputs": [
    {
     "name": "stdout",
     "output_type": "stream",
     "text": [
      "Girdiginiz h ile yuvarlama islemi yapamiyoruz\n",
      "h iafasenin tamsayiya cevirme islemi basarisiz oldu\n"
     ]
    }
   ],
   "source": [
    "bir_tamsayiya_cevir_finally()"
   ]
  },
  {
   "cell_type": "code",
   "execution_count": null,
   "metadata": {},
   "outputs": [],
   "source": []
  },
  {
   "cell_type": "code",
   "execution_count": 1,
   "metadata": {},
   "outputs": [],
   "source": [
    "def bir_tamsayiya_cevir_döngülü():\n",
    "    \n",
    "\n",
    "    while True:\n",
    "        sayi = input('Bir sayi girin: ')   # ben bunu while disina yazmistim ve döngü hic durmadan devam etti \n",
    "        try:\n",
    "            print(f'{sayi} sayisinin yavarlanmis hali {round(float(sayi))}')\n",
    "            status = 'basarili'\n",
    "            break\n",
    "        except:\n",
    "            print(f'Girdiginiz {sayi} ile yuvarlama islemi yapamiyoruz') \n",
    "            status = 'basarisiz' \n",
    "            pass\n",
    "        finally:\n",
    "            print(f'{sayi} iafasenin tamsayiya cevirme islemi {status} oldu')    \n",
    "            # bu finally hem try calisinca yaziliyor hemde except calisinca yazdiriliyor"
   ]
  },
  {
   "cell_type": "code",
   "execution_count": 2,
   "metadata": {},
   "outputs": [
    {
     "name": "stdout",
     "output_type": "stream",
     "text": [
      "Girdiginiz f ile yuvarlama islemi yapamiyoruz\n",
      "f iafasenin tamsayiya cevirme islemi basarisiz oldu\n",
      "Girdiginiz g ile yuvarlama islemi yapamiyoruz\n",
      "g iafasenin tamsayiya cevirme islemi basarisiz oldu\n",
      "5 sayisinin yavarlanmis hali 5\n",
      "5 iafasenin tamsayiya cevirme islemi basarili oldu\n"
     ]
    }
   ],
   "source": [
    "bir_tamsayiya_cevir_döngülü()"
   ]
  },
  {
   "cell_type": "code",
   "execution_count": null,
   "metadata": {},
   "outputs": [],
   "source": []
  },
  {
   "cell_type": "markdown",
   "metadata": {},
   "source": [
    "----"
   ]
  },
  {
   "cell_type": "markdown",
   "metadata": {},
   "source": [
    "# Hata tiplerine örnekler"
   ]
  },
  {
   "cell_type": "markdown",
   "metadata": {},
   "source": [
    "Type hatasi"
   ]
  },
  {
   "cell_type": "code",
   "execution_count": 3,
   "metadata": {},
   "outputs": [
    {
     "ename": "TypeError",
     "evalue": "unsupported operand type(s) for +: 'int' and 'str'",
     "output_type": "error",
     "traceback": [
      "\u001b[0;31m---------------------------------------------------------------------------\u001b[0m",
      "\u001b[0;31mTypeError\u001b[0m                                 Traceback (most recent call last)",
      "\u001b[0;32m/var/folders/_9/ph76r20j4ss1dpbdh33_j0fm0000gn/T/ipykernel_3855/3709185651.py\u001b[0m in \u001b[0;36m<module>\u001b[0;34m\u001b[0m\n\u001b[0;32m----> 1\u001b[0;31m \u001b[0;36m5\u001b[0m \u001b[0;34m+\u001b[0m \u001b[0;34m'a'\u001b[0m\u001b[0;34m\u001b[0m\u001b[0;34m\u001b[0m\u001b[0m\n\u001b[0m",
      "\u001b[0;31mTypeError\u001b[0m: unsupported operand type(s) for +: 'int' and 'str'"
     ]
    }
   ],
   "source": [
    "5 + 'a'\n",
    "\n",
    "# burda bir TypeError var"
   ]
  },
  {
   "cell_type": "code",
   "execution_count": null,
   "metadata": {},
   "outputs": [],
   "source": [
    "# 1-istersen genel bir hata kesici ile kesebilirsin ama genel hatalari gördügünde neyden dolayi kaynaklandigini tam bilemeyebiliriz \n",
    "#  2- bunun icin kücük kücük hata tipleri icin denersen onlarin ciktilarina göre cözüm bulabiliriz"
   ]
  },
  {
   "cell_type": "code",
   "execution_count": 7,
   "metadata": {},
   "outputs": [],
   "source": [
    "def ignore_type_error():\n",
    "    try:\n",
    "        print(5 + 'a')\n",
    "    except TypeError:\n",
    "        print('Bir string ve bir sayi toplanamiyor Type Eroor atasi')\n",
    "    except IndexError:\n",
    "        print('index hatasi var')    "
   ]
  },
  {
   "cell_type": "code",
   "execution_count": 8,
   "metadata": {},
   "outputs": [
    {
     "name": "stdout",
     "output_type": "stream",
     "text": [
      "Bir string ve bir sayi toplanamiyor Type Eroor atasi\n"
     ]
    }
   ],
   "source": [
    "ignore_type_error()\n",
    "\n",
    "#normalde burda bir hata almamiz gerekiyordu ama olmadi, ben excepti yazmasam büyük ihtimal bir hata alacaktim"
   ]
  },
  {
   "cell_type": "markdown",
   "metadata": {},
   "source": [
    "----"
   ]
  },
  {
   "cell_type": "markdown",
   "metadata": {},
   "source": [
    "Index Hatasi"
   ]
  },
  {
   "cell_type": "code",
   "execution_count": 9,
   "metadata": {},
   "outputs": [
    {
     "ename": "IndexError",
     "evalue": "list index out of range",
     "output_type": "error",
     "traceback": [
      "\u001b[0;31m---------------------------------------------------------------------------\u001b[0m",
      "\u001b[0;31mIndexError\u001b[0m                                Traceback (most recent call last)",
      "\u001b[0;32m/var/folders/_9/ph76r20j4ss1dpbdh33_j0fm0000gn/T/ipykernel_3855/2439147536.py\u001b[0m in \u001b[0;36m<module>\u001b[0;34m\u001b[0m\n\u001b[1;32m      1\u001b[0m \u001b[0mlistemiz\u001b[0m \u001b[0;34m=\u001b[0m \u001b[0;34m[\u001b[0m\u001b[0;36m1\u001b[0m\u001b[0;34m,\u001b[0m\u001b[0;36m3\u001b[0m\u001b[0;34m]\u001b[0m\u001b[0;34m\u001b[0m\u001b[0;34m\u001b[0m\u001b[0m\n\u001b[1;32m      2\u001b[0m \u001b[0;34m\u001b[0m\u001b[0m\n\u001b[0;32m----> 3\u001b[0;31m \u001b[0mlistemiz\u001b[0m\u001b[0;34m[\u001b[0m\u001b[0;36m4\u001b[0m\u001b[0;34m]\u001b[0m\u001b[0;34m\u001b[0m\u001b[0;34m\u001b[0m\u001b[0m\n\u001b[0m",
      "\u001b[0;31mIndexError\u001b[0m: list index out of range"
     ]
    }
   ],
   "source": [
    "listemiz = [1,3]\n",
    "\n",
    "listemiz[4]"
   ]
  },
  {
   "cell_type": "code",
   "execution_count": 13,
   "metadata": {},
   "outputs": [
    {
     "name": "stdout",
     "output_type": "stream",
     "text": [
      "Maalesef istediginiz sayi aralik disinda\n"
     ]
    }
   ],
   "source": [
    "try:\n",
    "    listemiz = ['a','r','t']\n",
    "    print(listemiz[4])\n",
    "except IndexError:\n",
    "    print('Maalesef istediginiz sayi aralik disinda')    \n",
    "\n",
    "#  bu sekilde hem  hem sadece try olarak calistirabiliriz hemde hata adinin adini yazarakta yapabiliriz    \n"
   ]
  },
  {
   "cell_type": "code",
   "execution_count": 14,
   "metadata": {},
   "outputs": [
    {
     "ename": "IndexError",
     "evalue": "list index out of range",
     "output_type": "error",
     "traceback": [
      "\u001b[0;31m---------------------------------------------------------------------------\u001b[0m",
      "\u001b[0;31mIndexError\u001b[0m                                Traceback (most recent call last)",
      "\u001b[0;32m/var/folders/_9/ph76r20j4ss1dpbdh33_j0fm0000gn/T/ipykernel_3855/2657290117.py\u001b[0m in \u001b[0;36m<module>\u001b[0;34m\u001b[0m\n\u001b[1;32m      1\u001b[0m \u001b[0;32mtry\u001b[0m\u001b[0;34m:\u001b[0m\u001b[0;34m\u001b[0m\u001b[0;34m\u001b[0m\u001b[0m\n\u001b[1;32m      2\u001b[0m     \u001b[0mlistemiz\u001b[0m \u001b[0;34m=\u001b[0m \u001b[0;34m[\u001b[0m\u001b[0;34m'a'\u001b[0m\u001b[0;34m,\u001b[0m\u001b[0;34m'r'\u001b[0m\u001b[0;34m,\u001b[0m\u001b[0;34m't'\u001b[0m\u001b[0;34m]\u001b[0m\u001b[0;34m\u001b[0m\u001b[0;34m\u001b[0m\u001b[0m\n\u001b[0;32m----> 3\u001b[0;31m     \u001b[0mprint\u001b[0m\u001b[0;34m(\u001b[0m\u001b[0mlistemiz\u001b[0m\u001b[0;34m[\u001b[0m\u001b[0;36m4\u001b[0m\u001b[0;34m]\u001b[0m\u001b[0;34m)\u001b[0m\u001b[0;34m\u001b[0m\u001b[0;34m\u001b[0m\u001b[0m\n\u001b[0m\u001b[1;32m      4\u001b[0m \u001b[0;32mexcept\u001b[0m \u001b[0mTypeError\u001b[0m\u001b[0;34m:\u001b[0m\u001b[0;34m\u001b[0m\u001b[0;34m\u001b[0m\u001b[0m\n\u001b[1;32m      5\u001b[0m     \u001b[0mprint\u001b[0m\u001b[0;34m(\u001b[0m\u001b[0;34m'Maalesef istediginiz sayi aralik disinda'\u001b[0m\u001b[0;34m)\u001b[0m\u001b[0;34m\u001b[0m\u001b[0;34m\u001b[0m\u001b[0m\n",
      "\u001b[0;31mIndexError\u001b[0m: list index out of range"
     ]
    }
   ],
   "source": [
    "try:\n",
    "    listemiz = ['a','r','t']\n",
    "    print(listemiz[4])\n",
    "except TypeError:\n",
    "    print('Maalesef istediginiz sayi aralik disinda')\n",
    "\n",
    "\n",
    " # burda hata türünü yanlis girdigim icin calismadi, ama ben except: yazip bos biraksaydim cok genel bir kural olurdu ve bunuda kapsayaagi icin hata almazdim   "
   ]
  },
  {
   "cell_type": "code",
   "execution_count": null,
   "metadata": {},
   "outputs": [],
   "source": []
  },
  {
   "cell_type": "code",
   "execution_count": null,
   "metadata": {},
   "outputs": [],
   "source": []
  },
  {
   "cell_type": "markdown",
   "metadata": {},
   "source": [
    "----"
   ]
  },
  {
   "cell_type": "markdown",
   "metadata": {},
   "source": [
    "Key Error"
   ]
  },
  {
   "cell_type": "code",
   "execution_count": 15,
   "metadata": {},
   "outputs": [
    {
     "name": "stdout",
     "output_type": "stream",
     "text": [
      "Istedigin eleman dict te yok\n"
     ]
    }
   ],
   "source": [
    "vatandas = {'Ad':'Veysel',\n",
    "            'TC_NO': 1234\n",
    "            }\n",
    "\n",
    "\n",
    "try:\n",
    "    vatandas['Pass_no']\n",
    "except KeyError:\n",
    "    print('Istedigin eleman dict te yok')   \n",
    "except :\n",
    "    print('Kod düzgün calismiyor')     # bunu yazmamizin sebebi kodun calismasi durmasin diye koydugum genel bir ofade\n",
    "\n",
    "          "
   ]
  },
  {
   "cell_type": "code",
   "execution_count": 16,
   "metadata": {},
   "outputs": [
    {
     "name": "stdout",
     "output_type": "stream",
     "text": [
      "Kod düzgün calismiyor\n"
     ]
    }
   ],
   "source": [
    "vatandas = {'Ad':'Veysel',\n",
    "            'TC_NO': 1234\n",
    "            }\n",
    "\n",
    "\n",
    "try:\n",
    "    d\n",
    "except KeyError:\n",
    "    print('Istedigin eleman dict te yok')   \n",
    "except :\n",
    "    print('Kod düzgün calismiyor')     # bunu yazmamizin sebebi kodun calismasi durmasin diye koydugum genel bir ofade\n",
    "\n",
    "\n",
    "\n",
    "# burda mesela ben try: yazan yere d yazdim ve bilgisayarin beklemedigi birsey ama onada genel bir hata raporu verdi    "
   ]
  },
  {
   "cell_type": "code",
   "execution_count": null,
   "metadata": {},
   "outputs": [],
   "source": []
  }
 ],
 "metadata": {
  "kernelspec": {
   "display_name": "Python 3.9.13 ('base')",
   "language": "python",
   "name": "python3"
  },
  "language_info": {
   "codemirror_mode": {
    "name": "ipython",
    "version": 3
   },
   "file_extension": ".py",
   "mimetype": "text/x-python",
   "name": "python",
   "nbconvert_exporter": "python",
   "pygments_lexer": "ipython3",
   "version": "3.9.13"
  },
  "orig_nbformat": 4,
  "vscode": {
   "interpreter": {
    "hash": "f7c19a79b9aeb8b1cc18eda6778f62d726c8b19540b84d23ad80114035b2e0b4"
   }
  }
 },
 "nbformat": 4,
 "nbformat_minor": 2
}
