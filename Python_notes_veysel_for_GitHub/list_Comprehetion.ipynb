{
 "cells": [
  {
   "cell_type": "code",
   "execution_count": 3,
   "metadata": {},
   "outputs": [],
   "source": [
    "fruits = ['banana', 'apple','strawberies']"
   ]
  },
  {
   "cell_type": "code",
   "execution_count": 5,
   "metadata": {},
   "outputs": [
    {
     "name": "stdout",
     "output_type": "stream",
     "text": [
      "banana\n",
      "apple\n",
      "strawberies\n"
     ]
    },
    {
     "data": {
      "text/plain": [
       "[None, None, None]"
      ]
     },
     "execution_count": 5,
     "metadata": {},
     "output_type": "execute_result"
    }
   ],
   "source": [
    "[print(i) for i in fruits]\n",
    "\n",
    "#önce yapacagi islemi söylüyorsun sonra is veya for döngüsünü tamamliyorsun"
   ]
  },
  {
   "cell_type": "code",
   "execution_count": 6,
   "metadata": {},
   "outputs": [
    {
     "name": "stdout",
     "output_type": "stream",
     "text": [
      "banana\n",
      "apple\n",
      "strawberies\n"
     ]
    }
   ],
   "source": [
    "for i in fruits:\n",
    "    print(i)"
   ]
  },
  {
   "cell_type": "code",
   "execution_count": null,
   "metadata": {},
   "outputs": [],
   "source": []
  },
  {
   "cell_type": "code",
   "execution_count": null,
   "metadata": {},
   "outputs": [],
   "source": []
  },
  {
   "cell_type": "code",
   "execution_count": null,
   "metadata": {},
   "outputs": [],
   "source": []
  },
  {
   "cell_type": "markdown",
   "metadata": {},
   "source": [
    "----"
   ]
  },
  {
   "cell_type": "code",
   "execution_count": null,
   "metadata": {},
   "outputs": [],
   "source": []
  },
  {
   "cell_type": "code",
   "execution_count": null,
   "metadata": {},
   "outputs": [],
   "source": []
  },
  {
   "cell_type": "code",
   "execution_count": 9,
   "metadata": {},
   "outputs": [
    {
     "name": "stdout",
     "output_type": "stream",
     "text": [
      "['BANANA', 'APPLE', 'STRAWBERIES']\n"
     ]
    }
   ],
   "source": [
    "fruits = ['banana', 'apple','strawberies']\n",
    "\n",
    "new_fruits = []\n",
    "\n",
    "for fruit in fruits:\n",
    "    fruit = fruit.upper()\n",
    "\n",
    "    new_fruits.append(fruit)\n",
    "\n",
    "fruits = new_fruits   #for disinda yazdi\n",
    "\n",
    "print(fruits)    "
   ]
  },
  {
   "cell_type": "code",
   "execution_count": null,
   "metadata": {},
   "outputs": [],
   "source": []
  },
  {
   "cell_type": "code",
   "execution_count": null,
   "metadata": {},
   "outputs": [],
   "source": []
  },
  {
   "cell_type": "markdown",
   "metadata": {},
   "source": [
    "----"
   ]
  },
  {
   "cell_type": "code",
   "execution_count": 18,
   "metadata": {},
   "outputs": [
    {
     "name": "stdout",
     "output_type": "stream",
     "text": [
      "BANANA\n",
      "APPLE\n",
      "STRAWBERIES\n"
     ]
    }
   ],
   "source": [
    "fruits = ['banana', 'apple','strawberies']\n",
    "\n",
    "for i in fruits:\n",
    "    print(i.upper())\n",
    "\n",
    "\n",
    "#aslinda bu sekilde de kisa yazildi ama ciktilar bir liste halinde yazilmadi,\n",
    "#asagida ise daha kisa ve liste halinde yazildi\n"
   ]
  },
  {
   "cell_type": "code",
   "execution_count": null,
   "metadata": {},
   "outputs": [],
   "source": []
  },
  {
   "cell_type": "code",
   "execution_count": 12,
   "metadata": {},
   "outputs": [
    {
     "name": "stdout",
     "output_type": "stream",
     "text": [
      "['BANANA', 'APPLE', 'STRAWBERIES']\n"
     ]
    }
   ],
   "source": [
    "fruits = ['banana', 'apple','strawberies']\n",
    "\n",
    "fruits = [fruit.upper() for fruit in fruits]  # burda aslinda bir yukarida oldugu gibi yeni bir liste yapmamiz gerekiyordu \n",
    "                                              # ama bu yeni listeyi list comprehetion bizim icin otomatikmen yapti\n",
    "                                              # aslinda sasirdim biraz , cünkü ilk liste ile sonraki ayni isimde oldu\n",
    "                                              # ilkinde bu iki ismi new_fruit ile fruits esitlememiz gerkiyordu burda ise kendisi yapti\n",
    "\n",
    "print(fruits)\n",
    "\n",
    "\n",
    "# "
   ]
  },
  {
   "cell_type": "code",
   "execution_count": 17,
   "metadata": {},
   "outputs": [
    {
     "data": {
      "text/plain": [
       "['BANANA', 'APPLE', 'STRAWBERIES']"
      ]
     },
     "execution_count": 17,
     "metadata": {},
     "output_type": "execute_result"
    }
   ],
   "source": [
    "[fruit.upper() for fruit in fruits]\n",
    "\n",
    "#galiba liste icinde yazildigi icin, yine liste icinde oluyor\n",
    "# yukaridaki örnekte  [print(i.upper())] bu sekilde yapmama ragmen liste icine almadi"
   ]
  },
  {
   "cell_type": "code",
   "execution_count": null,
   "metadata": {},
   "outputs": [],
   "source": []
  },
  {
   "cell_type": "markdown",
   "metadata": {},
   "source": [
    "---"
   ]
  },
  {
   "cell_type": "code",
   "execution_count": 21,
   "metadata": {},
   "outputs": [
    {
     "name": "stdout",
     "output_type": "stream",
     "text": [
      "[0, 1, 0, 0, 0, 1, 1, 0]\n",
      "[False, True, False, False, False, True, True, False]\n"
     ]
    }
   ],
   "source": [
    "bits = [False, True, False, False, False, True, True, False]\n",
    "\n",
    "new_bits = []\n",
    "\n",
    "for bit in bits:\n",
    "    if bit == False:    # 'False' yazinca kabul etmedi, False tek basina yazilmali, eger False anlaminda olmasini istiyorsan\n",
    "        new_bits.append(0)\n",
    "    else:\n",
    "        new_bits.append(1) \n",
    "print(new_bits)     \n",
    "print(bits)      "
   ]
  },
  {
   "cell_type": "code",
   "execution_count": 24,
   "metadata": {},
   "outputs": [
    {
     "name": "stdout",
     "output_type": "stream",
     "text": [
      "[0, 1, 0, 0, 0, 1, 1, 0]\n"
     ]
    }
   ],
   "source": [
    "bits = [False, True, False, False, False, True, True, False]\n",
    "\n",
    "\n",
    "bits  = [0 if bit == False else 1 for bit in bits]\n",
    "print(bits)"
   ]
  },
  {
   "cell_type": "markdown",
   "metadata": {},
   "source": [
    "----"
   ]
  },
  {
   "cell_type": "code",
   "execution_count": null,
   "metadata": {},
   "outputs": [],
   "source": []
  },
  {
   "cell_type": "code",
   "execution_count": 28,
   "metadata": {},
   "outputs": [
    {
     "name": "stdout",
     "output_type": "stream",
     "text": [
      " My Name Is Veysel\n"
     ]
    }
   ],
   "source": [
    "my_string = 'MyNameIsVeysel'\n",
    "\n",
    "my_string = ''.join([i if i.islower() else ' ' + i for i in my_string])\n",
    "\n",
    "print(my_string)"
   ]
  },
  {
   "cell_type": "code",
   "execution_count": 7,
   "metadata": {},
   "outputs": [
    {
     "data": {
      "text/plain": [
       "' M -y - N -a -m -e - I -s - V -e -y -s -e -l'"
      ]
     },
     "execution_count": 7,
     "metadata": {},
     "output_type": "execute_result"
    }
   ],
   "source": [
    "my_string = 'MyNameIsVeysel'\n",
    "\n",
    "my_string = ' -'.join([i if i.islower() else ' ' + i for i in my_string])\n",
    "\n",
    "#join olan yere baska seyler koyarsan herbirine ekliyor \n",
    "\n",
    "my_string"
   ]
  },
  {
   "cell_type": "code",
   "execution_count": 33,
   "metadata": {},
   "outputs": [
    {
     "data": {
      "text/plain": [
       "['  ',\n",
       " ' M',\n",
       " 'y',\n",
       " '  ',\n",
       " ' N',\n",
       " 'a',\n",
       " 'm',\n",
       " 'e',\n",
       " '  ',\n",
       " ' I',\n",
       " 's',\n",
       " '  ',\n",
       " ' V',\n",
       " 'e',\n",
       " 'y',\n",
       " 's',\n",
       " 'e',\n",
       " 'l']"
      ]
     },
     "execution_count": 33,
     "metadata": {},
     "output_type": "execute_result"
    }
   ],
   "source": [
    "[i if i.islower() else ' ' + i for i in my_string]"
   ]
  },
  {
   "cell_type": "code",
   "execution_count": 43,
   "metadata": {},
   "outputs": [
    {
     "name": "stdout",
     "output_type": "stream",
     "text": [
      "[' ', 'M', 'y', ' ', 'N', 'a', 'm', 'e', ' ', 'I', 's', ' ', 'V', 'e', 'y', 's', 'e', 'l']\n"
     ]
    }
   ],
   "source": [
    "my_listem = []\n",
    "\n",
    "for i in my_string:\n",
    "    if i.islower():\n",
    "        my_listem.append(i)\n",
    "\n",
    "        #print(''.join(i))\n",
    "    else:\n",
    "        my_listem.append(' '.join(i))\n",
    "print(my_listem)        "
   ]
  },
  {
   "cell_type": "code",
   "execution_count": null,
   "metadata": {},
   "outputs": [],
   "source": []
  },
  {
   "cell_type": "code",
   "execution_count": null,
   "metadata": {},
   "outputs": [],
   "source": []
  },
  {
   "cell_type": "code",
   "execution_count": null,
   "metadata": {},
   "outputs": [],
   "source": []
  }
 ],
 "metadata": {
  "kernelspec": {
   "display_name": "Python 3.9.13 ('base')",
   "language": "python",
   "name": "python3"
  },
  "language_info": {
   "codemirror_mode": {
    "name": "ipython",
    "version": 3
   },
   "file_extension": ".py",
   "mimetype": "text/x-python",
   "name": "python",
   "nbconvert_exporter": "python",
   "pygments_lexer": "ipython3",
   "version": "3.9.13"
  },
  "orig_nbformat": 4,
  "vscode": {
   "interpreter": {
    "hash": "f7c19a79b9aeb8b1cc18eda6778f62d726c8b19540b84d23ad80114035b2e0b4"
   }
  }
 },
 "nbformat": 4,
 "nbformat_minor": 2
}
