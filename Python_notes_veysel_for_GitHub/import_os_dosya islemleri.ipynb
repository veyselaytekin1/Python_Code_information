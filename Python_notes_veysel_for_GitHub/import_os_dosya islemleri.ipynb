{
 "cells": [
  {
   "cell_type": "markdown",
   "id": "e5d7b2e0-cad1-422f-b7c3-a9f8a3c18491",
   "metadata": {},
   "source": [
    "# Hali hazırda python nun içinde var olan ama özel olarak yükleme yapılarak kullanılan kütüphaneler."
   ]
  },
  {
   "cell_type": "markdown",
   "id": "415a550d-4aa2-4826-9f83-57994bbc4171",
   "metadata": {},
   "source": [
    "## Magic Commands"
   ]
  },
  {
   "cell_type": "code",
   "execution_count": 1,
   "id": "63855577-4967-4512-bedd-63dda69434b1",
   "metadata": {},
   "outputs": [
    {
     "name": "stdout",
     "output_type": "stream",
     "text": [
      "dosya ve klasör modulleri.ipynb\n"
     ]
    }
   ],
   "source": [
    "# ls komutu listeleme anlamına geliyor. bu komutlar jupiter notebooka özel.\n",
    "%ls\n",
    "# şu anda bulunduğumuz klasörün içeriğini gösteriyor."
   ]
  },
  {
   "cell_type": "code",
   "execution_count": 2,
   "id": "7e55997c-9a47-4f56-9317-8fbafc17eab2",
   "metadata": {},
   "outputs": [
    {
     "data": {
      "text/plain": [
       "'/Users/yusufkenanbayrak/Desktop/DATASCIENCE/yakın kampüs/Dosya ve Klasör Modülleri'"
      ]
     },
     "execution_count": 2,
     "metadata": {},
     "output_type": "execute_result"
    }
   ],
   "source": [
    "# dosyanın adresini veren komutlar. bu komutlar jupiter notebooka özel.\n",
    "%pwd"
   ]
  },
  {
   "cell_type": "markdown",
   "id": "571b23f9-e65d-4f06-834f-cfb276153352",
   "metadata": {},
   "source": [
    "# OS modülü "
   ]
  },
  {
   "cell_type": "markdown",
   "id": "cba0e348-a3d0-408b-88d7-7122b15a68bf",
   "metadata": {},
   "source": [
    "# Yukarıda yaptığımız işlemleri bütün ide lerde kullanabileceğimiz modüller."
   ]
  },
  {
   "cell_type": "code",
   "execution_count": 4,
   "id": "f3621903-d597-4648-978a-96261fd23056",
   "metadata": {},
   "outputs": [],
   "source": [
    "import os"
   ]
  },
  {
   "cell_type": "code",
   "execution_count": 5,
   "id": "1a361cca-1afb-4f3b-885e-d4e3b0cdfd84",
   "metadata": {},
   "outputs": [
    {
     "data": {
      "text/plain": [
       "'/Users/yusufkenanbayrak/Desktop/DATASCIENCE/yakın kampüs/Dosya ve Klasör Modülleri'"
      ]
     },
     "execution_count": 5,
     "metadata": {},
     "output_type": "execute_result"
    }
   ],
   "source": [
    "# OS yazdıktan sonra tab a basınca alabilecek bütün opsiyonları görebiliriz.\n",
    "\n",
    "# derleyici default olarak eğer parantezin içine bir parametre vermezsek mevcut çalışılan konumun olduğu yeri\n",
    "# baz alıyor.\n",
    "\n",
    "#import os\n",
    "os.getcwd() #[get current working dirictory ] şuanda çalıştığımız dosyanın adresini getiriyor."
   ]
  },
  {
   "cell_type": "code",
   "execution_count": 8,
   "id": "0fd81949-b347-45b6-8d10-1ae552aac06c",
   "metadata": {},
   "outputs": [
    {
     "data": {
      "text/plain": [
       "['.ipynb_checkpoints', 'dosya ve klasör modulleri.ipynb']"
      ]
     },
     "execution_count": 8,
     "metadata": {},
     "output_type": "execute_result"
    }
   ],
   "source": [
    "os.listdir() # [listdirectory] şuanda bulunduğumuz klasörün altındaki nesneleri listeleme "
   ]
  },
  {
   "cell_type": "code",
   "execution_count": 14,
   "id": "f3cdc2d1-ffc7-46e8-9c06-aafb19f98f61",
   "metadata": {},
   "outputs": [
    {
     "data": {
      "text/plain": [
       "['.localized', 'yusufkenanbayrak', 'Shared', 'Guest']"
      ]
     },
     "execution_count": 14,
     "metadata": {},
     "output_type": "execute_result"
    }
   ],
   "source": [
    "os.listdir(\"/Users\") # parametre olarak bir dosya konumu verirsek o zaman o dosyanın içindeki nesneleri döndürüyor."
   ]
  },
  {
   "cell_type": "code",
   "execution_count": 10,
   "id": "ebacbb22-77a0-4bc1-a27b-2222eb66e355",
   "metadata": {},
   "outputs": [],
   "source": [
    "# derleyiciye default değer verilebiliyor\n",
    "# bu kod ile parantez içine bir konum belirtirsek o zaman bundan sonra konum olarak verdiğimiz lokasyon default değer olacak.\n",
    "os.chdir(\"/Users\") #[change directory]"
   ]
  },
  {
   "cell_type": "code",
   "execution_count": 11,
   "id": "e0ebd1f2-343e-4950-9146-b1bd2b189f28",
   "metadata": {},
   "outputs": [
    {
     "data": {
      "text/plain": [
       "['.localized', 'yusufkenanbayrak', 'Shared', 'Guest']"
      ]
     },
     "execution_count": 11,
     "metadata": {},
     "output_type": "execute_result"
    }
   ],
   "source": [
    "os.listdir()"
   ]
  },
  {
   "cell_type": "code",
   "execution_count": 12,
   "id": "4c2980d6-73c6-40f0-89b0-cf40e36ac642",
   "metadata": {},
   "outputs": [],
   "source": [
    "os.chdir('/Users/yusufkenanbayrak/Desktop/DATASCIENCE/yakın kampüs/Dosya ve Klasör Modülleri') "
   ]
  },
  {
   "cell_type": "code",
   "execution_count": 13,
   "id": "3f2914ad-d9de-44e6-81ac-92e0692a2efd",
   "metadata": {},
   "outputs": [
    {
     "data": {
      "text/plain": [
       "['.ipynb_checkpoints', 'dosya ve klasör modulleri.ipynb']"
      ]
     },
     "execution_count": 13,
     "metadata": {},
     "output_type": "execute_result"
    }
   ],
   "source": [
    "os.listdir()"
   ]
  },
  {
   "cell_type": "code",
   "execution_count": 19,
   "id": "d9da0176-f86e-4488-a8d6-37e10b4c57bf",
   "metadata": {},
   "outputs": [
    {
     "name": "stdout",
     "output_type": "stream",
     "text": [
      ".ipynb_checkpoints =>  yusuf\n",
      "dosya ve klasör modulleri.ipynb =>  yusuf\n"
     ]
    }
   ],
   "source": [
    "# os.listdir() komutu bir liste şeklinde döndürüyor dolayısıyla liste özelliklerini burada kullanabiliriz.\n",
    "#mesela\n",
    "\n",
    "dosyalar=os.listdir()\n",
    "for eleman in dosyalar:\n",
    "    print(eleman + \" =>  \" + \"yusuf\")"
   ]
  },
  {
   "cell_type": "markdown",
   "id": "bc57cbc7-aeea-4110-8057-33de11db96cf",
   "metadata": {},
   "source": [
    "# Yeni Eleman Oluşturma, isim değiştirme ve Silme"
   ]
  },
  {
   "cell_type": "code",
   "execution_count": 20,
   "id": "83bf8240-6aa8-40e1-8593-dc7601cfb3e3",
   "metadata": {},
   "outputs": [],
   "source": [
    "# Yeni klasör oluşdurma. ilgili dizinin sonuna /deneme_klasörü yazdık ve hemen oluşturuldu.\n",
    "\n",
    "os.mkdir('/Users/yusufkenanbayrak/Desktop/DATASCIENCE/yakın kampüs/Dosya ve Klasör Modülleri/deneme_klasörü') \n",
    "# [make directory]"
   ]
  },
  {
   "cell_type": "code",
   "execution_count": 21,
   "id": "77c1350c-936e-4063-b889-9b75a058176f",
   "metadata": {},
   "outputs": [],
   "source": [
    "# oluşturduğumuz klasörü silelim\n",
    "\n",
    "# [remove directory] komutu eğer silmeye çalıştığınız klasör içi boş ise silebilir. Eğer içinde başka şeyler varsa\n",
    "# o zaman klasörün içini boşaltmamız gerekiyor ya da os kütüphanesi değil de başka bir kütüphane kullanmak lazım.\n",
    "\n",
    "os.rmdir('/Users/yusufkenanbayrak/Desktop/DATASCIENCE/yakın kampüs/Dosya ve Klasör Modülleri/deneme_klasörü')\n"
   ]
  },
  {
   "cell_type": "code",
   "execution_count": 22,
   "id": "25f9a656-1743-4012-ba29-5f1044417914",
   "metadata": {},
   "outputs": [],
   "source": [
    "## os.O_RDONLY - Read Only\n",
    "## os.O_WDONLY - write only\n",
    "## os.O_RDWR   - Read and Write \n",
    "## os.O_CREAT  - Create\n",
    "\n",
    "# yeni bir nesne oluşturmak istiyorsak os.open() metodunun içine parametre olarak il önce dosyamızın adını ve\n",
    "# dosya tipinin uzantısını yazıyoruz. \n",
    "\n",
    "yeni_dosya = os.open(\"yeni_dosya.txt\", os.O_RDWR | os.O_CREAT)\n",
    "os.write(yeni_dosya, \"Merhaba Dünya!\".encode()) # merhaba dünya ifadesi str olduğu için kod hata veriyor \n",
    "# çünkü bu metodda data tipi byte olması gereiyor. ifadenin sonuna encode() fonksiyonunu koyduğumuzda \n",
    "# sorun çözülmüş oluyor. Böylece str ifadeyi byte haline getirmiş oluyoruz.\n",
    "os.close(yeni_dosya)\n",
    "\n",
    "# bu kodla yeni bir dosya açtık ve içine Merhaba Dünya! yazmış olduk.\n",
    "\n",
    "# encode() yazdığımız içen bazı özel karakterler hatalı olabilir. mesela ü gibi."
   ]
  },
  {
   "cell_type": "code",
   "execution_count": 24,
   "id": "cd5bbaee-2212-45d8-a9bb-5f621258d602",
   "metadata": {},
   "outputs": [
    {
     "name": "stdout",
     "output_type": "stream",
     "text": [
      "b'Merha'\n"
     ]
    }
   ],
   "source": [
    "yeni_dosya = os.open(\"yeni_dosya.txt\", os.O_RDONLY)\n",
    "icerik=os.read(yeni_dosya, 5) # read fonkiyonun içine 2 parametre vermek zorundayız. ikinci parametre length ve bu şu anlama geliyor\n",
    "# kaç karakter okuyayayım. bu kodda 5 karakter oku demiş olduk.\n",
    "print(icerik)\n",
    "os.close(yeni_dosya) # open deyip açtığmız dosyayı işimiz bitince close deyip kapatmamız gerekiyor."
   ]
  },
  {
   "cell_type": "code",
   "execution_count": 25,
   "id": "ed6bbad2-cda8-4a1d-9ef7-a4f465b0f0b8",
   "metadata": {},
   "outputs": [
    {
     "name": "stdout",
     "output_type": "stream",
     "text": [
      "os.stat_result(st_mode=33261, st_ino=5570098, st_dev=16777223, st_nlink=1, st_uid=501, st_gid=20, st_size=15, st_atime=1659821823, st_mtime=1659821821, st_ctime=1659821822)\n"
     ]
    }
   ],
   "source": [
    "# diyelimki dosyanın içinde kaçtane karakter olduğunu bilmiyoruz ama hepsi dönsün istiyoruz.\n",
    "\n",
    "\n",
    "yeni_dosya = os.open(\"yeni_dosya.txt\", os.O_RDONLY)\n",
    "istatistik=os.stat(yeni_dosya)\n",
    "print(istatistik)\n",
    "os.close(yeni_dosya)"
   ]
  },
  {
   "cell_type": "code",
   "execution_count": 27,
   "id": "35230ada-2083-4e1f-9ff5-f248609cb445",
   "metadata": {},
   "outputs": [
    {
     "name": "stdout",
     "output_type": "stream",
     "text": [
      "b'Merhaba D\\xc3\\xbcnya!'\n"
     ]
    }
   ],
   "source": [
    "# eldeğettiğimiz koddaki st_size=15 demek oluyorki içerikte toplamda 15 karakter var.\n",
    "yeni_dosya = os.open(\"yeni_dosya.txt\", os.O_RDONLY)\n",
    "uzunluk=os.stat(yeni_dosya).st_size\n",
    "icerik=os.read(yeni_dosya, uzunluk)\n",
    "print(icerik)\n",
    "os.close(yeni_dosya)\n",
    "\n",
    "# Yukarıda bahsettiğimiz encode() işleminini ü karakterini tanımaması problemini de görmüş olacağız."
   ]
  },
  {
   "cell_type": "code",
   "execution_count": 28,
   "id": "e142e8fe-d6ed-4dd6-8f04-8dddb81b4fa6",
   "metadata": {},
   "outputs": [
    {
     "name": "stdout",
     "output_type": "stream",
     "text": [
      "Merhaba Dünya!\n"
     ]
    }
   ],
   "source": [
    "# Bunu düzelmenin yöntemi döndürürken decode() kodunu kullanmak.\n",
    "\n",
    "yeni_dosya = os.open(\"yeni_dosya.txt\", os.O_RDONLY)\n",
    "uzunluk=os.stat(yeni_dosya).st_size\n",
    "icerik=os.read(yeni_dosya, uzunluk)\n",
    "print(icerik.decode())\n",
    "os.close(yeni_dosya)"
   ]
  },
  {
   "cell_type": "code",
   "execution_count": 29,
   "id": "7d71ada1-4ede-41e1-bede-153943d2756e",
   "metadata": {},
   "outputs": [],
   "source": [
    "# işimiz bitti ve dosyamızı silmek istiyoruz.\n",
    "# rmdir den farkı burada bir klasör değil klasörün içindeki dosyaları siliyoruz.\n",
    "os.unlink(\"yeni_dosya.txt\")\n",
    "\n",
    "# hali hazırda dosya kullanılıyorsa silme işlemi olmaz. ama kullanılmıyorsa dosya silinecektir.\n",
    "# dolayısıyla dosyanın kullanılmadığından emin olmak lazım."
   ]
  },
  {
   "cell_type": "code",
   "execution_count": 30,
   "id": "bc7b75b4-d78f-4fe4-96e9-2e8e2b5f4059",
   "metadata": {},
   "outputs": [],
   "source": [
    "# klasör ismini değiştirme. Yeni bir dosya oluşturup isnini değiştireceğiz.\n",
    "os.mkdir(\"deneme_yeni\")"
   ]
  },
  {
   "cell_type": "code",
   "execution_count": 31,
   "id": "fcbd190f-0d33-4f63-a5a8-76fbc8ea4d4f",
   "metadata": {},
   "outputs": [],
   "source": [
    "os.rename(\"deneme_yeni\", \"deneme_eski\")"
   ]
  },
  {
   "cell_type": "code",
   "execution_count": 32,
   "id": "769e5652-f17e-4ce0-bb53-a188d995eeab",
   "metadata": {},
   "outputs": [
    {
     "data": {
      "text/plain": [
       "['deneme_eski', '.ipynb_checkpoints', 'dosya ve klasör modulleri.ipynb']"
      ]
     },
     "execution_count": 32,
     "metadata": {},
     "output_type": "execute_result"
    }
   ],
   "source": [
    "os.listdir()"
   ]
  },
  {
   "cell_type": "code",
   "execution_count": 37,
   "id": "381b66e8-37ba-4116-ac55-e1cda0ee9dc7",
   "metadata": {},
   "outputs": [
    {
     "data": {
      "text/plain": [
       "['__name__',\n",
       " '__doc__',\n",
       " '__package__',\n",
       " '__loader__',\n",
       " '__spec__',\n",
       " '__file__',\n",
       " '__cached__',\n",
       " '__builtins__',\n",
       " 'abc',\n",
       " 'sys',\n",
       " 'st',\n",
       " '_check_methods',\n",
       " 'GenericAlias',\n",
       " '__all__',\n",
       " '_exists',\n",
       " '_get_exports_list',\n",
       " 'name',\n",
       " 'linesep',\n",
       " 'stat',\n",
       " 'access',\n",
       " 'ttyname',\n",
       " 'chdir',\n",
       " 'chflags',\n",
       " 'chmod',\n",
       " 'fchmod',\n",
       " 'lchmod',\n",
       " 'chown',\n",
       " 'fchown',\n",
       " 'lchown',\n",
       " 'lchflags',\n",
       " 'chroot',\n",
       " 'ctermid',\n",
       " 'getcwd',\n",
       " 'getcwdb',\n",
       " 'link',\n",
       " 'listdir',\n",
       " 'lstat',\n",
       " 'mkdir',\n",
       " 'nice',\n",
       " 'getpriority',\n",
       " 'setpriority',\n",
       " 'posix_spawn',\n",
       " 'posix_spawnp',\n",
       " 'readlink',\n",
       " 'rename',\n",
       " 'replace',\n",
       " 'rmdir',\n",
       " 'symlink',\n",
       " 'system',\n",
       " 'umask',\n",
       " 'uname',\n",
       " 'unlink',\n",
       " 'remove',\n",
       " 'utime',\n",
       " 'times',\n",
       " 'execv',\n",
       " 'execve',\n",
       " 'fork',\n",
       " 'register_at_fork',\n",
       " 'sched_get_priority_max',\n",
       " 'sched_get_priority_min',\n",
       " 'sched_yield',\n",
       " 'openpty',\n",
       " 'forkpty',\n",
       " 'getegid',\n",
       " 'geteuid',\n",
       " 'getgid',\n",
       " 'getgrouplist',\n",
       " 'getgroups',\n",
       " 'getpid',\n",
       " 'getpgrp',\n",
       " 'getppid',\n",
       " 'getuid',\n",
       " 'getlogin',\n",
       " 'kill',\n",
       " 'killpg',\n",
       " 'setuid',\n",
       " 'seteuid',\n",
       " 'setreuid',\n",
       " 'setgid',\n",
       " 'setegid',\n",
       " 'setregid',\n",
       " 'setgroups',\n",
       " 'initgroups',\n",
       " 'getpgid',\n",
       " 'setpgrp',\n",
       " 'wait',\n",
       " 'wait3',\n",
       " 'wait4',\n",
       " 'waitpid',\n",
       " 'getsid',\n",
       " 'setsid',\n",
       " 'setpgid',\n",
       " 'tcgetpgrp',\n",
       " 'tcsetpgrp',\n",
       " 'open',\n",
       " 'close',\n",
       " 'closerange',\n",
       " 'device_encoding',\n",
       " 'dup',\n",
       " 'dup2',\n",
       " 'lockf',\n",
       " 'lseek',\n",
       " 'read',\n",
       " 'readv',\n",
       " 'pread',\n",
       " 'write',\n",
       " 'writev',\n",
       " 'pwrite',\n",
       " 'sendfile',\n",
       " 'fstat',\n",
       " 'isatty',\n",
       " 'pipe',\n",
       " 'mkfifo',\n",
       " 'mknod',\n",
       " 'major',\n",
       " 'minor',\n",
       " 'makedev',\n",
       " 'ftruncate',\n",
       " 'truncate',\n",
       " 'putenv',\n",
       " 'unsetenv',\n",
       " 'strerror',\n",
       " 'fchdir',\n",
       " 'fsync',\n",
       " 'sync',\n",
       " 'WCOREDUMP',\n",
       " 'WIFCONTINUED',\n",
       " 'WIFSTOPPED',\n",
       " 'WIFSIGNALED',\n",
       " 'WIFEXITED',\n",
       " 'WEXITSTATUS',\n",
       " 'WTERMSIG',\n",
       " 'WSTOPSIG',\n",
       " 'fstatvfs',\n",
       " 'statvfs',\n",
       " 'confstr',\n",
       " 'sysconf',\n",
       " 'fpathconf',\n",
       " 'pathconf',\n",
       " 'abort',\n",
       " 'getloadavg',\n",
       " 'urandom',\n",
       " 'get_terminal_size',\n",
       " 'cpu_count',\n",
       " 'get_inheritable',\n",
       " 'set_inheritable',\n",
       " 'get_blocking',\n",
       " 'set_blocking',\n",
       " 'scandir',\n",
       " 'fspath',\n",
       " 'waitstatus_to_exitcode',\n",
       " 'environ',\n",
       " 'F_OK',\n",
       " 'R_OK',\n",
       " 'W_OK',\n",
       " 'X_OK',\n",
       " 'NGROUPS_MAX',\n",
       " 'TMP_MAX',\n",
       " 'WCONTINUED',\n",
       " 'WNOHANG',\n",
       " 'WUNTRACED',\n",
       " 'O_RDONLY',\n",
       " 'O_WRONLY',\n",
       " 'O_RDWR',\n",
       " 'O_NDELAY',\n",
       " 'O_NONBLOCK',\n",
       " 'O_APPEND',\n",
       " 'O_DSYNC',\n",
       " 'O_SYNC',\n",
       " 'O_NOCTTY',\n",
       " 'O_CREAT',\n",
       " 'O_EXCL',\n",
       " 'O_TRUNC',\n",
       " 'O_SHLOCK',\n",
       " 'O_EXLOCK',\n",
       " 'PRIO_PROCESS',\n",
       " 'PRIO_PGRP',\n",
       " 'PRIO_USER',\n",
       " 'O_CLOEXEC',\n",
       " 'O_ACCMODE',\n",
       " 'O_ASYNC',\n",
       " 'O_DIRECTORY',\n",
       " 'O_NOFOLLOW',\n",
       " 'EX_OK',\n",
       " 'EX_USAGE',\n",
       " 'EX_DATAERR',\n",
       " 'EX_NOINPUT',\n",
       " 'EX_NOUSER',\n",
       " 'EX_NOHOST',\n",
       " 'EX_UNAVAILABLE',\n",
       " 'EX_SOFTWARE',\n",
       " 'EX_OSERR',\n",
       " 'EX_OSFILE',\n",
       " 'EX_CANTCREAT',\n",
       " 'EX_IOERR',\n",
       " 'EX_TEMPFAIL',\n",
       " 'EX_PROTOCOL',\n",
       " 'EX_NOPERM',\n",
       " 'EX_CONFIG',\n",
       " 'ST_RDONLY',\n",
       " 'ST_NOSUID',\n",
       " 'P_PID',\n",
       " 'P_PGID',\n",
       " 'P_ALL',\n",
       " 'WEXITED',\n",
       " 'WNOWAIT',\n",
       " 'WSTOPPED',\n",
       " 'CLD_EXITED',\n",
       " 'CLD_KILLED',\n",
       " 'CLD_DUMPED',\n",
       " 'CLD_TRAPPED',\n",
       " 'CLD_STOPPED',\n",
       " 'CLD_CONTINUED',\n",
       " 'F_LOCK',\n",
       " 'F_TLOCK',\n",
       " 'F_ULOCK',\n",
       " 'F_TEST',\n",
       " 'POSIX_SPAWN_OPEN',\n",
       " 'POSIX_SPAWN_CLOSE',\n",
       " 'POSIX_SPAWN_DUP2',\n",
       " 'SCHED_OTHER',\n",
       " 'SCHED_FIFO',\n",
       " 'SCHED_RR',\n",
       " 'RTLD_LAZY',\n",
       " 'RTLD_NOW',\n",
       " 'RTLD_GLOBAL',\n",
       " 'RTLD_LOCAL',\n",
       " 'RTLD_NODELETE',\n",
       " 'RTLD_NOLOAD',\n",
       " 'pathconf_names',\n",
       " 'confstr_names',\n",
       " 'sysconf_names',\n",
       " 'error',\n",
       " 'stat_result',\n",
       " 'statvfs_result',\n",
       " 'terminal_size',\n",
       " 'DirEntry',\n",
       " 'times_result',\n",
       " 'uname_result',\n",
       " '_exit',\n",
       " 'path',\n",
       " 'curdir',\n",
       " 'pardir',\n",
       " 'sep',\n",
       " 'pathsep',\n",
       " 'defpath',\n",
       " 'extsep',\n",
       " 'altsep',\n",
       " 'devnull',\n",
       " 'supports_dir_fd',\n",
       " 'supports_effective_ids',\n",
       " 'supports_fd',\n",
       " 'supports_follow_symlinks',\n",
       " 'SEEK_SET',\n",
       " 'SEEK_CUR',\n",
       " 'SEEK_END',\n",
       " 'makedirs',\n",
       " 'removedirs',\n",
       " 'renames',\n",
       " 'walk',\n",
       " '_walk',\n",
       " 'fwalk',\n",
       " '_fwalk',\n",
       " 'execl',\n",
       " 'execle',\n",
       " 'execlp',\n",
       " 'execlpe',\n",
       " 'execvp',\n",
       " 'execvpe',\n",
       " '_execvpe',\n",
       " 'get_exec_path',\n",
       " 'MutableMapping',\n",
       " 'Mapping',\n",
       " '_Environ',\n",
       " 'getenv',\n",
       " 'supports_bytes_environ',\n",
       " 'environb',\n",
       " 'getenvb',\n",
       " 'fsencode',\n",
       " 'fsdecode',\n",
       " 'P_WAIT',\n",
       " 'P_NOWAIT',\n",
       " 'P_NOWAITO',\n",
       " '_spawnvef',\n",
       " 'spawnv',\n",
       " 'spawnve',\n",
       " 'spawnvp',\n",
       " 'spawnvpe',\n",
       " 'spawnl',\n",
       " 'spawnle',\n",
       " 'spawnlp',\n",
       " 'spawnlpe',\n",
       " 'popen',\n",
       " '_wrap_close',\n",
       " 'fdopen',\n",
       " '_fspath',\n",
       " 'PathLike']"
      ]
     },
     "execution_count": 37,
     "metadata": {},
     "output_type": "execute_result"
    }
   ],
   "source": [
    "os.__dir__()"
   ]
  },
  {
   "cell_type": "code",
   "execution_count": null,
   "id": "c072d195-a993-49ca-a382-f1f56ad9abab",
   "metadata": {},
   "outputs": [],
   "source": []
  }
 ],
 "metadata": {
  "kernelspec": {
   "display_name": "Python 3 (ipykernel)",
   "language": "python",
   "name": "python3"
  },
  "language_info": {
   "codemirror_mode": {
    "name": "ipython",
    "version": 3
   },
   "file_extension": ".py",
   "mimetype": "text/x-python",
   "name": "python",
   "nbconvert_exporter": "python",
   "pygments_lexer": "ipython3",
   "version": "3.9.12"
  }
 },
 "nbformat": 4,
 "nbformat_minor": 5
}
